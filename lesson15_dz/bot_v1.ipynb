{
 "cells": [
  {
   "cell_type": "code",
   "execution_count": 1,
   "source": [
    "from telegram.ext  import Updater, CommandHandler, MessageHandler, Filters"
   ],
   "outputs": [],
   "metadata": {}
  },
  {
   "cell_type": "markdown",
   "source": [
    "t.me/true_goroskop_bot.\r\n",
    "\r\n",
    "1974107603:AAH2it1hmNkTA-5EbYN-aDq2oUKNwusRbZQ"
   ],
   "metadata": {}
  },
  {
   "cell_type": "code",
   "execution_count": 2,
   "source": [
    "updater = Updater(token='1974107603:AAH2it1hmNkTA-5EbYN-aDq2oUKNwusRbZQ')\r\n",
    "dispatcher = updater.dispatcher"
   ],
   "outputs": [],
   "metadata": {}
  },
  {
   "cell_type": "code",
   "execution_count": 3,
   "source": [
    "def start(update, context):\r\n",
    "    context.bot.send_message(\r\n",
    "        chat_id=update.effective_chat.id, \r\n",
    "        text=\"Привет, сейчас ты приобщишься к нейромудрости!\\nНапиши несколько слов и мудрая нейросеть сделает из них вселенскую истину.\"\r\n",
    "    )\r\n",
    "\r\n",
    "def echo(update, context):\r\n",
    "    context.bot.send_message(\r\n",
    "        chat_id=update.effective_chat.id,\r\n",
    "        text=update.message.text\r\n",
    "    )"
   ],
   "outputs": [],
   "metadata": {}
  },
  {
   "cell_type": "code",
   "execution_count": 4,
   "source": [
    "from telegram.ext import CommandHandler\r\n",
    "start_handler = CommandHandler('start', start)\r\n",
    "dispatcher.add_handler(start_handler)"
   ],
   "outputs": [],
   "metadata": {}
  },
  {
   "cell_type": "code",
   "execution_count": 5,
   "source": [
    "from telegram.ext import MessageHandler, Filters"
   ],
   "outputs": [],
   "metadata": {}
  },
  {
   "cell_type": "code",
   "execution_count": 6,
   "source": [
    "from transformers import pipeline\r\n",
    "\r\n",
    "wise_words = pipeline(\r\n",
    "    \"text-generation\",\r\n",
    "    model='./overminds',\r\n",
    "    tokenizer='sberbank-ai/rugpt3small_based_on_gpt2',   \r\n",
    "    )"
   ],
   "outputs": [
    {
     "output_type": "stream",
     "name": "stderr",
     "text": [
      "C:\\Users\\zald\\AppData\\Roaming\\Python\\Python39\\site-packages\\torchaudio\\extension\\extension.py:13: UserWarning: torchaudio C++ extension is not available.\n",
      "  warnings.warn('torchaudio C++ extension is not available.')\n",
      "Special tokens have been added in the vocabulary, make sure the associated word embeddings are fine-tuned or trained.\n"
     ]
    }
   ],
   "metadata": {}
  },
  {
   "cell_type": "code",
   "execution_count": 7,
   "source": [
    "a = wise_words('Отец сказал сыну')[0]['generated_text']"
   ],
   "outputs": [
    {
     "output_type": "stream",
     "name": "stderr",
     "text": [
      "Setting `pad_token_id` to `eos_token_id`:50256 for open-end generation.\n"
     ]
    }
   ],
   "metadata": {}
  },
  {
   "cell_type": "code",
   "execution_count": 8,
   "source": [
    "def echo(update, context):\r\n",
    "    txt = update.message.text   \r\n",
    "    update.message.reply_text('Ваше сообщение! ' + txt)\r\n",
    "\r\n",
    "def wiseficator(text:str):\r\n",
    "    return wise_words(text)\r\n",
    "\r\n",
    "def send_message(update, context):\r\n",
    "    txt = update.message.text\r\n",
    "    some_wise = wise_words(txt)[0]['generated_text']\r\n",
    "    update.message.reply_text(str(some_wise))"
   ],
   "outputs": [],
   "metadata": {}
  },
  {
   "cell_type": "code",
   "execution_count": 9,
   "source": [
    "dispatcher.add_handler(CommandHandler(\"start\", start))\r\n",
    "dispatcher.add_handler(MessageHandler(Filters.text & ~Filters.command, send_message))\r\n",
    "\r\n",
    "# Start the Bot\r\n",
    "updater.start_polling()\r\n",
    "updater.idle()"
   ],
   "outputs": [
    {
     "output_type": "stream",
     "name": "stderr",
     "text": [
      "Setting `pad_token_id` to `eos_token_id`:50256 for open-end generation.\n",
      "Setting `pad_token_id` to `eos_token_id`:50256 for open-end generation.\n",
      "Setting `pad_token_id` to `eos_token_id`:50256 for open-end generation.\n",
      "Setting `pad_token_id` to `eos_token_id`:50256 for open-end generation.\n",
      "Setting `pad_token_id` to `eos_token_id`:50256 for open-end generation.\n",
      "Setting `pad_token_id` to `eos_token_id`:50256 for open-end generation.\n"
     ]
    }
   ],
   "metadata": {}
  },
  {
   "cell_type": "markdown",
   "source": [
    "В итоге у меня получился бот который пытается сказать мудрость! Для ботя я выбрал модель сбербанка sberbank-ai/rugpt3small_based_on_gpt2(средняя и большая даже с 1м батчем не влезли в мои 6гб оперативки видеокарты). Спарсил сайт https://vse-shutochki.ru/citaty и на его основе переучил модель. Иногда хочется даже проверить действительно ли он придумывает, слишком правдоподобно получается некоторые фразы."
   ],
   "metadata": {}
  }
 ],
 "metadata": {
  "orig_nbformat": 4,
  "language_info": {
   "name": "python",
   "version": "3.9.5",
   "mimetype": "text/x-python",
   "codemirror_mode": {
    "name": "ipython",
    "version": 3
   },
   "pygments_lexer": "ipython3",
   "nbconvert_exporter": "python",
   "file_extension": ".py"
  },
  "kernelspec": {
   "name": "python3",
   "display_name": "Python 3.9.5 64-bit"
  },
  "interpreter": {
   "hash": "9dc16db89c7b7868c1bda26003793495fc53e348f30248cc96f0b4588f8ccbba"
  }
 },
 "nbformat": 4,
 "nbformat_minor": 2
}