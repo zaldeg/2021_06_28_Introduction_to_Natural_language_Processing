{
 "cells": [
  {
   "cell_type": "code",
   "execution_count": 1,
   "source": [
    "import pandas as pd\r\n",
    "import numpy as np"
   ],
   "outputs": [],
   "metadata": {}
  },
  {
   "cell_type": "code",
   "execution_count": 2,
   "source": [
    "df = pd.read_excel('отзывы за лето.xls')"
   ],
   "outputs": [],
   "metadata": {}
  },
  {
   "cell_type": "code",
   "execution_count": 3,
   "source": [
    "df.drop('Date', axis=1, inplace=True)"
   ],
   "outputs": [],
   "metadata": {}
  },
  {
   "cell_type": "code",
   "execution_count": 4,
   "source": [
    "df.head(5)"
   ],
   "outputs": [
    {
     "output_type": "execute_result",
     "data": {
      "text/plain": [
       "   Rating                                            Content\n",
       "0       5                                     It just works!\n",
       "1       4  В целом удобноное приложение...из минусов хотя...\n",
       "2       5                                        Отлично все\n",
       "3       5  Стал зависать на 1% работы антивируса. Дальше ...\n",
       "4       5                     Очень удобно, работает быстро."
      ],
      "text/html": [
       "<div>\n",
       "<style scoped>\n",
       "    .dataframe tbody tr th:only-of-type {\n",
       "        vertical-align: middle;\n",
       "    }\n",
       "\n",
       "    .dataframe tbody tr th {\n",
       "        vertical-align: top;\n",
       "    }\n",
       "\n",
       "    .dataframe thead th {\n",
       "        text-align: right;\n",
       "    }\n",
       "</style>\n",
       "<table border=\"1\" class=\"dataframe\">\n",
       "  <thead>\n",
       "    <tr style=\"text-align: right;\">\n",
       "      <th></th>\n",
       "      <th>Rating</th>\n",
       "      <th>Content</th>\n",
       "    </tr>\n",
       "  </thead>\n",
       "  <tbody>\n",
       "    <tr>\n",
       "      <th>0</th>\n",
       "      <td>5</td>\n",
       "      <td>It just works!</td>\n",
       "    </tr>\n",
       "    <tr>\n",
       "      <th>1</th>\n",
       "      <td>4</td>\n",
       "      <td>В целом удобноное приложение...из минусов хотя...</td>\n",
       "    </tr>\n",
       "    <tr>\n",
       "      <th>2</th>\n",
       "      <td>5</td>\n",
       "      <td>Отлично все</td>\n",
       "    </tr>\n",
       "    <tr>\n",
       "      <th>3</th>\n",
       "      <td>5</td>\n",
       "      <td>Стал зависать на 1% работы антивируса. Дальше ...</td>\n",
       "    </tr>\n",
       "    <tr>\n",
       "      <th>4</th>\n",
       "      <td>5</td>\n",
       "      <td>Очень удобно, работает быстро.</td>\n",
       "    </tr>\n",
       "  </tbody>\n",
       "</table>\n",
       "</div>"
      ]
     },
     "metadata": {},
     "execution_count": 4
    }
   ],
   "metadata": {}
  },
  {
   "cell_type": "code",
   "execution_count": 5,
   "source": [
    "df.rename(columns={\"Rating\": \"class\", \"Content\": \"text\"}, inplace=True)"
   ],
   "outputs": [],
   "metadata": {}
  },
  {
   "cell_type": "code",
   "execution_count": 6,
   "source": [
    "from sklearn.model_selection import train_test_split"
   ],
   "outputs": [],
   "metadata": {}
  },
  {
   "cell_type": "code",
   "execution_count": 7,
   "source": [
    "max_words = 2000 \r\n",
    "max_len = 20\r\n",
    "num_classes = 6\r\n",
    "\r\n",
    "# Training\r\n",
    "epochs = 20\r\n",
    "batch_size = 16\r\n",
    "print_batch_n = 100"
   ],
   "outputs": [],
   "metadata": {}
  },
  {
   "cell_type": "code",
   "execution_count": 8,
   "source": [
    "df_train, for_test = train_test_split(df, test_size=0.35,  shuffle=True)\r\n",
    "df_test, df_val = train_test_split(for_test, test_size=0.42, shuffle=True)"
   ],
   "outputs": [],
   "metadata": {}
  },
  {
   "cell_type": "code",
   "execution_count": 9,
   "source": [
    "df_train.head(5)"
   ],
   "outputs": [
    {
     "output_type": "execute_result",
     "data": {
      "text/plain": [
       "       class                                               text\n",
       "17526      1                                     Только Шаблоны\n",
       "17770      4                             нехочет работать с NFC\n",
       "11647      5                      Спасибо, что вы всегда рядом!\n",
       "3525       5  Удобное и понятное приложение. 4-ка только за ...\n",
       "15119      4                                 Удобное приложение"
      ],
      "text/html": [
       "<div>\n",
       "<style scoped>\n",
       "    .dataframe tbody tr th:only-of-type {\n",
       "        vertical-align: middle;\n",
       "    }\n",
       "\n",
       "    .dataframe tbody tr th {\n",
       "        vertical-align: top;\n",
       "    }\n",
       "\n",
       "    .dataframe thead th {\n",
       "        text-align: right;\n",
       "    }\n",
       "</style>\n",
       "<table border=\"1\" class=\"dataframe\">\n",
       "  <thead>\n",
       "    <tr style=\"text-align: right;\">\n",
       "      <th></th>\n",
       "      <th>class</th>\n",
       "      <th>text</th>\n",
       "    </tr>\n",
       "  </thead>\n",
       "  <tbody>\n",
       "    <tr>\n",
       "      <th>17526</th>\n",
       "      <td>1</td>\n",
       "      <td>Только Шаблоны</td>\n",
       "    </tr>\n",
       "    <tr>\n",
       "      <th>17770</th>\n",
       "      <td>4</td>\n",
       "      <td>нехочет работать с NFC</td>\n",
       "    </tr>\n",
       "    <tr>\n",
       "      <th>11647</th>\n",
       "      <td>5</td>\n",
       "      <td>Спасибо, что вы всегда рядом!</td>\n",
       "    </tr>\n",
       "    <tr>\n",
       "      <th>3525</th>\n",
       "      <td>5</td>\n",
       "      <td>Удобное и понятное приложение. 4-ка только за ...</td>\n",
       "    </tr>\n",
       "    <tr>\n",
       "      <th>15119</th>\n",
       "      <td>4</td>\n",
       "      <td>Удобное приложение</td>\n",
       "    </tr>\n",
       "  </tbody>\n",
       "</table>\n",
       "</div>"
      ]
     },
     "metadata": {},
     "execution_count": 9
    }
   ],
   "metadata": {}
  },
  {
   "cell_type": "code",
   "execution_count": 10,
   "source": [
    "df_test.head(5)"
   ],
   "outputs": [
    {
     "output_type": "execute_result",
     "data": {
      "text/plain": [
       "       class                                               text\n",
       "2872       5  Только установил но уже нравиться по-моему оче...\n",
       "5039       5                   Программа супер. Очень выручает.\n",
       "749        5                                Все быстро и удобно\n",
       "15177      5                                                 Ок\n",
       "18527      5                Перевожу, оплату делаю, все хорошо!"
      ],
      "text/html": [
       "<div>\n",
       "<style scoped>\n",
       "    .dataframe tbody tr th:only-of-type {\n",
       "        vertical-align: middle;\n",
       "    }\n",
       "\n",
       "    .dataframe tbody tr th {\n",
       "        vertical-align: top;\n",
       "    }\n",
       "\n",
       "    .dataframe thead th {\n",
       "        text-align: right;\n",
       "    }\n",
       "</style>\n",
       "<table border=\"1\" class=\"dataframe\">\n",
       "  <thead>\n",
       "    <tr style=\"text-align: right;\">\n",
       "      <th></th>\n",
       "      <th>class</th>\n",
       "      <th>text</th>\n",
       "    </tr>\n",
       "  </thead>\n",
       "  <tbody>\n",
       "    <tr>\n",
       "      <th>2872</th>\n",
       "      <td>5</td>\n",
       "      <td>Только установил но уже нравиться по-моему оче...</td>\n",
       "    </tr>\n",
       "    <tr>\n",
       "      <th>5039</th>\n",
       "      <td>5</td>\n",
       "      <td>Программа супер. Очень выручает.</td>\n",
       "    </tr>\n",
       "    <tr>\n",
       "      <th>749</th>\n",
       "      <td>5</td>\n",
       "      <td>Все быстро и удобно</td>\n",
       "    </tr>\n",
       "    <tr>\n",
       "      <th>15177</th>\n",
       "      <td>5</td>\n",
       "      <td>Ок</td>\n",
       "    </tr>\n",
       "    <tr>\n",
       "      <th>18527</th>\n",
       "      <td>5</td>\n",
       "      <td>Перевожу, оплату делаю, все хорошо!</td>\n",
       "    </tr>\n",
       "  </tbody>\n",
       "</table>\n",
       "</div>"
      ]
     },
     "metadata": {},
     "execution_count": 10
    }
   ],
   "metadata": {}
  },
  {
   "cell_type": "code",
   "execution_count": 11,
   "source": [
    "df_val.head()"
   ],
   "outputs": [
    {
     "output_type": "execute_result",
     "data": {
      "text/plain": [
       "       class                                               text\n",
       "15369      5  Все отлично, но с шаблонами бывают проблемы, з...\n",
       "9842       4  Предложением пользуюсь давно. Очень нравиться,...\n",
       "2335       3  Изначально всё устраивало, но вот уже нескольк...\n",
       "11208      4                                     Удобный сервис\n",
       "15875      5                         Настоящий верный помошник)"
      ],
      "text/html": [
       "<div>\n",
       "<style scoped>\n",
       "    .dataframe tbody tr th:only-of-type {\n",
       "        vertical-align: middle;\n",
       "    }\n",
       "\n",
       "    .dataframe tbody tr th {\n",
       "        vertical-align: top;\n",
       "    }\n",
       "\n",
       "    .dataframe thead th {\n",
       "        text-align: right;\n",
       "    }\n",
       "</style>\n",
       "<table border=\"1\" class=\"dataframe\">\n",
       "  <thead>\n",
       "    <tr style=\"text-align: right;\">\n",
       "      <th></th>\n",
       "      <th>class</th>\n",
       "      <th>text</th>\n",
       "    </tr>\n",
       "  </thead>\n",
       "  <tbody>\n",
       "    <tr>\n",
       "      <th>15369</th>\n",
       "      <td>5</td>\n",
       "      <td>Все отлично, но с шаблонами бывают проблемы, з...</td>\n",
       "    </tr>\n",
       "    <tr>\n",
       "      <th>9842</th>\n",
       "      <td>4</td>\n",
       "      <td>Предложением пользуюсь давно. Очень нравиться,...</td>\n",
       "    </tr>\n",
       "    <tr>\n",
       "      <th>2335</th>\n",
       "      <td>3</td>\n",
       "      <td>Изначально всё устраивало, но вот уже нескольк...</td>\n",
       "    </tr>\n",
       "    <tr>\n",
       "      <th>11208</th>\n",
       "      <td>4</td>\n",
       "      <td>Удобный сервис</td>\n",
       "    </tr>\n",
       "    <tr>\n",
       "      <th>15875</th>\n",
       "      <td>5</td>\n",
       "      <td>Настоящий верный помошник)</td>\n",
       "    </tr>\n",
       "  </tbody>\n",
       "</table>\n",
       "</div>"
      ]
     },
     "metadata": {},
     "execution_count": 11
    }
   ],
   "metadata": {}
  },
  {
   "cell_type": "code",
   "execution_count": 12,
   "source": [
    "from string import punctuation\r\n",
    "from stop_words import get_stop_words\r\n",
    "from pymorphy2 import MorphAnalyzer\r\n",
    "import re"
   ],
   "outputs": [],
   "metadata": {}
  },
  {
   "cell_type": "code",
   "execution_count": 13,
   "source": [
    "sw = set(get_stop_words(\"ru\"))\r\n",
    "exclude = set(punctuation)\r\n",
    "morpher = MorphAnalyzer()\r\n",
    "\r\n",
    "# по сути тут не нужен препроцессинг, кроме токинизаии и лемматизации\r\n",
    "# оставлю от твиттера.\r\n",
    "def preprocess_text(txt):\r\n",
    "    txt = str(txt)\r\n",
    "    txt = \"\".join(c for c in txt if c not in exclude)\r\n",
    "    txt = txt.lower()\r\n",
    "    txt = re.sub(\"\\sне\", \"не\", txt)\r\n",
    "    txt = [morpher.parse(word)[0].normal_form for word in txt.split() if word not in sw]\r\n",
    "    return \" \".join(txt)\r\n",
    "\r\n",
    "df_train['text'] = df_train['text'].apply(preprocess_text)\r\n",
    "df_val['text'] = df_val['text'].apply(preprocess_text)\r\n",
    "df_test['text'] = df_test['text'].apply(preprocess_text)"
   ],
   "outputs": [
    {
     "output_type": "stream",
     "name": "stderr",
     "text": [
      "<ipython-input-13-254a6bd4a4ca>:15: SettingWithCopyWarning: \n",
      "A value is trying to be set on a copy of a slice from a DataFrame.\n",
      "Try using .loc[row_indexer,col_indexer] = value instead\n",
      "\n",
      "See the caveats in the documentation: https://pandas.pydata.org/pandas-docs/stable/user_guide/indexing.html#returning-a-view-versus-a-copy\n",
      "  df_train['text'] = df_train['text'].apply(preprocess_text)\n",
      "<ipython-input-13-254a6bd4a4ca>:16: SettingWithCopyWarning: \n",
      "A value is trying to be set on a copy of a slice from a DataFrame.\n",
      "Try using .loc[row_indexer,col_indexer] = value instead\n",
      "\n",
      "See the caveats in the documentation: https://pandas.pydata.org/pandas-docs/stable/user_guide/indexing.html#returning-a-view-versus-a-copy\n",
      "  df_val['text'] = df_val['text'].apply(preprocess_text)\n",
      "<ipython-input-13-254a6bd4a4ca>:17: SettingWithCopyWarning: \n",
      "A value is trying to be set on a copy of a slice from a DataFrame.\n",
      "Try using .loc[row_indexer,col_indexer] = value instead\n",
      "\n",
      "See the caveats in the documentation: https://pandas.pydata.org/pandas-docs/stable/user_guide/indexing.html#returning-a-view-versus-a-copy\n",
      "  df_test['text'] = df_test['text'].apply(preprocess_text)\n"
     ]
    }
   ],
   "metadata": {}
  },
  {
   "cell_type": "code",
   "execution_count": 14,
   "source": [
    "train_corpus = \" \".join(df_train[\"text\"])\r\n",
    "train_corpus = train_corpus.lower()"
   ],
   "outputs": [],
   "metadata": {}
  },
  {
   "cell_type": "code",
   "execution_count": 15,
   "source": [
    "import nltk\r\n",
    "from nltk.tokenize import word_tokenize\r\n",
    "nltk.download(\"punkt\")\r\n",
    "\r\n",
    "tokens = word_tokenize(train_corpus)"
   ],
   "outputs": [
    {
     "output_type": "stream",
     "name": "stderr",
     "text": [
      "[nltk_data] Downloading package punkt to\n",
      "[nltk_data]     C:\\Users\\zald\\AppData\\Roaming\\nltk_data...\n",
      "[nltk_data]   Package punkt is already up-to-date!\n"
     ]
    }
   ],
   "metadata": {}
  },
  {
   "cell_type": "code",
   "execution_count": 16,
   "source": [
    "tokens_filtered = [word for word in tokens if word.isalnum()]"
   ],
   "outputs": [],
   "metadata": {}
  },
  {
   "cell_type": "code",
   "execution_count": 17,
   "source": [
    "from nltk.probability import FreqDist\r\n",
    "dist = FreqDist(tokens_filtered)\r\n",
    "tokens_filtered_top = [pair[0] for pair in dist.most_common(max_words-1)]"
   ],
   "outputs": [],
   "metadata": {}
  },
  {
   "cell_type": "code",
   "execution_count": 18,
   "source": [
    "tokens_filtered_top[:10]"
   ],
   "outputs": [
    {
     "output_type": "execute_result",
     "data": {
      "text/plain": [
       "['приложение',\n",
       " 'удобно',\n",
       " 'работать',\n",
       " 'удобный',\n",
       " 'отлично',\n",
       " 'нравиться',\n",
       " 'хороший',\n",
       " 'отличный',\n",
       " 'телефон',\n",
       " 'супер']"
      ]
     },
     "metadata": {},
     "execution_count": 18
    }
   ],
   "metadata": {}
  },
  {
   "cell_type": "code",
   "execution_count": 19,
   "source": [
    "vocabulary = {v: k for k, v in dict(enumerate(tokens_filtered_top, 1)).items()}"
   ],
   "outputs": [],
   "metadata": {}
  },
  {
   "cell_type": "code",
   "execution_count": 20,
   "source": [
    "import numpy as np\r\n",
    "\r\n",
    "def text_to_sequence(text, maxlen):\r\n",
    "    result = []\r\n",
    "    tokens = word_tokenize(text.lower())\r\n",
    "    tokens_filtered = [word for word in tokens if word.isalnum()]\r\n",
    "    for word in tokens_filtered:\r\n",
    "        if word in vocabulary:\r\n",
    "            result.append(vocabulary[word])\r\n",
    "    padding = [0]*(maxlen-len(result))\r\n",
    "    return padding + result[-maxlen:]"
   ],
   "outputs": [],
   "metadata": {}
  },
  {
   "cell_type": "code",
   "execution_count": 21,
   "source": [
    "x_train = np.asarray([text_to_sequence(text, max_len) for text in df_train[\"text\"]], dtype=np.int32)\r\n",
    "x_test = np.asarray([text_to_sequence(text, max_len) for text in df_test[\"text\"]], dtype=np.int32)\r\n",
    "x_val = np.asarray([text_to_sequence(text, max_len) for text in df_val[\"text\"]], dtype=np.int32)"
   ],
   "outputs": [],
   "metadata": {}
  },
  {
   "cell_type": "code",
   "execution_count": 22,
   "source": [
    "x_train.shape, max_len"
   ],
   "outputs": [
    {
     "output_type": "execute_result",
     "data": {
      "text/plain": [
       "((13428, 20), 20)"
      ]
     },
     "metadata": {},
     "execution_count": 22
    }
   ],
   "metadata": {}
  },
  {
   "cell_type": "code",
   "execution_count": 23,
   "source": [
    "x_train[2]"
   ],
   "outputs": [
    {
     "output_type": "execute_result",
     "data": {
      "text/plain": [
       "array([0, 0, 0, 0, 0, 0, 0, 0, 0, 0, 0, 0, 0, 0, 0, 0, 0, 0, 0, 0])"
      ]
     },
     "metadata": {},
     "execution_count": 23
    }
   ],
   "metadata": {}
  },
  {
   "cell_type": "code",
   "execution_count": 24,
   "source": [
    "import numpy as np\r\n",
    "import keras\r\n",
    "from keras.models import Sequential, Model\r\n",
    "from keras.layers import Dense, Dropout, Activation, Input, Embedding, Conv1D, GlobalMaxPool1D\r\n",
    "from keras.preprocessing.text import Tokenizer\r\n",
    "from keras.preprocessing.sequence import pad_sequences\r\n",
    "from keras.callbacks import TensorBoard \r\n",
    "from keras.metrics import categorical_crossentropy\r\n",
    "from keras.callbacks import EarlyStopping"
   ],
   "outputs": [],
   "metadata": {}
  },
  {
   "cell_type": "code",
   "execution_count": 25,
   "source": [
    "import tensorflow as tf\r\n",
    "y_train = tf.keras.utils.to_categorical(df_train[\"class\"], num_classes)\r\n",
    "y_val = tf.keras.utils.to_categorical(df_val[\"class\"], num_classes)"
   ],
   "outputs": [],
   "metadata": {}
  },
  {
   "cell_type": "code",
   "execution_count": 26,
   "source": [
    "model = Sequential()\r\n",
    "model.add(Embedding(input_dim=max_words, output_dim=128, input_length=max_len))\r\n",
    "model.add(Conv1D(128, 5))\r\n",
    "model.add(Activation(\"relu\"))\r\n",
    "model.add(GlobalMaxPool1D())\r\n",
    "\r\n",
    "# model.add(Dense(1))\r\n",
    "# model.add(Activation(\"relu\"))\r\n",
    "model.add(Dense(num_classes))\r\n",
    "model.add(Activation('softmax'))"
   ],
   "outputs": [],
   "metadata": {}
  },
  {
   "cell_type": "code",
   "execution_count": 27,
   "source": [
    "model.compile(\r\n",
    "    loss='categorical_crossentropy',\r\n",
    "    optimizer='adam',\r\n",
    "    metrics=['accuracy']\r\n",
    ")"
   ],
   "outputs": [],
   "metadata": {}
  },
  {
   "cell_type": "code",
   "execution_count": 28,
   "source": [
    "tensorboard=TensorBoard(log_dir='./logs', write_graph=True, write_images=True)\r\n",
    "early_stopping=EarlyStopping(monitor='val_loss')  \r\n",
    "\r\n",
    "\r\n",
    "history = model.fit(x_train, y_train,\r\n",
    "                    batch_size=batch_size,\r\n",
    "                    epochs=epochs,\r\n",
    "                    verbose=1,\r\n",
    "                    validation_split=0.1,\r\n",
    "                    callbacks=[tensorboard, early_stopping])"
   ],
   "outputs": [
    {
     "output_type": "stream",
     "name": "stdout",
     "text": [
      "Epoch 1/20\n",
      "756/756 [==============================] - 21s 7ms/step - loss: 0.8457 - accuracy: 0.7356 - val_loss: 0.6647 - val_accuracy: 0.7796\n"
     ]
    }
   ],
   "metadata": {}
  },
  {
   "cell_type": "code",
   "execution_count": 29,
   "source": [
    "score = model.evaluate(x_val, y_val, batch_size=batch_size, verbose=1)\r\n",
    "print('\\n')\r\n",
    "print('Test score:', score[0])\r\n",
    "print('Test accuracy:', score[1])"
   ],
   "outputs": [
    {
     "output_type": "stream",
     "name": "stdout",
     "text": [
      "190/190 [==============================] - 1s 3ms/step - loss: 0.6601 - accuracy: 0.7791\n",
      "\n",
      "\n",
      "Test score: 0.6601474285125732\n",
      "Test accuracy: 0.7791309952735901\n"
     ]
    }
   ],
   "metadata": {}
  },
  {
   "cell_type": "code",
   "execution_count": 30,
   "source": [
    "def different_convalutions(conv=(2,2)):\r\n",
    "    results = []\r\n",
    "    for temp_conv in range(conv[0], conv[1]+1):\r\n",
    "        model = Sequential()\r\n",
    "        model.add(Embedding(input_dim=max_words, output_dim=128, input_length=max_len))\r\n",
    "        model.add(Conv1D(128, temp_conv))\r\n",
    "        model.add(Activation(\"relu\"))\r\n",
    "        model.add(GlobalMaxPool1D())\r\n",
    "        model.add(Activation(\"relu\"))\r\n",
    "        model.add(Dense(num_classes))\r\n",
    "        model.add(Activation('softmax'))\r\n",
    "\r\n",
    "        model.compile(\r\n",
    "            loss='categorical_crossentropy',\r\n",
    "            optimizer='adam',\r\n",
    "            metrics=['accuracy']\r\n",
    "        )\r\n",
    "        tensorboard=TensorBoard(log_dir='./logs', write_graph=True, write_images=True)\r\n",
    "        early_stopping=EarlyStopping(monitor='val_loss')  \r\n",
    "\r\n",
    "\r\n",
    "        history = model.fit(x_train, y_train,\r\n",
    "                            batch_size=batch_size,\r\n",
    "                            epochs=epochs,\r\n",
    "                            verbose=1,\r\n",
    "                            validation_split=0.1,\r\n",
    "                            callbacks=[tensorboard, early_stopping])\r\n",
    "        # results.append((history.history, temp_conv))\r\n",
    "        results.append(history.history)\r\n",
    "    return results, [i for i in range(conv[0], conv[1]+1)]\r\n",
    "        "
   ],
   "outputs": [],
   "metadata": {}
  },
  {
   "cell_type": "code",
   "execution_count": 31,
   "source": [
    "res = different_convalutions((1,15))"
   ],
   "outputs": [
    {
     "output_type": "stream",
     "name": "stdout",
     "text": [
      "Epoch 1/20\n",
      "756/756 [==============================] - 7s 8ms/step - loss: 0.8907 - accuracy: 0.7263 - val_loss: 0.6543 - val_accuracy: 0.7796\n",
      "Epoch 1/20\n",
      "756/756 [==============================] - 7s 8ms/step - loss: 0.8792 - accuracy: 0.7220 - val_loss: 0.6541 - val_accuracy: 0.7684\n",
      "Epoch 1/20\n",
      "756/756 [==============================] - 7s 8ms/step - loss: 0.8460 - accuracy: 0.7394 - val_loss: 0.6434 - val_accuracy: 0.7766\n",
      "Epoch 1/20\n",
      "756/756 [==============================] - 7s 8ms/step - loss: 0.8604 - accuracy: 0.7312 - val_loss: 0.6588 - val_accuracy: 0.7707\n",
      "Epoch 1/20\n",
      "756/756 [==============================] - 7s 8ms/step - loss: 0.8442 - accuracy: 0.7319 - val_loss: 0.6640 - val_accuracy: 0.7811\n",
      "Epoch 1/20\n",
      "756/756 [==============================] - 7s 8ms/step - loss: 0.8156 - accuracy: 0.7398 - val_loss: 0.6489 - val_accuracy: 0.7744\n",
      "Epoch 1/20\n",
      "756/756 [==============================] - 7s 8ms/step - loss: 0.8415 - accuracy: 0.7306 - val_loss: 0.6642 - val_accuracy: 0.7729\n",
      "Epoch 1/20\n",
      "756/756 [==============================] - 7s 7ms/step - loss: 0.8286 - accuracy: 0.7343 - val_loss: 0.6711 - val_accuracy: 0.7684\n",
      "Epoch 1/20\n",
      "756/756 [==============================] - 7s 8ms/step - loss: 0.8251 - accuracy: 0.7365 - val_loss: 0.6624 - val_accuracy: 0.7699\n",
      "Epoch 1/20\n",
      "756/756 [==============================] - 7s 8ms/step - loss: 0.8318 - accuracy: 0.7361 - val_loss: 0.6510 - val_accuracy: 0.7789\n",
      "Epoch 1/20\n",
      "756/756 [==============================] - 7s 8ms/step - loss: 0.8142 - accuracy: 0.7442 - val_loss: 0.6644 - val_accuracy: 0.7803\n",
      "Epoch 1/20\n",
      "756/756 [==============================] - 7s 8ms/step - loss: 0.8383 - accuracy: 0.7336 - val_loss: 0.6574 - val_accuracy: 0.7736\n",
      "Epoch 1/20\n",
      "756/756 [==============================] - 7s 8ms/step - loss: 0.8287 - accuracy: 0.7306 - val_loss: 0.6716 - val_accuracy: 0.7655\n",
      "Epoch 1/20\n",
      "756/756 [==============================] - 7s 8ms/step - loss: 0.8342 - accuracy: 0.7330 - val_loss: 0.6743 - val_accuracy: 0.7744\n",
      "Epoch 1/20\n",
      "756/756 [==============================] - 7s 8ms/step - loss: 0.8305 - accuracy: 0.7299 - val_loss: 0.6641 - val_accuracy: 0.7766\n"
     ]
    }
   ],
   "metadata": {}
  },
  {
   "cell_type": "code",
   "execution_count": 32,
   "source": [
    "pd.DataFrame(res[0], index=res[1])"
   ],
   "outputs": [
    {
     "output_type": "execute_result",
     "data": {
      "text/plain": [
       "                    loss              accuracy              val_loss  \\\n",
       "1   [0.7371109127998352]  [0.7542408108711243]   [0.654323399066925]   \n",
       "2   [0.7318294644355774]  [0.7552337646484375]  [0.6541197299957275]   \n",
       "3   [0.7236555218696594]  [0.7580471634864807]  [0.6433730125427246]   \n",
       "4   [0.7326981425285339]  [0.7556474804878235]  [0.6587592959403992]   \n",
       "5    [0.717983603477478]   [0.757716178894043]  [0.6640352606773376]   \n",
       "6   [0.7150466442108154]  [0.7589573860168457]  [0.6488779187202454]   \n",
       "7   [0.7198755741119385]  [0.7561439871788025]  [0.6642069220542908]   \n",
       "8   [0.7163037061691284]  [0.7601158618927002]  [0.6711126565933228]   \n",
       "9   [0.7198479175567627]  [0.7577989101409912]  [0.6623789072036743]   \n",
       "10  [0.7207155823707581]  [0.7576334476470947]  [0.6509768962860107]   \n",
       "11  [0.7199162840843201]  [0.7585436701774597]  [0.6644426584243774]   \n",
       "12  [0.7277448773384094]  [0.7562267184257507]  [0.6574364900588989]   \n",
       "13  [0.7261322140693665]  [0.7544890642166138]  [0.6715805530548096]   \n",
       "14  [0.7239828109741211]  [0.7570542097091675]  [0.6742969155311584]   \n",
       "15  [0.7289028763771057]  [0.7526686191558838]  [0.6641381978988647]   \n",
       "\n",
       "            val_accuracy  \n",
       "1   [0.7795979380607605]  \n",
       "2   [0.7684288620948792]  \n",
       "3   [0.7766194939613342]  \n",
       "4   [0.7706627249717712]  \n",
       "5   [0.7810871005058289]  \n",
       "6   [0.7743856906890869]  \n",
       "7   [0.7728965282440186]  \n",
       "8   [0.7684288620948792]  \n",
       "9   [0.7699180841445923]  \n",
       "10  [0.7788532972335815]  \n",
       "11  [0.7803425192832947]  \n",
       "12  [0.7736411094665527]  \n",
       "13  [0.7654504776000977]  \n",
       "14  [0.7743856906890869]  \n",
       "15  [0.7766194939613342]  "
      ],
      "text/html": [
       "<div>\n",
       "<style scoped>\n",
       "    .dataframe tbody tr th:only-of-type {\n",
       "        vertical-align: middle;\n",
       "    }\n",
       "\n",
       "    .dataframe tbody tr th {\n",
       "        vertical-align: top;\n",
       "    }\n",
       "\n",
       "    .dataframe thead th {\n",
       "        text-align: right;\n",
       "    }\n",
       "</style>\n",
       "<table border=\"1\" class=\"dataframe\">\n",
       "  <thead>\n",
       "    <tr style=\"text-align: right;\">\n",
       "      <th></th>\n",
       "      <th>loss</th>\n",
       "      <th>accuracy</th>\n",
       "      <th>val_loss</th>\n",
       "      <th>val_accuracy</th>\n",
       "    </tr>\n",
       "  </thead>\n",
       "  <tbody>\n",
       "    <tr>\n",
       "      <th>1</th>\n",
       "      <td>[0.7371109127998352]</td>\n",
       "      <td>[0.7542408108711243]</td>\n",
       "      <td>[0.654323399066925]</td>\n",
       "      <td>[0.7795979380607605]</td>\n",
       "    </tr>\n",
       "    <tr>\n",
       "      <th>2</th>\n",
       "      <td>[0.7318294644355774]</td>\n",
       "      <td>[0.7552337646484375]</td>\n",
       "      <td>[0.6541197299957275]</td>\n",
       "      <td>[0.7684288620948792]</td>\n",
       "    </tr>\n",
       "    <tr>\n",
       "      <th>3</th>\n",
       "      <td>[0.7236555218696594]</td>\n",
       "      <td>[0.7580471634864807]</td>\n",
       "      <td>[0.6433730125427246]</td>\n",
       "      <td>[0.7766194939613342]</td>\n",
       "    </tr>\n",
       "    <tr>\n",
       "      <th>4</th>\n",
       "      <td>[0.7326981425285339]</td>\n",
       "      <td>[0.7556474804878235]</td>\n",
       "      <td>[0.6587592959403992]</td>\n",
       "      <td>[0.7706627249717712]</td>\n",
       "    </tr>\n",
       "    <tr>\n",
       "      <th>5</th>\n",
       "      <td>[0.717983603477478]</td>\n",
       "      <td>[0.757716178894043]</td>\n",
       "      <td>[0.6640352606773376]</td>\n",
       "      <td>[0.7810871005058289]</td>\n",
       "    </tr>\n",
       "    <tr>\n",
       "      <th>6</th>\n",
       "      <td>[0.7150466442108154]</td>\n",
       "      <td>[0.7589573860168457]</td>\n",
       "      <td>[0.6488779187202454]</td>\n",
       "      <td>[0.7743856906890869]</td>\n",
       "    </tr>\n",
       "    <tr>\n",
       "      <th>7</th>\n",
       "      <td>[0.7198755741119385]</td>\n",
       "      <td>[0.7561439871788025]</td>\n",
       "      <td>[0.6642069220542908]</td>\n",
       "      <td>[0.7728965282440186]</td>\n",
       "    </tr>\n",
       "    <tr>\n",
       "      <th>8</th>\n",
       "      <td>[0.7163037061691284]</td>\n",
       "      <td>[0.7601158618927002]</td>\n",
       "      <td>[0.6711126565933228]</td>\n",
       "      <td>[0.7684288620948792]</td>\n",
       "    </tr>\n",
       "    <tr>\n",
       "      <th>9</th>\n",
       "      <td>[0.7198479175567627]</td>\n",
       "      <td>[0.7577989101409912]</td>\n",
       "      <td>[0.6623789072036743]</td>\n",
       "      <td>[0.7699180841445923]</td>\n",
       "    </tr>\n",
       "    <tr>\n",
       "      <th>10</th>\n",
       "      <td>[0.7207155823707581]</td>\n",
       "      <td>[0.7576334476470947]</td>\n",
       "      <td>[0.6509768962860107]</td>\n",
       "      <td>[0.7788532972335815]</td>\n",
       "    </tr>\n",
       "    <tr>\n",
       "      <th>11</th>\n",
       "      <td>[0.7199162840843201]</td>\n",
       "      <td>[0.7585436701774597]</td>\n",
       "      <td>[0.6644426584243774]</td>\n",
       "      <td>[0.7803425192832947]</td>\n",
       "    </tr>\n",
       "    <tr>\n",
       "      <th>12</th>\n",
       "      <td>[0.7277448773384094]</td>\n",
       "      <td>[0.7562267184257507]</td>\n",
       "      <td>[0.6574364900588989]</td>\n",
       "      <td>[0.7736411094665527]</td>\n",
       "    </tr>\n",
       "    <tr>\n",
       "      <th>13</th>\n",
       "      <td>[0.7261322140693665]</td>\n",
       "      <td>[0.7544890642166138]</td>\n",
       "      <td>[0.6715805530548096]</td>\n",
       "      <td>[0.7654504776000977]</td>\n",
       "    </tr>\n",
       "    <tr>\n",
       "      <th>14</th>\n",
       "      <td>[0.7239828109741211]</td>\n",
       "      <td>[0.7570542097091675]</td>\n",
       "      <td>[0.6742969155311584]</td>\n",
       "      <td>[0.7743856906890869]</td>\n",
       "    </tr>\n",
       "    <tr>\n",
       "      <th>15</th>\n",
       "      <td>[0.7289028763771057]</td>\n",
       "      <td>[0.7526686191558838]</td>\n",
       "      <td>[0.6641381978988647]</td>\n",
       "      <td>[0.7766194939613342]</td>\n",
       "    </tr>\n",
       "  </tbody>\n",
       "</table>\n",
       "</div>"
      ]
     },
     "metadata": {},
     "execution_count": 32
    }
   ],
   "metadata": {}
  },
  {
   "cell_type": "markdown",
   "source": [
    "Размер свертки практически не влияет на результат, все результаты в пределах погрешности. "
   ],
   "metadata": {}
  },
  {
   "cell_type": "code",
   "execution_count": 33,
   "source": [
    "with open('180/model.txt', 'r', encoding='utf8') as f:\r\n",
    "    pretrained_words = f.readlines()\r\n",
    "pretrained_words.pop(0)"
   ],
   "outputs": [
    {
     "output_type": "execute_result",
     "data": {
      "text/plain": [
       "'189193 300\\n'"
      ]
     },
     "metadata": {},
     "execution_count": 33
    }
   ],
   "metadata": {}
  },
  {
   "cell_type": "code",
   "execution_count": 34,
   "source": [
    "pretrained_words[1].split()[0].split('_')[0]"
   ],
   "outputs": [
    {
     "output_type": "execute_result",
     "data": {
      "text/plain": [
       "'быть'"
      ]
     },
     "metadata": {},
     "execution_count": 34
    }
   ],
   "metadata": {}
  },
  {
   "cell_type": "code",
   "execution_count": 35,
   "source": [
    "np.asarray(pretrained_words[1].split()[1:], dtype='float32').shape"
   ],
   "outputs": [
    {
     "output_type": "execute_result",
     "data": {
      "text/plain": [
       "(300,)"
      ]
     },
     "metadata": {},
     "execution_count": 35
    }
   ],
   "metadata": {}
  },
  {
   "cell_type": "code",
   "execution_count": 36,
   "source": [
    "counter = 0\r\n",
    "embeddings_index = {}\r\n",
    "for pre_word in pretrained_words:\r\n",
    "    counter += 1\r\n",
    "    word = pre_word.split()[0].split('_')[0]\r\n",
    "    coefs = np.asarray(pre_word.split()[1:], dtype='float32')\r\n",
    "    embeddings_index[word] = coefs\r\n",
    "print(counter)"
   ],
   "outputs": [
    {
     "output_type": "stream",
     "name": "stdout",
     "text": [
      "189193\n"
     ]
    }
   ],
   "metadata": {}
  },
  {
   "cell_type": "code",
   "execution_count": 37,
   "source": [
    "EMBEDDING_DIM = 300"
   ],
   "outputs": [],
   "metadata": {}
  },
  {
   "cell_type": "code",
   "execution_count": 38,
   "source": [
    "embedding_matrix = np.zeros((len(vocabulary) + 1, EMBEDDING_DIM))\r\n",
    "for word, i in vocabulary.items():\r\n",
    "    embedding_vector = embeddings_index.get(word)\r\n",
    "    if embedding_vector is not None:\r\n",
    "        # words not found in embedding index will be all-zeros.\r\n",
    "        embedding_matrix[i] = embedding_vector"
   ],
   "outputs": [],
   "metadata": {}
  },
  {
   "cell_type": "code",
   "execution_count": 39,
   "source": [
    "embedding_layer = Embedding(input_dim=len(vocabulary) + 1,\r\n",
    "                            output_dim=EMBEDDING_DIM,\r\n",
    "                            weights=[embedding_matrix],\r\n",
    "                            input_length=max_len,\r\n",
    "                            trainable=False)"
   ],
   "outputs": [],
   "metadata": {}
  },
  {
   "cell_type": "code",
   "execution_count": 40,
   "source": [
    "model = Sequential()\r\n",
    "model.add(embedding_layer)\r\n",
    "model.add(Conv1D(128, 5))\r\n",
    "model.add(Activation(\"relu\"))\r\n",
    "model.add(GlobalMaxPool1D())\r\n",
    "model.add(Dense(50))\r\n",
    "model.add(Activation(\"relu\"))\r\n",
    "model.add(Dense(num_classes))\r\n",
    "model.add(Activation('softmax'))\r\n",
    "model.summary()"
   ],
   "outputs": [
    {
     "output_type": "stream",
     "name": "stdout",
     "text": [
      "Model: \"sequential_16\"\n",
      "_________________________________________________________________\n",
      "Layer (type)                 Output Shape              Param #   \n",
      "=================================================================\n",
      "embedding_16 (Embedding)     (None, 20, 300)           600000    \n",
      "_________________________________________________________________\n",
      "conv1d_16 (Conv1D)           (None, 16, 128)           192128    \n",
      "_________________________________________________________________\n",
      "activation_47 (Activation)   (None, 16, 128)           0         \n",
      "_________________________________________________________________\n",
      "global_max_pooling1d_16 (Glo (None, 128)               0         \n",
      "_________________________________________________________________\n",
      "dense_16 (Dense)             (None, 50)                6450      \n",
      "_________________________________________________________________\n",
      "activation_48 (Activation)   (None, 50)                0         \n",
      "_________________________________________________________________\n",
      "dense_17 (Dense)             (None, 6)                 306       \n",
      "_________________________________________________________________\n",
      "activation_49 (Activation)   (None, 6)                 0         \n",
      "=================================================================\n",
      "Total params: 798,884\n",
      "Trainable params: 198,884\n",
      "Non-trainable params: 600,000\n",
      "_________________________________________________________________\n"
     ]
    }
   ],
   "metadata": {}
  },
  {
   "cell_type": "code",
   "execution_count": 41,
   "source": [
    "model.compile(\r\n",
    "    loss='categorical_crossentropy',\r\n",
    "    optimizer='adam',\r\n",
    "    metrics=['accuracy']\r\n",
    ")"
   ],
   "outputs": [],
   "metadata": {}
  },
  {
   "cell_type": "code",
   "execution_count": 42,
   "source": [
    "history = model.fit(x_train, y_train,\r\n",
    "                    batch_size=batch_size,\r\n",
    "                    epochs=epochs,\r\n",
    "                    verbose=1,\r\n",
    "                    validation_split=0.1,\r\n",
    "                    callbacks=[tensorboard, early_stopping])"
   ],
   "outputs": [
    {
     "output_type": "stream",
     "name": "stdout",
     "text": [
      "Epoch 1/20\n",
      "756/756 [==============================] - 6s 6ms/step - loss: 0.9467 - accuracy: 0.7095 - val_loss: 0.7261 - val_accuracy: 0.7446\n"
     ]
    }
   ],
   "metadata": {}
  },
  {
   "cell_type": "markdown",
   "source": [
    "С предобученым эмбедингом результаты получаются хуже, вполне возможно это связано с тем что слишком много уникальных(неправильных, тех же смайликов) слов находится в наших отзывах. Они просто нули в нашей модели."
   ],
   "metadata": {}
  }
 ],
 "metadata": {
  "orig_nbformat": 4,
  "language_info": {
   "name": "python",
   "version": "3.9.5",
   "mimetype": "text/x-python",
   "codemirror_mode": {
    "name": "ipython",
    "version": 3
   },
   "pygments_lexer": "ipython3",
   "nbconvert_exporter": "python",
   "file_extension": ".py"
  },
  "kernelspec": {
   "name": "python3",
   "display_name": "Python 3.9.5 64-bit"
  },
  "interpreter": {
   "hash": "9dc16db89c7b7868c1bda26003793495fc53e348f30248cc96f0b4588f8ccbba"
  }
 },
 "nbformat": 4,
 "nbformat_minor": 2
}