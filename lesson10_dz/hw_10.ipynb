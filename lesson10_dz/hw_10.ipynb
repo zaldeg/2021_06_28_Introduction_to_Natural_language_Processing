{
  "nbformat": 4,
  "nbformat_minor": 2,
  "metadata": {
    "accelerator": "GPU",
    "colab": {
      "name": "nmt.ipynb",
      "provenance": [],
      "collapsed_sections": [],
      "toc_visible": true
    },
    "kernelspec": {
      "name": "python3",
      "display_name": "Python 3.9.5 64-bit"
    },
    "language_info": {
      "name": "python",
      "version": "3.9.5",
      "mimetype": "text/x-python",
      "codemirror_mode": {
        "name": "ipython",
        "version": 3
      },
      "pygments_lexer": "ipython3",
      "nbconvert_exporter": "python",
      "file_extension": ".py"
    },
    "interpreter": {
      "hash": "9dc16db89c7b7868c1bda26003793495fc53e348f30248cc96f0b4588f8ccbba"
    }
  },
  "cells": [
    {
      "cell_type": "markdown",
      "source": [
        "# Neural machine translation"
      ],
      "metadata": {
        "id": "J0Qjg6vuaHNt"
      }
    },
    {
      "cell_type": "code",
      "execution_count": 1,
      "source": [
        "import tensorflow as tf\r\n",
        "\r\n",
        "import matplotlib.pyplot as plt\r\n",
        "import matplotlib.ticker as ticker\r\n",
        "from sklearn.model_selection import train_test_split\r\n",
        "\r\n",
        "import unicodedata\r\n",
        "import re\r\n",
        "import numpy as np\r\n",
        "import os\r\n",
        "import io\r\n",
        "import time"
      ],
      "outputs": [],
      "metadata": {
        "id": "tnxXKDjq3jEL"
      }
    },
    {
      "cell_type": "markdown",
      "source": [
        "## Download and prepare the dataset\n",
        "\n",
        "We'll use a language dataset provided by http://www.manythings.org/anki/"
      ],
      "metadata": {
        "id": "wfodePkj3jEa"
      }
    },
    {
      "cell_type": "code",
      "execution_count": 2,
      "source": [
        "!wget http://www.manythings.org/anki/rus-eng.zip"
      ],
      "outputs": [
        {
          "output_type": "stream",
          "name": "stderr",
          "text": [
            "\"wget\" �� ���� ����७��� ��� ���譥�\n",
            "��������, �ᯮ��塞�� �ணࠬ��� ��� ������ 䠩���.\n"
          ]
        }
      ],
      "metadata": {
        "id": "CNvjhDyAKk3U",
        "colab": {
          "base_uri": "https://localhost:8080/"
        },
        "outputId": "3166c525-fc56-4fd1-92b2-2f1ac4ac18a6"
      }
    },
    {
      "cell_type": "code",
      "execution_count": 3,
      "source": [
        "!mkdir rus-eng\r\n",
        "!unzip rus-eng.zip -d rus-eng/"
      ],
      "outputs": [
        {
          "output_type": "stream",
          "name": "stderr",
          "text": [
            "\"unzip\" �� ���� ����७��� ��� ���譥�\n",
            "��������, �ᯮ��塞�� �ணࠬ��� ��� ������ 䠩���.\n"
          ]
        }
      ],
      "metadata": {
        "id": "83bg17Lr-7XK",
        "colab": {
          "base_uri": "https://localhost:8080/"
        },
        "outputId": "91ec0134-b351-4d0a-c8ac-215affefed97"
      }
    },
    {
      "cell_type": "code",
      "execution_count": 4,
      "source": [
        "!ls /content/rus-eng/ -lah"
      ],
      "outputs": [
        {
          "output_type": "stream",
          "name": "stderr",
          "text": [
            "\"ls\" �� ���� ����७��� ��� ���譥�\n",
            "��������, �ᯮ��塞�� �ணࠬ��� ��� ������ 䠩���.\n"
          ]
        }
      ],
      "metadata": {
        "id": "7o5L92efMMhf",
        "colab": {
          "base_uri": "https://localhost:8080/"
        },
        "outputId": "6ac53232-05f5-449b-8cfc-e0dda693d57f"
      }
    },
    {
      "cell_type": "code",
      "execution_count": 5,
      "source": [
        "# Download the file\r\n",
        "path_to_file = \"rus-eng/rus.txt\""
      ],
      "outputs": [],
      "metadata": {
        "id": "kRVATYOgJs1b"
      }
    },
    {
      "cell_type": "code",
      "execution_count": 6,
      "source": [
        "def preprocess_sentence(w):\r\n",
        "  w = w.lower().strip()\r\n",
        "\r\n",
        "  # creating a space between a word and the punctuation following it\r\n",
        "  # eg: \"he is a boy.\" => \"he is a boy .\"\r\n",
        "  # Reference:- https://stackoverflow.com/questions/3645931/python-padding-punctuation-with-white-spaces-keeping-punctuation\r\n",
        "  w = re.sub(r\"([?.!,])\", r\" \\1 \", w)\r\n",
        "  w = re.sub(r'[\" \"]+', \" \", w)\r\n",
        "\r\n",
        "  # replacing everything with space except (a-z, A-Z, \".\", \"?\", \"!\", \",\")\r\n",
        "  w = re.sub(r\"[^a-zA-Zа-яА-Я?.!,']+\", \" \", w)\r\n",
        "\r\n",
        "  w = w.strip()\r\n",
        "\r\n",
        "  # adding a start and an end token to the sentence\r\n",
        "  # so that the model know when to start and stop predicting.\r\n",
        "  w = '<start> ' + w + ' <end>'\r\n",
        "  return w"
      ],
      "outputs": [],
      "metadata": {
        "id": "rd0jw-eC3jEh"
      }
    },
    {
      "cell_type": "code",
      "execution_count": 7,
      "source": [
        "preprocess_sentence(\"I can't go.\")"
      ],
      "outputs": [
        {
          "output_type": "execute_result",
          "data": {
            "text/plain": [
              "\"<start> i can't go . <end>\""
            ]
          },
          "metadata": {},
          "execution_count": 7
        }
      ],
      "metadata": {
        "id": "yV9lZXQXNbnH",
        "colab": {
          "base_uri": "https://localhost:8080/",
          "height": 35
        },
        "outputId": "2f509965-ecec-4988-cffa-09ab9f954f13"
      }
    },
    {
      "cell_type": "code",
      "execution_count": 8,
      "source": [
        "# 1. Remove the accents\r\n",
        "# 2. Clean the sentences\r\n",
        "# 3. Return word pairs in the format: [ENG, RUS]\r\n",
        "def create_dataset(path, num_examples):\r\n",
        "  lines = io.open(path, encoding='UTF-8').read().strip().split('\\n')\r\n",
        "\r\n",
        "  word_pairs = [[preprocess_sentence(w) for w in l.split('\\t')[:2]]  for l in lines[:num_examples]]\r\n",
        "\r\n",
        "  return zip(*word_pairs)"
      ],
      "outputs": [],
      "metadata": {
        "id": "OHn4Dct23jEm"
      }
    },
    {
      "cell_type": "code",
      "execution_count": 10,
      "source": [
        "en, ru = create_dataset(path_to_file, None)\r\n",
        "print(en[0])\r\n",
        "print(ru[0])"
      ],
      "outputs": [
        {
          "output_type": "stream",
          "name": "stdout",
          "text": [
            "<start> go . <end>\n",
            "<start> марш ! <end>\n"
          ]
        }
      ],
      "metadata": {
        "id": "cTbSbBz55QtF",
        "colab": {
          "base_uri": "https://localhost:8080/"
        },
        "outputId": "5a5b0b4e-da16-4483-8e56-5e07fd79f0bf"
      }
    },
    {
      "cell_type": "code",
      "execution_count": 11,
      "source": [
        "def tokenize(lang):\r\n",
        "  lang_tokenizer = tf.keras.preprocessing.text.Tokenizer(\r\n",
        "      filters='')\r\n",
        "  lang_tokenizer.fit_on_texts(lang)\r\n",
        "\r\n",
        "  tensor = lang_tokenizer.texts_to_sequences(lang)\r\n",
        "\r\n",
        "  tensor = tf.keras.preprocessing.sequence.pad_sequences(tensor,\r\n",
        "                                                         padding='post')\r\n",
        "\r\n",
        "  return tensor, lang_tokenizer"
      ],
      "outputs": [],
      "metadata": {
        "id": "bIOn8RCNDJXG"
      }
    },
    {
      "cell_type": "code",
      "execution_count": 12,
      "source": [
        "def load_dataset(path, num_examples=None):\r\n",
        "  # creating cleaned input, output pairs\r\n",
        "  targ_lang, inp_lang = create_dataset(path, num_examples)\r\n",
        "\r\n",
        "  input_tensor, inp_lang_tokenizer = tokenize(inp_lang)\r\n",
        "  target_tensor, targ_lang_tokenizer = tokenize(targ_lang)\r\n",
        "\r\n",
        "  return input_tensor, target_tensor, inp_lang_tokenizer, targ_lang_tokenizer"
      ],
      "outputs": [],
      "metadata": {
        "id": "eAY9k49G3jE_"
      }
    },
    {
      "cell_type": "markdown",
      "source": [
        "### Limit the size of the dataset to experiment faster (optional)\n"
      ],
      "metadata": {
        "id": "GOi42V79Ydlr"
      }
    },
    {
      "cell_type": "code",
      "execution_count": 13,
      "source": [
        "len(en), len(ru)"
      ],
      "outputs": [
        {
          "output_type": "execute_result",
          "data": {
            "text/plain": [
              "(431097, 431097)"
            ]
          },
          "metadata": {},
          "execution_count": 13
        }
      ],
      "metadata": {
        "id": "C8j9g9AnIeZV",
        "colab": {
          "base_uri": "https://localhost:8080/"
        },
        "outputId": "510da3ec-5a6d-49b9-a0da-29c693f1aec5"
      }
    },
    {
      "cell_type": "code",
      "execution_count": 14,
      "source": [
        "# Try experimenting with the size of that dataset\r\n",
        "num_examples = 100000\r\n",
        "input_tensor, target_tensor, inp_lang, targ_lang = load_dataset(path_to_file, num_examples)\r\n",
        "\r\n",
        "# Calculate max_length of the target tensors\r\n",
        "max_length_targ, max_length_inp = target_tensor.shape[1], input_tensor.shape[1]"
      ],
      "outputs": [],
      "metadata": {
        "id": "cnxC7q-j3jFD"
      }
    },
    {
      "cell_type": "code",
      "execution_count": 15,
      "source": [
        "# Creating training and validation sets using an 80-20 split\r\n",
        "input_tensor_train, input_tensor_val, target_tensor_train, target_tensor_val = train_test_split(input_tensor, target_tensor, test_size=0.2)\r\n",
        "\r\n",
        "# Show length\r\n",
        "print(len(input_tensor_train), len(target_tensor_train), len(input_tensor_val), len(target_tensor_val))"
      ],
      "outputs": [
        {
          "output_type": "stream",
          "name": "stdout",
          "text": [
            "80000 80000 20000 20000\n"
          ]
        }
      ],
      "metadata": {
        "id": "4QILQkOs3jFG",
        "colab": {
          "base_uri": "https://localhost:8080/"
        },
        "outputId": "ddc672e5-2231-4985-b550-2dbddd4468b9"
      }
    },
    {
      "cell_type": "code",
      "execution_count": 16,
      "source": [
        "def convert(lang, tensor):\r\n",
        "  for t in tensor:\r\n",
        "    if t!=0:\r\n",
        "      print (\"%d ----> %s\" % (t, lang.index_word[t]))"
      ],
      "outputs": [],
      "metadata": {
        "id": "lJPmLZGMeD5q"
      }
    },
    {
      "cell_type": "code",
      "execution_count": 17,
      "source": [
        "print (\"Input Language; index to word mapping\")\r\n",
        "convert(inp_lang, input_tensor_train[0])\r\n",
        "print ()\r\n",
        "print (\"Target Language; index to word mapping\")\r\n",
        "convert(targ_lang, target_tensor_train[0])"
      ],
      "outputs": [
        {
          "output_type": "stream",
          "name": "stdout",
          "text": [
            "Input Language; index to word mapping\n",
            "1 ----> <start>\n",
            "35 ----> кто\n",
            "45 ----> бы\n",
            "1026 ----> поцеловал\n",
            "18 ----> тома\n",
            "5 ----> ?\n",
            "2 ----> <end>\n",
            "\n",
            "Target Language; index to word mapping\n",
            "1 ----> <start>\n",
            "2932 ----> who'd\n",
            "413 ----> kiss\n",
            "5 ----> tom\n",
            "6 ----> ?\n",
            "2 ----> <end>\n"
          ]
        }
      ],
      "metadata": {
        "id": "VXukARTDd7MT",
        "colab": {
          "base_uri": "https://localhost:8080/"
        },
        "outputId": "a3606064-f48d-4e81-94d5-9c30d5e90ae6"
      }
    },
    {
      "cell_type": "markdown",
      "source": [
        "### Create a tf.data dataset"
      ],
      "metadata": {
        "id": "rgCLkfv5uO3d"
      }
    },
    {
      "cell_type": "code",
      "execution_count": 18,
      "source": [
        "BUFFER_SIZE = len(input_tensor_train)\r\n",
        "BATCH_SIZE = 64\r\n",
        "steps_per_epoch = len(input_tensor_train)//BATCH_SIZE\r\n",
        "embedding_dim = 300\r\n",
        "units = 1024\r\n",
        "vocab_inp_size = len(inp_lang.word_index)+1\r\n",
        "vocab_tar_size = len(targ_lang.word_index)+1\r\n",
        "\r\n",
        "dataset = tf.data.Dataset.from_tensor_slices((input_tensor_train, target_tensor_train)).shuffle(BUFFER_SIZE)\r\n",
        "dataset = dataset.batch(BATCH_SIZE, drop_remainder=True)"
      ],
      "outputs": [],
      "metadata": {
        "id": "TqHsArVZ3jFS"
      }
    },
    {
      "cell_type": "code",
      "execution_count": 19,
      "source": [
        "example_input_batch, example_target_batch = next(iter(dataset))\r\n",
        "example_input_batch.shape, example_target_batch.shape"
      ],
      "outputs": [
        {
          "output_type": "execute_result",
          "data": {
            "text/plain": [
              "(TensorShape([64, 15]), TensorShape([64, 11]))"
            ]
          },
          "metadata": {},
          "execution_count": 19
        }
      ],
      "metadata": {
        "id": "qc6-NK1GtWQt",
        "colab": {
          "base_uri": "https://localhost:8080/"
        },
        "outputId": "5f42bae2-eefc-492f-f5c5-ad5215d549cf"
      }
    },
    {
      "cell_type": "code",
      "execution_count": 20,
      "source": [
        "class Encoder(tf.keras.Model):\r\n",
        "  def __init__(self, vocab_size, embedding_dim, enc_units, batch_sz):\r\n",
        "    super(Encoder, self).__init__()\r\n",
        "    self.batch_sz = batch_sz\r\n",
        "    self.enc_units = enc_units\r\n",
        "    self.embedding = tf.keras.layers.Embedding(vocab_size, embedding_dim)\r\n",
        "    self.gru = tf.keras.layers.GRU(self.enc_units,\r\n",
        "                                   return_sequences=False,\r\n",
        "                                   return_state=True,\r\n",
        "                                   recurrent_initializer='glorot_uniform')\r\n",
        "    \r\n",
        "\r\n",
        "  def call(self, x, hidden):\r\n",
        "    x = self.embedding(x)\r\n",
        "    output, state = self.gru(x, initial_state = hidden)\r\n",
        "    return state\r\n",
        "\r\n",
        "  def initialize_hidden_state(self):\r\n",
        "    return tf.zeros((self.batch_sz, self.enc_units))"
      ],
      "outputs": [],
      "metadata": {
        "id": "nZ2rI24i3jFg"
      }
    },
    {
      "cell_type": "code",
      "execution_count": 21,
      "source": [
        "encoder = Encoder(vocab_inp_size, embedding_dim, units, BATCH_SIZE)\r\n",
        "\r\n",
        "# sample input\r\n",
        "sample_hidden = encoder.initialize_hidden_state()\r\n",
        "sample_hidden = encoder(example_input_batch, sample_hidden)\r\n",
        "# print ('Encoder output shape: (batch size, sequence length, units) {}'.format(sample_output.shape))\r\n",
        "print ('Encoder Hidden state shape: (batch size, units) {}'.format(sample_hidden.shape))"
      ],
      "outputs": [
        {
          "output_type": "stream",
          "name": "stdout",
          "text": [
            "Encoder Hidden state shape: (batch size, units) (64, 1024)\n"
          ]
        }
      ],
      "metadata": {
        "id": "60gSVh05Jl6l",
        "colab": {
          "base_uri": "https://localhost:8080/"
        },
        "outputId": "4eaa568c-966c-4a9b-895d-4d5e22d20e3c"
      }
    },
    {
      "cell_type": "code",
      "execution_count": 22,
      "source": [
        "class Decoder(tf.keras.Model):\r\n",
        "  def __init__(self, vocab_size, embedding_dim, dec_units, batch_sz):\r\n",
        "    super(Decoder, self).__init__()\r\n",
        "    self.batch_sz = batch_sz\r\n",
        "    self.dec_units = dec_units\r\n",
        "    self.embedding = tf.keras.layers.Embedding(vocab_size, embedding_dim)\r\n",
        "    self.gru = tf.keras.layers.GRU(self.dec_units,\r\n",
        "                                   return_sequences=True,\r\n",
        "                                   return_state=True,\r\n",
        "                                   recurrent_initializer='glorot_uniform')\r\n",
        "    self.fc = tf.keras.layers.Dense(vocab_size)\r\n",
        "\r\n",
        "  def call(self, x, hidden):\r\n",
        "    # enc_output shape == (batch_size, max_length, hidden_size)\r\n",
        "\r\n",
        "    # x shape after passing through embedding == (batch_size, 1, embedding_dim)\r\n",
        "    x = self.embedding(x)\r\n",
        "\r\n",
        "    # x shape after concatenation == (batch_size, 1, embedding_dim + hidden_size)\r\n",
        "\r\n",
        "    # passing the concatenated vector to the GRU\r\n",
        "    output, state = self.gru(x, initial_state=hidden)\r\n",
        "\r\n",
        "    # output shape == (batch_size * 1, hidden_size)\r\n",
        "    output = tf.reshape(output, (-1, output.shape[2]))\r\n",
        "\r\n",
        "    # output shape == (batch_size, vocab)\r\n",
        "    x = self.fc(output)\r\n",
        "\r\n",
        "    return x, state"
      ],
      "outputs": [],
      "metadata": {
        "id": "yJ_B3mhW3jFk"
      }
    },
    {
      "cell_type": "code",
      "execution_count": 23,
      "source": [
        "decoder = Decoder(vocab_tar_size, embedding_dim, units, BATCH_SIZE)\r\n",
        "\r\n",
        "decoder_sample_x, decoder_sample_h = decoder(tf.random.uniform((BATCH_SIZE, 1)),\r\n",
        "                                      sample_hidden)\r\n",
        "\r\n"
      ],
      "outputs": [],
      "metadata": {
        "id": "P5UY8wko3jFp"
      }
    },
    {
      "cell_type": "code",
      "execution_count": 24,
      "source": [
        "decoder_sample_x.shape"
      ],
      "outputs": [
        {
          "output_type": "execute_result",
          "data": {
            "text/plain": [
              "TensorShape([64, 7260])"
            ]
          },
          "metadata": {},
          "execution_count": 24
        }
      ],
      "metadata": {
        "colab": {
          "base_uri": "https://localhost:8080/"
        },
        "id": "XKcypC0AGeLR",
        "outputId": "6f51f5ef-6d92-4933-d202-e2d512cbba37"
      }
    },
    {
      "cell_type": "code",
      "execution_count": 25,
      "source": [
        "decoder_sample_h.shape"
      ],
      "outputs": [
        {
          "output_type": "execute_result",
          "data": {
            "text/plain": [
              "TensorShape([64, 1024])"
            ]
          },
          "metadata": {},
          "execution_count": 25
        }
      ],
      "metadata": {
        "id": "6y0HF-zMF_vp",
        "colab": {
          "base_uri": "https://localhost:8080/"
        },
        "outputId": "69a0893f-61c6-40c5-bce6-5911c3c4355b"
      }
    },
    {
      "cell_type": "markdown",
      "source": [
        "## Define the optimizer and the loss function"
      ],
      "metadata": {
        "id": "_ch_71VbIRfK"
      }
    },
    {
      "cell_type": "code",
      "execution_count": 26,
      "source": [
        "optimizer = tf.keras.optimizers.Adam()\r\n",
        "\r\n",
        "loss_object = tf.keras.losses.SparseCategoricalCrossentropy(\r\n",
        "    from_logits=True, reduction='none')\r\n",
        "\r\n",
        "def loss_function(real, pred):\r\n",
        "  mask = tf.math.logical_not(tf.math.equal(real, 0))\r\n",
        "  loss_ = loss_object(real, pred)\r\n",
        "\r\n",
        "  mask = tf.cast(mask, dtype=loss_.dtype)\r\n",
        "  loss_ *= mask\r\n",
        "\r\n",
        "  return tf.reduce_mean(loss_)"
      ],
      "outputs": [],
      "metadata": {
        "id": "WmTHr5iV3jFr"
      }
    },
    {
      "cell_type": "markdown",
      "source": [
        "## Checkpoints (Object-based saving)"
      ],
      "metadata": {
        "id": "DMVWzzsfNl4e"
      }
    },
    {
      "cell_type": "code",
      "execution_count": 27,
      "source": [
        "checkpoint_dir = './training_nmt_checkpoints'\r\n",
        "\r\n",
        "checkpoint_prefix = os.path.join(checkpoint_dir, \"ckpt\")\r\n",
        "\r\n",
        "checkpoint = tf.train.Checkpoint(optimizer=optimizer,\r\n",
        "                                 encoder=encoder,\r\n",
        "                                 decoder=decoder)"
      ],
      "outputs": [],
      "metadata": {
        "id": "Zj8bXQTgNwrF"
      }
    },
    {
      "cell_type": "code",
      "execution_count": 28,
      "source": [
        "@tf.function\r\n",
        "def train_step(inp, targ, enc_hidden):\r\n",
        "  loss = 0\r\n",
        "\r\n",
        "  with tf.GradientTape() as tape:\r\n",
        "    enc_hidden = encoder(inp, enc_hidden)\r\n",
        "\r\n",
        "    dec_hidden = enc_hidden\r\n",
        "\r\n",
        "    dec_input = tf.expand_dims([targ_lang.word_index['<start>']] * BATCH_SIZE, 1)\r\n",
        "\r\n",
        "    # Teacher forcing - feeding the target as the next input\r\n",
        "    for t in range(1, targ.shape[1]):\r\n",
        "      # passing enc_output to the decoder\r\n",
        "      predictions, dec_hidden = decoder(dec_input, dec_hidden)\r\n",
        "\r\n",
        "      loss += loss_function(targ[:, t], predictions)\r\n",
        "\r\n",
        "      # using teacher forcing\r\n",
        "      dec_input = tf.expand_dims(targ[:, t], 1)\r\n",
        "\r\n",
        "  batch_loss = (loss / int(targ.shape[1]))\r\n",
        "\r\n",
        "  variables = encoder.trainable_variables + decoder.trainable_variables\r\n",
        "\r\n",
        "  gradients = tape.gradient(loss, variables)\r\n",
        "\r\n",
        "  optimizer.apply_gradients(zip(gradients, variables))\r\n",
        "\r\n",
        "  return batch_loss"
      ],
      "outputs": [],
      "metadata": {
        "id": "sC9ArXSsVfqn"
      }
    },
    {
      "cell_type": "code",
      "execution_count": 29,
      "source": [
        "EPOCHS = 50\r\n",
        "\r\n",
        "for epoch in range(EPOCHS):\r\n",
        "  start = time.time()\r\n",
        "\r\n",
        "  enc_hidden = encoder.initialize_hidden_state()\r\n",
        "  total_loss = 0\r\n",
        "\r\n",
        "  for (batch, (inp, targ)) in enumerate(dataset.take(steps_per_epoch)):\r\n",
        "    batch_loss = train_step(inp, targ, enc_hidden)\r\n",
        "    total_loss += batch_loss\r\n",
        "\r\n",
        "    if batch % 100 == 0:\r\n",
        "      print('Epoch {} Batch {} Loss {:.4f}'.format(epoch + 1,\r\n",
        "                                                   batch,\r\n",
        "                                                   batch_loss.numpy()))\r\n",
        "  # saving (checkpoint) the model every 2 epochs\r\n",
        "  if (epoch + 1) % 2 == 0:\r\n",
        "    checkpoint.save(file_prefix = checkpoint_prefix)\r\n",
        "\r\n",
        "  print('Epoch {} Loss {:.4f}'.format(epoch + 1,\r\n",
        "                                      total_loss / steps_per_epoch))\r\n",
        "  print('Time taken for 1 epoch {} sec\\n'.format(time.time() - start))"
      ],
      "outputs": [
        {
          "output_type": "stream",
          "name": "stdout",
          "text": [
            "Epoch 1 Batch 0 Loss 4.6086\n",
            "Epoch 1 Batch 100 Loss 2.0719\n",
            "Epoch 1 Batch 200 Loss 1.7844\n",
            "Epoch 1 Batch 300 Loss 1.6159\n",
            "Epoch 1 Batch 400 Loss 1.4623\n",
            "Epoch 1 Batch 500 Loss 1.4481\n",
            "Epoch 1 Batch 600 Loss 1.4315\n",
            "Epoch 1 Batch 700 Loss 1.2955\n",
            "Epoch 1 Batch 800 Loss 1.3386\n",
            "Epoch 1 Batch 900 Loss 1.1934\n",
            "Epoch 1 Batch 1000 Loss 1.2093\n",
            "Epoch 1 Batch 1100 Loss 1.2118\n",
            "Epoch 1 Batch 1200 Loss 1.0430\n",
            "Epoch 1 Loss 1.4312\n",
            "Time taken for 1 epoch 139.3376579284668 sec\n",
            "\n",
            "Epoch 2 Batch 0 Loss 0.8706\n",
            "Epoch 2 Batch 100 Loss 0.8651\n",
            "Epoch 2 Batch 200 Loss 0.8493\n",
            "Epoch 2 Batch 300 Loss 0.8510\n",
            "Epoch 2 Batch 400 Loss 0.8348\n",
            "Epoch 2 Batch 500 Loss 0.8295\n",
            "Epoch 2 Batch 600 Loss 0.7384\n",
            "Epoch 2 Batch 700 Loss 0.7226\n",
            "Epoch 2 Batch 800 Loss 0.7833\n",
            "Epoch 2 Batch 900 Loss 0.6758\n",
            "Epoch 2 Batch 1000 Loss 0.6976\n",
            "Epoch 2 Batch 1100 Loss 0.6697\n",
            "Epoch 2 Batch 1200 Loss 0.6165\n",
            "Epoch 2 Loss 0.7382\n",
            "Time taken for 1 epoch 133.31098198890686 sec\n",
            "\n",
            "Epoch 3 Batch 0 Loss 0.4495\n",
            "Epoch 3 Batch 100 Loss 0.4581\n",
            "Epoch 3 Batch 200 Loss 0.3650\n",
            "Epoch 3 Batch 300 Loss 0.4520\n",
            "Epoch 3 Batch 400 Loss 0.4170\n",
            "Epoch 3 Batch 500 Loss 0.3057\n",
            "Epoch 3 Batch 600 Loss 0.3489\n",
            "Epoch 3 Batch 700 Loss 0.3339\n",
            "Epoch 3 Batch 800 Loss 0.3546\n",
            "Epoch 3 Batch 900 Loss 0.3963\n",
            "Epoch 3 Batch 1000 Loss 0.4602\n",
            "Epoch 3 Batch 1100 Loss 0.3579\n",
            "Epoch 3 Batch 1200 Loss 0.3875\n",
            "Epoch 3 Loss 0.4175\n",
            "Time taken for 1 epoch 135.4345088005066 sec\n",
            "\n",
            "Epoch 4 Batch 0 Loss 0.2438\n",
            "Epoch 4 Batch 100 Loss 0.2342\n",
            "Epoch 4 Batch 200 Loss 0.2523\n",
            "Epoch 4 Batch 300 Loss 0.2655\n",
            "Epoch 4 Batch 400 Loss 0.2528\n",
            "Epoch 4 Batch 500 Loss 0.3045\n",
            "Epoch 4 Batch 600 Loss 0.2987\n",
            "Epoch 4 Batch 700 Loss 0.2420\n",
            "Epoch 4 Batch 800 Loss 0.2367\n",
            "Epoch 4 Batch 900 Loss 0.2604\n",
            "Epoch 4 Batch 1000 Loss 0.2457\n",
            "Epoch 4 Batch 1100 Loss 0.2580\n",
            "Epoch 4 Batch 1200 Loss 0.2418\n",
            "Epoch 4 Loss 0.2516\n",
            "Time taken for 1 epoch 136.42891192436218 sec\n",
            "\n",
            "Epoch 5 Batch 0 Loss 0.1403\n",
            "Epoch 5 Batch 100 Loss 0.1788\n",
            "Epoch 5 Batch 200 Loss 0.1288\n",
            "Epoch 5 Batch 300 Loss 0.1909\n",
            "Epoch 5 Batch 400 Loss 0.2067\n",
            "Epoch 5 Batch 500 Loss 0.2206\n",
            "Epoch 5 Batch 600 Loss 0.1656\n",
            "Epoch 5 Batch 700 Loss 0.1352\n",
            "Epoch 5 Batch 800 Loss 0.1943\n",
            "Epoch 5 Batch 900 Loss 0.1906\n",
            "Epoch 5 Batch 1000 Loss 0.2272\n",
            "Epoch 5 Batch 1100 Loss 0.1413\n",
            "Epoch 5 Batch 1200 Loss 0.1817\n",
            "Epoch 5 Loss 0.1693\n",
            "Time taken for 1 epoch 129.9940745830536 sec\n",
            "\n",
            "Epoch 6 Batch 0 Loss 0.1268\n",
            "Epoch 6 Batch 100 Loss 0.1342\n",
            "Epoch 6 Batch 200 Loss 0.1226\n",
            "Epoch 6 Batch 300 Loss 0.1159\n",
            "Epoch 6 Batch 400 Loss 0.1155\n",
            "Epoch 6 Batch 500 Loss 0.1365\n",
            "Epoch 6 Batch 600 Loss 0.1345\n",
            "Epoch 6 Batch 700 Loss 0.0984\n",
            "Epoch 6 Batch 800 Loss 0.1289\n",
            "Epoch 6 Batch 900 Loss 0.1567\n",
            "Epoch 6 Batch 1000 Loss 0.1439\n",
            "Epoch 6 Batch 1100 Loss 0.1820\n",
            "Epoch 6 Batch 1200 Loss 0.1158\n",
            "Epoch 6 Loss 0.1282\n",
            "Time taken for 1 epoch 129.72113752365112 sec\n",
            "\n",
            "Epoch 7 Batch 0 Loss 0.0810\n",
            "Epoch 7 Batch 100 Loss 0.0647\n",
            "Epoch 7 Batch 200 Loss 0.0851\n",
            "Epoch 7 Batch 300 Loss 0.0963\n",
            "Epoch 7 Batch 400 Loss 0.0914\n",
            "Epoch 7 Batch 500 Loss 0.1276\n",
            "Epoch 7 Batch 600 Loss 0.1097\n",
            "Epoch 7 Batch 700 Loss 0.1024\n",
            "Epoch 7 Batch 800 Loss 0.0910\n",
            "Epoch 7 Batch 900 Loss 0.1119\n",
            "Epoch 7 Batch 1000 Loss 0.1293\n",
            "Epoch 7 Batch 1100 Loss 0.0938\n",
            "Epoch 7 Batch 1200 Loss 0.1372\n",
            "Epoch 7 Loss 0.1058\n",
            "Time taken for 1 epoch 134.28849267959595 sec\n",
            "\n",
            "Epoch 8 Batch 0 Loss 0.0550\n",
            "Epoch 8 Batch 100 Loss 0.0563\n",
            "Epoch 8 Batch 200 Loss 0.0668\n",
            "Epoch 8 Batch 300 Loss 0.0957\n",
            "Epoch 8 Batch 400 Loss 0.0707\n",
            "Epoch 8 Batch 500 Loss 0.1041\n",
            "Epoch 8 Batch 600 Loss 0.0642\n",
            "Epoch 8 Batch 700 Loss 0.1404\n",
            "Epoch 8 Batch 800 Loss 0.1112\n",
            "Epoch 8 Batch 900 Loss 0.0764\n",
            "Epoch 8 Batch 1000 Loss 0.1021\n",
            "Epoch 8 Batch 1100 Loss 0.0940\n",
            "Epoch 8 Batch 1200 Loss 0.0599\n",
            "Epoch 8 Loss 0.0934\n",
            "Time taken for 1 epoch 132.47533082962036 sec\n",
            "\n",
            "Epoch 9 Batch 0 Loss 0.0751\n",
            "Epoch 9 Batch 100 Loss 0.0553\n",
            "Epoch 9 Batch 200 Loss 0.0759\n",
            "Epoch 9 Batch 300 Loss 0.0781\n",
            "Epoch 9 Batch 400 Loss 0.0697\n",
            "Epoch 9 Batch 500 Loss 0.0665\n",
            "Epoch 9 Batch 600 Loss 0.0814\n",
            "Epoch 9 Batch 700 Loss 0.0459\n",
            "Epoch 9 Batch 800 Loss 0.0654\n",
            "Epoch 9 Batch 900 Loss 0.1272\n",
            "Epoch 9 Batch 1000 Loss 0.1687\n",
            "Epoch 9 Batch 1100 Loss 0.0968\n",
            "Epoch 9 Batch 1200 Loss 0.1019\n",
            "Epoch 9 Loss 0.0865\n",
            "Time taken for 1 epoch 139.50637936592102 sec\n",
            "\n",
            "Epoch 10 Batch 0 Loss 0.1044\n",
            "Epoch 10 Batch 100 Loss 0.0988\n",
            "Epoch 10 Batch 200 Loss 0.0707\n",
            "Epoch 10 Batch 300 Loss 0.0671\n",
            "Epoch 10 Batch 400 Loss 0.1398\n",
            "Epoch 10 Batch 500 Loss 0.1076\n",
            "Epoch 10 Batch 600 Loss 0.1054\n",
            "Epoch 10 Batch 700 Loss 0.1101\n",
            "Epoch 10 Batch 800 Loss 0.0723\n",
            "Epoch 10 Batch 900 Loss 0.1087\n",
            "Epoch 10 Batch 1000 Loss 0.1135\n",
            "Epoch 10 Batch 1100 Loss 0.0952\n",
            "Epoch 10 Batch 1200 Loss 0.1074\n",
            "Epoch 10 Loss 0.0801\n",
            "Time taken for 1 epoch 139.58901739120483 sec\n",
            "\n",
            "Epoch 11 Batch 0 Loss 0.0603\n",
            "Epoch 11 Batch 100 Loss 0.0604\n",
            "Epoch 11 Batch 200 Loss 0.0708\n",
            "Epoch 11 Batch 300 Loss 0.0954\n",
            "Epoch 11 Batch 400 Loss 0.0570\n",
            "Epoch 11 Batch 500 Loss 0.0528\n",
            "Epoch 11 Batch 600 Loss 0.0830\n",
            "Epoch 11 Batch 700 Loss 0.0552\n",
            "Epoch 11 Batch 800 Loss 0.0475\n",
            "Epoch 11 Batch 900 Loss 0.0672\n",
            "Epoch 11 Batch 1000 Loss 0.0734\n",
            "Epoch 11 Batch 1100 Loss 0.1017\n",
            "Epoch 11 Batch 1200 Loss 0.0942\n",
            "Epoch 11 Loss 0.0770\n",
            "Time taken for 1 epoch 136.80652928352356 sec\n",
            "\n",
            "Epoch 12 Batch 0 Loss 0.0210\n",
            "Epoch 12 Batch 100 Loss 0.0568\n",
            "Epoch 12 Batch 200 Loss 0.0532\n",
            "Epoch 12 Batch 300 Loss 0.0600\n",
            "Epoch 12 Batch 400 Loss 0.0550\n",
            "Epoch 12 Batch 500 Loss 0.1009\n",
            "Epoch 12 Batch 600 Loss 0.1040\n",
            "Epoch 12 Batch 700 Loss 0.0428\n",
            "Epoch 12 Batch 800 Loss 0.0574\n",
            "Epoch 12 Batch 900 Loss 0.1051\n",
            "Epoch 12 Batch 1000 Loss 0.1062\n",
            "Epoch 12 Batch 1100 Loss 0.0924\n",
            "Epoch 12 Batch 1200 Loss 0.0901\n",
            "Epoch 12 Loss 0.0733\n",
            "Time taken for 1 epoch 138.72232341766357 sec\n",
            "\n",
            "Epoch 13 Batch 0 Loss 0.0615\n",
            "Epoch 13 Batch 100 Loss 0.0630\n",
            "Epoch 13 Batch 200 Loss 0.0721\n",
            "Epoch 13 Batch 300 Loss 0.0449\n",
            "Epoch 13 Batch 400 Loss 0.0581\n",
            "Epoch 13 Batch 500 Loss 0.0598\n",
            "Epoch 13 Batch 600 Loss 0.0512\n",
            "Epoch 13 Batch 700 Loss 0.0598\n",
            "Epoch 13 Batch 800 Loss 0.0533\n",
            "Epoch 13 Batch 900 Loss 0.0809\n",
            "Epoch 13 Batch 1000 Loss 0.0617\n",
            "Epoch 13 Batch 1100 Loss 0.0899\n",
            "Epoch 13 Batch 1200 Loss 0.0700\n",
            "Epoch 13 Loss 0.0714\n",
            "Time taken for 1 epoch 137.34727025032043 sec\n",
            "\n",
            "Epoch 14 Batch 0 Loss 0.0525\n",
            "Epoch 14 Batch 100 Loss 0.0895\n",
            "Epoch 14 Batch 200 Loss 0.0827\n",
            "Epoch 14 Batch 300 Loss 0.0657\n",
            "Epoch 14 Batch 400 Loss 0.0295\n",
            "Epoch 14 Batch 500 Loss 0.0676\n",
            "Epoch 14 Batch 600 Loss 0.0661\n",
            "Epoch 14 Batch 700 Loss 0.0575\n",
            "Epoch 14 Batch 800 Loss 0.0523\n",
            "Epoch 14 Batch 900 Loss 0.0601\n",
            "Epoch 14 Batch 1000 Loss 0.0574\n",
            "Epoch 14 Batch 1100 Loss 0.0898\n",
            "Epoch 14 Batch 1200 Loss 0.0830\n",
            "Epoch 14 Loss 0.0686\n",
            "Time taken for 1 epoch 142.361483335495 sec\n",
            "\n",
            "Epoch 15 Batch 0 Loss 0.0568\n",
            "Epoch 15 Batch 100 Loss 0.0231\n",
            "Epoch 15 Batch 200 Loss 0.0576\n",
            "Epoch 15 Batch 300 Loss 0.0583\n",
            "Epoch 15 Batch 400 Loss 0.0685\n",
            "Epoch 15 Batch 500 Loss 0.0522\n",
            "Epoch 15 Batch 600 Loss 0.0738\n",
            "Epoch 15 Batch 700 Loss 0.0765\n",
            "Epoch 15 Batch 800 Loss 0.0578\n",
            "Epoch 15 Batch 900 Loss 0.0573\n",
            "Epoch 15 Batch 1000 Loss 0.0818\n",
            "Epoch 15 Batch 1100 Loss 0.0509\n",
            "Epoch 15 Batch 1200 Loss 0.0715\n",
            "Epoch 15 Loss 0.0669\n",
            "Time taken for 1 epoch 139.9047076702118 sec\n",
            "\n",
            "Epoch 16 Batch 0 Loss 0.0394\n",
            "Epoch 16 Batch 100 Loss 0.0800\n",
            "Epoch 16 Batch 200 Loss 0.0815\n",
            "Epoch 16 Batch 300 Loss 0.0723\n",
            "Epoch 16 Batch 400 Loss 0.0728\n",
            "Epoch 16 Batch 500 Loss 0.0535\n",
            "Epoch 16 Batch 600 Loss 0.0367\n",
            "Epoch 16 Batch 700 Loss 0.1066\n",
            "Epoch 16 Batch 800 Loss 0.0940\n",
            "Epoch 16 Batch 900 Loss 0.0697\n",
            "Epoch 16 Batch 1000 Loss 0.0384\n",
            "Epoch 16 Batch 1100 Loss 0.0773\n",
            "Epoch 16 Batch 1200 Loss 0.0551\n",
            "Epoch 16 Loss 0.0655\n",
            "Time taken for 1 epoch 135.05286264419556 sec\n",
            "\n",
            "Epoch 17 Batch 0 Loss 0.0395\n",
            "Epoch 17 Batch 100 Loss 0.0685\n",
            "Epoch 17 Batch 200 Loss 0.0343\n",
            "Epoch 17 Batch 300 Loss 0.0973\n",
            "Epoch 17 Batch 400 Loss 0.0876\n",
            "Epoch 17 Batch 500 Loss 0.0497\n",
            "Epoch 17 Batch 600 Loss 0.1043\n",
            "Epoch 17 Batch 700 Loss 0.0640\n",
            "Epoch 17 Batch 800 Loss 0.0753\n",
            "Epoch 17 Batch 900 Loss 0.0982\n",
            "Epoch 17 Batch 1000 Loss 0.0683\n",
            "Epoch 17 Batch 1100 Loss 0.0847\n",
            "Epoch 17 Batch 1200 Loss 0.1000\n",
            "Epoch 17 Loss 0.0638\n",
            "Time taken for 1 epoch 121.05830478668213 sec\n",
            "\n",
            "Epoch 18 Batch 0 Loss 0.0270\n",
            "Epoch 18 Batch 100 Loss 0.0926\n",
            "Epoch 18 Batch 200 Loss 0.0722\n",
            "Epoch 18 Batch 300 Loss 0.0263\n",
            "Epoch 18 Batch 400 Loss 0.0618\n",
            "Epoch 18 Batch 500 Loss 0.0529\n",
            "Epoch 18 Batch 600 Loss 0.0447\n",
            "Epoch 18 Batch 700 Loss 0.0993\n",
            "Epoch 18 Batch 800 Loss 0.0507\n",
            "Epoch 18 Batch 900 Loss 0.1152\n",
            "Epoch 18 Batch 1000 Loss 0.1384\n",
            "Epoch 18 Batch 1100 Loss 0.0650\n",
            "Epoch 18 Batch 1200 Loss 0.1236\n",
            "Epoch 18 Loss 0.0629\n",
            "Time taken for 1 epoch 129.45692610740662 sec\n",
            "\n",
            "Epoch 19 Batch 0 Loss 0.0388\n",
            "Epoch 19 Batch 100 Loss 0.0425\n",
            "Epoch 19 Batch 200 Loss 0.0204\n",
            "Epoch 19 Batch 300 Loss 0.0697\n",
            "Epoch 19 Batch 400 Loss 0.0626\n",
            "Epoch 19 Batch 500 Loss 0.0555\n",
            "Epoch 19 Batch 600 Loss 0.0498\n",
            "Epoch 19 Batch 700 Loss 0.0320\n",
            "Epoch 19 Batch 800 Loss 0.0515\n",
            "Epoch 19 Batch 900 Loss 0.0873\n",
            "Epoch 19 Batch 1000 Loss 0.0488\n",
            "Epoch 19 Batch 1100 Loss 0.1433\n",
            "Epoch 19 Batch 1200 Loss 0.0783\n",
            "Epoch 19 Loss 0.0611\n",
            "Time taken for 1 epoch 130.39933800697327 sec\n",
            "\n",
            "Epoch 20 Batch 0 Loss 0.0779\n",
            "Epoch 20 Batch 100 Loss 0.0309\n",
            "Epoch 20 Batch 200 Loss 0.0429\n",
            "Epoch 20 Batch 300 Loss 0.0353\n",
            "Epoch 20 Batch 400 Loss 0.0282\n",
            "Epoch 20 Batch 500 Loss 0.0668\n",
            "Epoch 20 Batch 600 Loss 0.0605\n",
            "Epoch 20 Batch 700 Loss 0.0262\n",
            "Epoch 20 Batch 800 Loss 0.0998\n",
            "Epoch 20 Batch 900 Loss 0.0747\n",
            "Epoch 20 Batch 1000 Loss 0.0528\n",
            "Epoch 20 Batch 1100 Loss 0.1033\n",
            "Epoch 20 Batch 1200 Loss 0.0987\n",
            "Epoch 20 Loss 0.0601\n",
            "Time taken for 1 epoch 138.40033888816833 sec\n",
            "\n",
            "Epoch 21 Batch 0 Loss 0.0493\n",
            "Epoch 21 Batch 100 Loss 0.0478\n",
            "Epoch 21 Batch 200 Loss 0.0439\n",
            "Epoch 21 Batch 300 Loss 0.0596\n",
            "Epoch 21 Batch 400 Loss 0.0697\n",
            "Epoch 21 Batch 500 Loss 0.0665\n",
            "Epoch 21 Batch 600 Loss 0.0298\n",
            "Epoch 21 Batch 700 Loss 0.0716\n",
            "Epoch 21 Batch 800 Loss 0.0561\n",
            "Epoch 21 Batch 900 Loss 0.0613\n",
            "Epoch 21 Batch 1000 Loss 0.0856\n",
            "Epoch 21 Batch 1100 Loss 0.0662\n",
            "Epoch 21 Batch 1200 Loss 0.0531\n",
            "Epoch 21 Loss 0.0592\n",
            "Time taken for 1 epoch 153.5448613166809 sec\n",
            "\n",
            "Epoch 22 Batch 0 Loss 0.0496\n",
            "Epoch 22 Batch 100 Loss 0.0710\n",
            "Epoch 22 Batch 200 Loss 0.0585\n",
            "Epoch 22 Batch 300 Loss 0.0364\n",
            "Epoch 22 Batch 400 Loss 0.0543\n",
            "Epoch 22 Batch 500 Loss 0.0228\n",
            "Epoch 22 Batch 600 Loss 0.0256\n",
            "Epoch 22 Batch 700 Loss 0.0512\n",
            "Epoch 22 Batch 800 Loss 0.0474\n",
            "Epoch 22 Batch 900 Loss 0.0455\n",
            "Epoch 22 Batch 1000 Loss 0.0455\n",
            "Epoch 22 Batch 1100 Loss 0.0891\n",
            "Epoch 22 Batch 1200 Loss 0.0779\n",
            "Epoch 22 Loss 0.0577\n",
            "Time taken for 1 epoch 152.69332671165466 sec\n",
            "\n",
            "Epoch 23 Batch 0 Loss 0.0498\n",
            "Epoch 23 Batch 100 Loss 0.0492\n",
            "Epoch 23 Batch 200 Loss 0.0503\n",
            "Epoch 23 Batch 300 Loss 0.0369\n",
            "Epoch 23 Batch 400 Loss 0.0463\n",
            "Epoch 23 Batch 500 Loss 0.0665\n",
            "Epoch 23 Batch 600 Loss 0.0682\n",
            "Epoch 23 Batch 700 Loss 0.0782\n",
            "Epoch 23 Batch 800 Loss 0.0562\n",
            "Epoch 23 Batch 900 Loss 0.0718\n",
            "Epoch 23 Batch 1000 Loss 0.0309\n",
            "Epoch 23 Batch 1100 Loss 0.0851\n",
            "Epoch 23 Batch 1200 Loss 0.0597\n",
            "Epoch 23 Loss 0.0571\n",
            "Time taken for 1 epoch 149.21854948997498 sec\n",
            "\n",
            "Epoch 24 Batch 0 Loss 0.0255\n",
            "Epoch 24 Batch 100 Loss 0.0358\n",
            "Epoch 24 Batch 200 Loss 0.0553\n",
            "Epoch 24 Batch 300 Loss 0.0590\n",
            "Epoch 24 Batch 400 Loss 0.0528\n",
            "Epoch 24 Batch 500 Loss 0.1077\n",
            "Epoch 24 Batch 600 Loss 0.0349\n",
            "Epoch 24 Batch 700 Loss 0.0479\n",
            "Epoch 24 Batch 800 Loss 0.0582\n",
            "Epoch 24 Batch 900 Loss 0.0682\n",
            "Epoch 24 Batch 1000 Loss 0.0557\n",
            "Epoch 24 Batch 1100 Loss 0.0702\n",
            "Epoch 24 Batch 1200 Loss 0.0455\n",
            "Epoch 24 Loss 0.0561\n",
            "Time taken for 1 epoch 145.99535012245178 sec\n",
            "\n",
            "Epoch 25 Batch 0 Loss 0.0572\n",
            "Epoch 25 Batch 100 Loss 0.0420\n",
            "Epoch 25 Batch 200 Loss 0.0748\n",
            "Epoch 25 Batch 300 Loss 0.0692\n",
            "Epoch 25 Batch 400 Loss 0.0397\n",
            "Epoch 25 Batch 500 Loss 0.0647\n",
            "Epoch 25 Batch 600 Loss 0.0353\n",
            "Epoch 25 Batch 700 Loss 0.0340\n",
            "Epoch 25 Batch 800 Loss 0.0557\n",
            "Epoch 25 Batch 900 Loss 0.0600\n",
            "Epoch 25 Batch 1000 Loss 0.0477\n",
            "Epoch 25 Batch 1100 Loss 0.0359\n",
            "Epoch 25 Batch 1200 Loss 0.0513\n",
            "Epoch 25 Loss 0.0552\n",
            "Time taken for 1 epoch 154.5422990322113 sec\n",
            "\n",
            "Epoch 26 Batch 0 Loss 0.0909\n",
            "Epoch 26 Batch 100 Loss 0.0632\n",
            "Epoch 26 Batch 200 Loss 0.0400\n",
            "Epoch 26 Batch 300 Loss 0.0292\n",
            "Epoch 26 Batch 400 Loss 0.0607\n",
            "Epoch 26 Batch 500 Loss 0.0383\n",
            "Epoch 26 Batch 600 Loss 0.0648\n",
            "Epoch 26 Batch 700 Loss 0.0524\n",
            "Epoch 26 Batch 800 Loss 0.0376\n",
            "Epoch 26 Batch 900 Loss 0.0315\n",
            "Epoch 26 Batch 1000 Loss 0.0451\n",
            "Epoch 26 Batch 1100 Loss 0.0373\n",
            "Epoch 26 Batch 1200 Loss 0.0454\n",
            "Epoch 26 Loss 0.0541\n",
            "Time taken for 1 epoch 153.11908650398254 sec\n",
            "\n",
            "Epoch 27 Batch 0 Loss 0.0332\n",
            "Epoch 27 Batch 100 Loss 0.0391\n",
            "Epoch 27 Batch 200 Loss 0.0387\n",
            "Epoch 27 Batch 300 Loss 0.0531\n",
            "Epoch 27 Batch 400 Loss 0.0318\n",
            "Epoch 27 Batch 500 Loss 0.0773\n",
            "Epoch 27 Batch 600 Loss 0.0711\n",
            "Epoch 27 Batch 700 Loss 0.0471\n",
            "Epoch 27 Batch 800 Loss 0.0398\n",
            "Epoch 27 Batch 900 Loss 0.0567\n",
            "Epoch 27 Batch 1000 Loss 0.0792\n",
            "Epoch 27 Batch 1100 Loss 0.0528\n",
            "Epoch 27 Batch 1200 Loss 0.0413\n",
            "Epoch 27 Loss 0.0532\n",
            "Time taken for 1 epoch 157.44950199127197 sec\n",
            "\n",
            "Epoch 28 Batch 0 Loss 0.0164\n",
            "Epoch 28 Batch 100 Loss 0.0415\n",
            "Epoch 28 Batch 200 Loss 0.0607\n",
            "Epoch 28 Batch 300 Loss 0.0441\n",
            "Epoch 28 Batch 400 Loss 0.0378\n",
            "Epoch 28 Batch 500 Loss 0.0450\n",
            "Epoch 28 Batch 600 Loss 0.1105\n",
            "Epoch 28 Batch 700 Loss 0.0766\n",
            "Epoch 28 Batch 800 Loss 0.0290\n",
            "Epoch 28 Batch 900 Loss 0.0372\n",
            "Epoch 28 Batch 1000 Loss 0.0626\n",
            "Epoch 28 Batch 1100 Loss 0.0482\n",
            "Epoch 28 Batch 1200 Loss 0.0558\n",
            "Epoch 28 Loss 0.0524\n",
            "Time taken for 1 epoch 149.81821274757385 sec\n",
            "\n",
            "Epoch 29 Batch 0 Loss 0.0503\n",
            "Epoch 29 Batch 100 Loss 0.0878\n",
            "Epoch 29 Batch 200 Loss 0.0421\n",
            "Epoch 29 Batch 300 Loss 0.0319\n",
            "Epoch 29 Batch 400 Loss 0.0361\n",
            "Epoch 29 Batch 500 Loss 0.0672\n",
            "Epoch 29 Batch 600 Loss 0.0516\n",
            "Epoch 29 Batch 700 Loss 0.0637\n",
            "Epoch 29 Batch 800 Loss 0.0260\n",
            "Epoch 29 Batch 900 Loss 0.0548\n",
            "Epoch 29 Batch 1000 Loss 0.0768\n",
            "Epoch 29 Batch 1100 Loss 0.1035\n",
            "Epoch 29 Batch 1200 Loss 0.0792\n",
            "Epoch 29 Loss 0.0518\n",
            "Time taken for 1 epoch 134.7114963531494 sec\n",
            "\n",
            "Epoch 30 Batch 0 Loss 0.0276\n",
            "Epoch 30 Batch 100 Loss 0.0347\n",
            "Epoch 30 Batch 200 Loss 0.0356\n",
            "Epoch 30 Batch 300 Loss 0.0454\n",
            "Epoch 30 Batch 400 Loss 0.0491\n",
            "Epoch 30 Batch 500 Loss 0.0317\n",
            "Epoch 30 Batch 600 Loss 0.0496\n",
            "Epoch 30 Batch 700 Loss 0.0836\n",
            "Epoch 30 Batch 800 Loss 0.0610\n",
            "Epoch 30 Batch 900 Loss 0.0660\n",
            "Epoch 30 Batch 1000 Loss 0.0615\n",
            "Epoch 30 Batch 1100 Loss 0.0702\n",
            "Epoch 30 Batch 1200 Loss 0.0536\n",
            "Epoch 30 Loss 0.0515\n",
            "Time taken for 1 epoch 134.81201887130737 sec\n",
            "\n",
            "Epoch 31 Batch 0 Loss 0.0471\n",
            "Epoch 31 Batch 100 Loss 0.0491\n",
            "Epoch 31 Batch 200 Loss 0.0200\n",
            "Epoch 31 Batch 300 Loss 0.0536\n",
            "Epoch 31 Batch 400 Loss 0.0660\n",
            "Epoch 31 Batch 500 Loss 0.0609\n",
            "Epoch 31 Batch 600 Loss 0.0752\n",
            "Epoch 31 Batch 700 Loss 0.0643\n",
            "Epoch 31 Batch 800 Loss 0.0563\n",
            "Epoch 31 Batch 900 Loss 0.0505\n",
            "Epoch 31 Batch 1000 Loss 0.0712\n",
            "Epoch 31 Batch 1100 Loss 0.0695\n",
            "Epoch 31 Batch 1200 Loss 0.0393\n",
            "Epoch 31 Loss 0.0503\n",
            "Time taken for 1 epoch 130.81570434570312 sec\n",
            "\n",
            "Epoch 32 Batch 0 Loss 0.0667\n",
            "Epoch 32 Batch 100 Loss 0.0377\n",
            "Epoch 32 Batch 200 Loss 0.0391\n",
            "Epoch 32 Batch 300 Loss 0.0448\n",
            "Epoch 32 Batch 400 Loss 0.0373\n",
            "Epoch 32 Batch 500 Loss 0.0408\n",
            "Epoch 32 Batch 600 Loss 0.0340\n",
            "Epoch 32 Batch 700 Loss 0.0319\n",
            "Epoch 32 Batch 800 Loss 0.0577\n",
            "Epoch 32 Batch 900 Loss 0.0374\n",
            "Epoch 32 Batch 1000 Loss 0.0542\n",
            "Epoch 32 Batch 1100 Loss 0.0591\n",
            "Epoch 32 Batch 1200 Loss 0.0683\n",
            "Epoch 32 Loss 0.0495\n",
            "Time taken for 1 epoch 134.10841989517212 sec\n",
            "\n",
            "Epoch 33 Batch 0 Loss 0.0319\n",
            "Epoch 33 Batch 100 Loss 0.0231\n",
            "Epoch 33 Batch 200 Loss 0.0571\n",
            "Epoch 33 Batch 300 Loss 0.0405\n",
            "Epoch 33 Batch 400 Loss 0.0460\n",
            "Epoch 33 Batch 500 Loss 0.0354\n",
            "Epoch 33 Batch 600 Loss 0.0246\n",
            "Epoch 33 Batch 700 Loss 0.0539\n",
            "Epoch 33 Batch 800 Loss 0.0504\n",
            "Epoch 33 Batch 900 Loss 0.0750\n",
            "Epoch 33 Batch 1000 Loss 0.0351\n",
            "Epoch 33 Batch 1100 Loss 0.0402\n",
            "Epoch 33 Batch 1200 Loss 0.0572\n",
            "Epoch 33 Loss 0.0494\n",
            "Time taken for 1 epoch 132.86571550369263 sec\n",
            "\n",
            "Epoch 34 Batch 0 Loss 0.0295\n",
            "Epoch 34 Batch 100 Loss 0.0335\n",
            "Epoch 34 Batch 200 Loss 0.0426\n",
            "Epoch 34 Batch 300 Loss 0.0684\n",
            "Epoch 34 Batch 400 Loss 0.0452\n",
            "Epoch 34 Batch 500 Loss 0.0615\n",
            "Epoch 34 Batch 600 Loss 0.0540\n",
            "Epoch 34 Batch 700 Loss 0.0471\n",
            "Epoch 34 Batch 800 Loss 0.0667\n",
            "Epoch 34 Batch 900 Loss 0.0572\n",
            "Epoch 34 Batch 1000 Loss 0.0677\n",
            "Epoch 34 Batch 1100 Loss 0.0549\n",
            "Epoch 34 Batch 1200 Loss 0.0270\n",
            "Epoch 34 Loss 0.0487\n",
            "Time taken for 1 epoch 134.10142540931702 sec\n",
            "\n",
            "Epoch 35 Batch 0 Loss 0.0358\n",
            "Epoch 35 Batch 100 Loss 0.0331\n",
            "Epoch 35 Batch 200 Loss 0.0433\n",
            "Epoch 35 Batch 300 Loss 0.0394\n",
            "Epoch 35 Batch 400 Loss 0.0405\n",
            "Epoch 35 Batch 500 Loss 0.0143\n",
            "Epoch 35 Batch 600 Loss 0.0682\n",
            "Epoch 35 Batch 700 Loss 0.0594\n",
            "Epoch 35 Batch 800 Loss 0.0540\n",
            "Epoch 35 Batch 900 Loss 0.0248\n",
            "Epoch 35 Batch 1000 Loss 0.0575\n",
            "Epoch 35 Batch 1100 Loss 0.0360\n",
            "Epoch 35 Batch 1200 Loss 0.0599\n",
            "Epoch 35 Loss 0.0483\n",
            "Time taken for 1 epoch 132.9724555015564 sec\n",
            "\n",
            "Epoch 36 Batch 0 Loss 0.0330\n",
            "Epoch 36 Batch 100 Loss 0.0240\n",
            "Epoch 36 Batch 200 Loss 0.0446\n",
            "Epoch 36 Batch 300 Loss 0.0492\n",
            "Epoch 36 Batch 400 Loss 0.0491\n",
            "Epoch 36 Batch 500 Loss 0.0488\n",
            "Epoch 36 Batch 600 Loss 0.0594\n",
            "Epoch 36 Batch 700 Loss 0.0321\n",
            "Epoch 36 Batch 800 Loss 0.0544\n",
            "Epoch 36 Batch 900 Loss 0.0413\n",
            "Epoch 36 Batch 1000 Loss 0.0473\n",
            "Epoch 36 Batch 1100 Loss 0.0460\n",
            "Epoch 36 Batch 1200 Loss 0.0829\n",
            "Epoch 36 Loss 0.0474\n",
            "Time taken for 1 epoch 135.27427792549133 sec\n",
            "\n",
            "Epoch 37 Batch 0 Loss 0.0317\n",
            "Epoch 37 Batch 100 Loss 0.0426\n",
            "Epoch 37 Batch 200 Loss 0.0250\n",
            "Epoch 37 Batch 300 Loss 0.0521\n",
            "Epoch 37 Batch 400 Loss 0.0789\n",
            "Epoch 37 Batch 500 Loss 0.0353\n",
            "Epoch 37 Batch 600 Loss 0.0279\n",
            "Epoch 37 Batch 700 Loss 0.0563\n",
            "Epoch 37 Batch 800 Loss 0.0417\n",
            "Epoch 37 Batch 900 Loss 0.0770\n",
            "Epoch 37 Batch 1000 Loss 0.0329\n",
            "Epoch 37 Batch 1100 Loss 0.0327\n",
            "Epoch 37 Batch 1200 Loss 0.0636\n",
            "Epoch 37 Loss 0.0469\n",
            "Time taken for 1 epoch 129.3606309890747 sec\n",
            "\n",
            "Epoch 38 Batch 0 Loss 0.0410\n",
            "Epoch 38 Batch 100 Loss 0.0203\n",
            "Epoch 38 Batch 200 Loss 0.0555\n",
            "Epoch 38 Batch 300 Loss 0.0385\n",
            "Epoch 38 Batch 400 Loss 0.0499\n",
            "Epoch 38 Batch 500 Loss 0.0493\n",
            "Epoch 38 Batch 600 Loss 0.0396\n",
            "Epoch 38 Batch 700 Loss 0.0463\n",
            "Epoch 38 Batch 800 Loss 0.0665\n",
            "Epoch 38 Batch 900 Loss 0.0190\n",
            "Epoch 38 Batch 1000 Loss 0.0737\n",
            "Epoch 38 Batch 1100 Loss 0.0632\n",
            "Epoch 38 Batch 1200 Loss 0.0657\n",
            "Epoch 38 Loss 0.0463\n",
            "Time taken for 1 epoch 125.89439105987549 sec\n",
            "\n",
            "Epoch 39 Batch 0 Loss 0.0588\n",
            "Epoch 39 Batch 100 Loss 0.0379\n",
            "Epoch 39 Batch 200 Loss 0.0710\n",
            "Epoch 39 Batch 300 Loss 0.0710\n",
            "Epoch 39 Batch 400 Loss 0.0213\n",
            "Epoch 39 Batch 500 Loss 0.0375\n",
            "Epoch 39 Batch 600 Loss 0.0300\n",
            "Epoch 39 Batch 700 Loss 0.0308\n",
            "Epoch 39 Batch 800 Loss 0.0316\n",
            "Epoch 39 Batch 900 Loss 0.0806\n",
            "Epoch 39 Batch 1000 Loss 0.0473\n",
            "Epoch 39 Batch 1100 Loss 0.0492\n",
            "Epoch 39 Batch 1200 Loss 0.0424\n",
            "Epoch 39 Loss 0.0462\n",
            "Time taken for 1 epoch 124.47416687011719 sec\n",
            "\n",
            "Epoch 40 Batch 0 Loss 0.0462\n",
            "Epoch 40 Batch 100 Loss 0.0269\n",
            "Epoch 40 Batch 200 Loss 0.0237\n",
            "Epoch 40 Batch 300 Loss 0.0518\n",
            "Epoch 40 Batch 400 Loss 0.0526\n",
            "Epoch 40 Batch 500 Loss 0.0284\n",
            "Epoch 40 Batch 600 Loss 0.0533\n",
            "Epoch 40 Batch 700 Loss 0.0361\n",
            "Epoch 40 Batch 800 Loss 0.0558\n",
            "Epoch 40 Batch 900 Loss 0.0353\n",
            "Epoch 40 Batch 1000 Loss 0.0480\n",
            "Epoch 40 Batch 1100 Loss 0.0742\n",
            "Epoch 40 Batch 1200 Loss 0.0336\n",
            "Epoch 40 Loss 0.0450\n",
            "Time taken for 1 epoch 125.5393180847168 sec\n",
            "\n",
            "Epoch 41 Batch 0 Loss 0.0384\n",
            "Epoch 41 Batch 100 Loss 0.0242\n",
            "Epoch 41 Batch 200 Loss 0.0475\n",
            "Epoch 41 Batch 300 Loss 0.0384\n",
            "Epoch 41 Batch 400 Loss 0.0465\n",
            "Epoch 41 Batch 500 Loss 0.0319\n",
            "Epoch 41 Batch 600 Loss 0.0602\n",
            "Epoch 41 Batch 700 Loss 0.0521\n",
            "Epoch 41 Batch 800 Loss 0.0633\n",
            "Epoch 41 Batch 900 Loss 0.0370\n",
            "Epoch 41 Batch 1000 Loss 0.0580\n",
            "Epoch 41 Batch 1100 Loss 0.0426\n",
            "Epoch 41 Batch 1200 Loss 0.0585\n",
            "Epoch 41 Loss 0.0446\n",
            "Time taken for 1 epoch 124.28068470954895 sec\n",
            "\n",
            "Epoch 42 Batch 0 Loss 0.0282\n",
            "Epoch 42 Batch 100 Loss 0.0494\n",
            "Epoch 42 Batch 200 Loss 0.0527\n",
            "Epoch 42 Batch 300 Loss 0.0665\n",
            "Epoch 42 Batch 400 Loss 0.0951\n",
            "Epoch 42 Batch 500 Loss 0.0430\n",
            "Epoch 42 Batch 600 Loss 0.0616\n",
            "Epoch 42 Batch 700 Loss 0.0292\n",
            "Epoch 42 Batch 800 Loss 0.0339\n",
            "Epoch 42 Batch 900 Loss 0.0385\n",
            "Epoch 42 Batch 1000 Loss 0.0365\n",
            "Epoch 42 Batch 1100 Loss 0.0326\n",
            "Epoch 42 Batch 1200 Loss 0.0477\n",
            "Epoch 42 Loss 0.0448\n",
            "Time taken for 1 epoch 125.20525312423706 sec\n",
            "\n",
            "Epoch 43 Batch 0 Loss 0.0490\n",
            "Epoch 43 Batch 100 Loss 0.0296\n",
            "Epoch 43 Batch 200 Loss 0.0118\n",
            "Epoch 43 Batch 300 Loss 0.0352\n",
            "Epoch 43 Batch 400 Loss 0.0225\n",
            "Epoch 43 Batch 500 Loss 0.0420\n",
            "Epoch 43 Batch 600 Loss 0.0261\n",
            "Epoch 43 Batch 700 Loss 0.0461\n",
            "Epoch 43 Batch 800 Loss 0.0518\n",
            "Epoch 43 Batch 900 Loss 0.0557\n",
            "Epoch 43 Batch 1000 Loss 0.0708\n",
            "Epoch 43 Batch 1100 Loss 0.0462\n",
            "Epoch 43 Batch 1200 Loss 0.0727\n",
            "Epoch 43 Loss 0.0443\n",
            "Time taken for 1 epoch 123.80495595932007 sec\n",
            "\n",
            "Epoch 44 Batch 0 Loss 0.0351\n",
            "Epoch 44 Batch 100 Loss 0.0674\n",
            "Epoch 44 Batch 200 Loss 0.0332\n",
            "Epoch 44 Batch 300 Loss 0.0372\n",
            "Epoch 44 Batch 400 Loss 0.0665\n",
            "Epoch 44 Batch 500 Loss 0.0491\n",
            "Epoch 44 Batch 600 Loss 0.0308\n",
            "Epoch 44 Batch 700 Loss 0.0559\n",
            "Epoch 44 Batch 800 Loss 0.0388\n",
            "Epoch 44 Batch 900 Loss 0.0554\n",
            "Epoch 44 Batch 1000 Loss 0.0431\n",
            "Epoch 44 Batch 1100 Loss 0.0635\n",
            "Epoch 44 Batch 1200 Loss 0.0878\n",
            "Epoch 44 Loss 0.0436\n",
            "Time taken for 1 epoch 124.88633275032043 sec\n",
            "\n",
            "Epoch 45 Batch 0 Loss 0.0275\n",
            "Epoch 45 Batch 100 Loss 0.0219\n",
            "Epoch 45 Batch 200 Loss 0.0269\n",
            "Epoch 45 Batch 300 Loss 0.0301\n",
            "Epoch 45 Batch 400 Loss 0.0352\n",
            "Epoch 45 Batch 500 Loss 0.0255\n",
            "Epoch 45 Batch 600 Loss 0.0586\n",
            "Epoch 45 Batch 700 Loss 0.0429\n",
            "Epoch 45 Batch 800 Loss 0.0553\n",
            "Epoch 45 Batch 900 Loss 0.0353\n",
            "Epoch 45 Batch 1000 Loss 0.0653\n",
            "Epoch 45 Batch 1100 Loss 0.0604\n",
            "Epoch 45 Batch 1200 Loss 0.0457\n",
            "Epoch 45 Loss 0.0433\n",
            "Time taken for 1 epoch 123.50575685501099 sec\n",
            "\n",
            "Epoch 46 Batch 0 Loss 0.0301\n",
            "Epoch 46 Batch 100 Loss 0.0353\n",
            "Epoch 46 Batch 200 Loss 0.0515\n",
            "Epoch 46 Batch 300 Loss 0.0379\n",
            "Epoch 46 Batch 400 Loss 0.0402\n",
            "Epoch 46 Batch 500 Loss 0.0452\n",
            "Epoch 46 Batch 600 Loss 0.0243\n",
            "Epoch 46 Batch 700 Loss 0.0459\n",
            "Epoch 46 Batch 800 Loss 0.0381\n",
            "Epoch 46 Batch 900 Loss 0.0674\n",
            "Epoch 46 Batch 1000 Loss 0.0681\n",
            "Epoch 46 Batch 1100 Loss 0.0463\n",
            "Epoch 46 Batch 1200 Loss 0.0445\n",
            "Epoch 46 Loss 0.0435\n",
            "Time taken for 1 epoch 124.40236020088196 sec\n",
            "\n",
            "Epoch 47 Batch 0 Loss 0.0106\n",
            "Epoch 47 Batch 100 Loss 0.0501\n",
            "Epoch 47 Batch 200 Loss 0.0272\n",
            "Epoch 47 Batch 300 Loss 0.0263\n",
            "Epoch 47 Batch 400 Loss 0.0516\n",
            "Epoch 47 Batch 500 Loss 0.0389\n",
            "Epoch 47 Batch 600 Loss 0.0451\n",
            "Epoch 47 Batch 700 Loss 0.0487\n",
            "Epoch 47 Batch 800 Loss 0.0669\n",
            "Epoch 47 Batch 900 Loss 0.0822\n",
            "Epoch 47 Batch 1000 Loss 0.0417\n",
            "Epoch 47 Batch 1100 Loss 0.0608\n",
            "Epoch 47 Batch 1200 Loss 0.0589\n",
            "Epoch 47 Loss 0.0426\n",
            "Time taken for 1 epoch 122.70293235778809 sec\n",
            "\n",
            "Epoch 48 Batch 0 Loss 0.0334\n",
            "Epoch 48 Batch 100 Loss 0.0702\n",
            "Epoch 48 Batch 200 Loss 0.0312\n",
            "Epoch 48 Batch 300 Loss 0.0480\n",
            "Epoch 48 Batch 400 Loss 0.0345\n",
            "Epoch 48 Batch 500 Loss 0.0423\n",
            "Epoch 48 Batch 600 Loss 0.0194\n",
            "Epoch 48 Batch 700 Loss 0.0180\n",
            "Epoch 48 Batch 800 Loss 0.0441\n",
            "Epoch 48 Batch 900 Loss 0.0333\n",
            "Epoch 48 Batch 1000 Loss 0.0442\n",
            "Epoch 48 Batch 1100 Loss 0.0589\n",
            "Epoch 48 Batch 1200 Loss 0.0381\n",
            "Epoch 48 Loss 0.0424\n",
            "Time taken for 1 epoch 124.1829252243042 sec\n",
            "\n",
            "Epoch 49 Batch 0 Loss 0.0183\n",
            "Epoch 49 Batch 100 Loss 0.0110\n",
            "Epoch 49 Batch 200 Loss 0.0440\n",
            "Epoch 49 Batch 300 Loss 0.0366\n",
            "Epoch 49 Batch 400 Loss 0.0526\n",
            "Epoch 49 Batch 500 Loss 0.0533\n",
            "Epoch 49 Batch 600 Loss 0.0493\n",
            "Epoch 49 Batch 700 Loss 0.0302\n",
            "Epoch 49 Batch 800 Loss 0.0589\n",
            "Epoch 49 Batch 900 Loss 0.0429\n",
            "Epoch 49 Batch 1000 Loss 0.0458\n",
            "Epoch 49 Batch 1100 Loss 0.0564\n",
            "Epoch 49 Batch 1200 Loss 0.0511\n",
            "Epoch 49 Loss 0.0419\n",
            "Time taken for 1 epoch 123.01108908653259 sec\n",
            "\n",
            "Epoch 50 Batch 0 Loss 0.0383\n",
            "Epoch 50 Batch 100 Loss 0.0244\n",
            "Epoch 50 Batch 200 Loss 0.0496\n",
            "Epoch 50 Batch 300 Loss 0.0373\n",
            "Epoch 50 Batch 400 Loss 0.0450\n",
            "Epoch 50 Batch 500 Loss 0.0373\n",
            "Epoch 50 Batch 600 Loss 0.0293\n",
            "Epoch 50 Batch 700 Loss 0.0263\n",
            "Epoch 50 Batch 800 Loss 0.0622\n",
            "Epoch 50 Batch 900 Loss 0.0628\n",
            "Epoch 50 Batch 1000 Loss 0.0536\n",
            "Epoch 50 Batch 1100 Loss 0.0605\n",
            "Epoch 50 Batch 1200 Loss 0.0308\n",
            "Epoch 50 Loss 0.0418\n",
            "Time taken for 1 epoch 124.37941312789917 sec\n",
            "\n"
          ]
        }
      ],
      "metadata": {
        "id": "ddefjBMa3jF0",
        "colab": {
          "base_uri": "https://localhost:8080/"
        },
        "outputId": "b54245db-e06a-46b0-edc0-fab6afaba17a"
      }
    },
    {
      "cell_type": "markdown",
      "source": [
        "## Translate\n",
        "\n",
        "* The evaluate function is similar to the training loop, except we don't use *teacher forcing* here. The input to the decoder at each time step is its previous predictions along with the hidden state and the encoder output.\n",
        "* Stop predicting when the model predicts the *end token*.\n",
        "* And store the *attention weights for every time step*.\n",
        "\n",
        "Note: The encoder output is calculated only once for one input."
      ],
      "metadata": {
        "id": "mU3Ce8M6I3rz"
      }
    },
    {
      "cell_type": "code",
      "execution_count": 30,
      "source": [
        "def evaluate(sentence):\r\n",
        "  attention_plot = np.zeros((max_length_targ, max_length_inp))\r\n",
        "\r\n",
        "  sentence = preprocess_sentence(sentence)\r\n",
        "\r\n",
        "  inputs = [inp_lang.word_index[i] for i in sentence.split(' ')]\r\n",
        "  inputs = tf.keras.preprocessing.sequence.pad_sequences([inputs],\r\n",
        "                                                         maxlen=max_length_inp,\r\n",
        "                                                         padding='post')\r\n",
        "  inputs = tf.convert_to_tensor(inputs)\r\n",
        "\r\n",
        "  result = ''\r\n",
        "\r\n",
        "  hidden = [tf.zeros((1, units))]\r\n",
        "  enc_hidden = encoder(inputs, hidden)\r\n",
        "\r\n",
        "  dec_hidden = enc_hidden\r\n",
        "  dec_input = tf.expand_dims([targ_lang.word_index['<start>']], 0)\r\n",
        "\r\n",
        "  for t in range(max_length_targ):\r\n",
        "    predictions, dec_hidden = decoder(dec_input, dec_hidden)\r\n",
        "\r\n",
        "    # storing the attention weights to plot later on\r\n",
        "    predicted_id = tf.argmax(predictions[0]).numpy()\r\n",
        "    result += targ_lang.index_word[predicted_id] + ' '\r\n",
        "\r\n",
        "    if targ_lang.index_word[predicted_id] == '<end>':\r\n",
        "      return result, sentence\r\n",
        "\r\n",
        "    # the predicted ID is fed back into the model\r\n",
        "    dec_input = tf.expand_dims([predicted_id], 0)\r\n",
        "\r\n",
        "  return result, sentence"
      ],
      "outputs": [],
      "metadata": {
        "id": "EbQpyYs13jF_"
      }
    },
    {
      "cell_type": "code",
      "execution_count": 31,
      "source": [
        "def translate(sentence):\r\n",
        "  result, sentence = evaluate(sentence)\r\n",
        "\r\n",
        "  print('Input: %s' % (sentence))\r\n",
        "  print('Predicted translation: {}'.format(result))"
      ],
      "outputs": [],
      "metadata": {
        "id": "sl9zUHzg3jGI"
      }
    },
    {
      "cell_type": "markdown",
      "source": [
        "## Restore the latest checkpoint and test"
      ],
      "metadata": {
        "id": "n250XbnjOaqP"
      }
    },
    {
      "cell_type": "code",
      "execution_count": 32,
      "source": [
        "# restoring the latest checkpoint in checkpoint_dir\r\n",
        "checkpoint.restore(tf.train.latest_checkpoint(checkpoint_dir))"
      ],
      "outputs": [
        {
          "output_type": "execute_result",
          "data": {
            "text/plain": [
              "<tensorflow.python.training.tracking.util.CheckpointLoadStatus at 0x22fb6bed2e0>"
            ]
          },
          "metadata": {},
          "execution_count": 32
        }
      ],
      "metadata": {
        "id": "UJpT9D5_OgP6",
        "colab": {
          "base_uri": "https://localhost:8080/"
        },
        "outputId": "a5bf709a-7e66-4fd8-aca9-777497144965"
      }
    },
    {
      "cell_type": "code",
      "execution_count": 33,
      "source": [
        "translate('Здесь хорошо.')"
      ],
      "outputs": [
        {
          "output_type": "stream",
          "name": "stdout",
          "text": [
            "Input: <start> здесь хорошо . <end>\n",
            "Predicted translation: it's a good time . <end> \n"
          ]
        }
      ],
      "metadata": {
        "id": "WrAM0FDomq3E",
        "colab": {
          "base_uri": "https://localhost:8080/"
        },
        "outputId": "d366d6cc-cc03-4e35-a65a-9d06dcbfff36"
      }
    },
    {
      "cell_type": "code",
      "execution_count": 34,
      "source": [
        "translate('Я не смогу поехать.')"
      ],
      "outputs": [
        {
          "output_type": "stream",
          "name": "stdout",
          "text": [
            "Input: <start> я не смогу поехать . <end>\n",
            "Predicted translation: i can't go . <end> \n"
          ]
        }
      ],
      "metadata": {
        "id": "5bhFfwcIMX5i",
        "colab": {
          "base_uri": "https://localhost:8080/"
        },
        "outputId": "f89a2d14-a72b-4477-9d76-36837baaefff"
      }
    },
    {
      "cell_type": "code",
      "execution_count": 35,
      "source": [
        "translate(u'Вы еще дома?')"
      ],
      "outputs": [
        {
          "output_type": "stream",
          "name": "stdout",
          "text": [
            "Input: <start> вы еще дома ? <end>\n",
            "Predicted translation: are you still home ? <end> \n"
          ]
        }
      ],
      "metadata": {
        "id": "zSx2iM36EZQZ",
        "colab": {
          "base_uri": "https://localhost:8080/"
        },
        "outputId": "42bc96b4-37c0-439f-fff9-224fdc58c527"
      }
    },
    {
      "cell_type": "code",
      "execution_count": 36,
      "source": [
        "translate(u'Вы все еще дома?')"
      ],
      "outputs": [
        {
          "output_type": "stream",
          "name": "stdout",
          "text": [
            "Input: <start> вы все еще дома ? <end>\n",
            "Predicted translation: are you still at home ? <end> \n"
          ]
        }
      ],
      "metadata": {
        "id": "A3LLCx3ZE0Ls",
        "colab": {
          "base_uri": "https://localhost:8080/"
        },
        "outputId": "b64aa087-8232-474e-e3c7-98c186081845"
      }
    },
    {
      "cell_type": "code",
      "execution_count": 37,
      "source": [
        "translate(u'Попробуй сделать это.')"
      ],
      "outputs": [
        {
          "output_type": "stream",
          "name": "stdout",
          "text": [
            "Input: <start> попробуй сделать это . <end>\n",
            "Predicted translation: try doing that . <end> \n"
          ]
        }
      ],
      "metadata": {
        "id": "DUQVLVqUE1YW",
        "colab": {
          "base_uri": "https://localhost:8080/"
        },
        "outputId": "6d768ecc-e145-4a4a-b313-0986c44bc1cc"
      }
    },
    {
      "cell_type": "code",
      "execution_count": 38,
      "source": [
        "translate(u'Я люблю, когда идет снег.')"
      ],
      "outputs": [
        {
          "output_type": "stream",
          "name": "stdout",
          "text": [
            "Input: <start> я люблю , когда идет снег . <end>\n",
            "Predicted translation: i love doesn't snow . <end> \n"
          ]
        }
      ],
      "metadata": {
        "id": "f09_hUFx9EJh",
        "colab": {
          "base_uri": "https://localhost:8080/"
        },
        "outputId": "73980799-f0f9-4ff5-835c-ced55d9a4770"
      }
    },
    {
      "cell_type": "code",
      "execution_count": 39,
      "source": [
        "translate(u'Я никогда такого не делаю.')"
      ],
      "outputs": [
        {
          "output_type": "stream",
          "name": "stdout",
          "text": [
            "Input: <start> я никогда такого не делаю . <end>\n",
            "Predicted translation: i'm never do that . <end> \n"
          ]
        }
      ],
      "metadata": {
        "id": "e7c5p8rmkHQG",
        "colab": {
          "base_uri": "https://localhost:8080/"
        },
        "outputId": "d4682d71-f778-41f5-e4a9-2e1235976123"
      }
    },
    {
      "cell_type": "code",
      "execution_count": 40,
      "source": [
        "translate(u'Где ты живешь?')"
      ],
      "outputs": [
        {
          "output_type": "stream",
          "name": "stdout",
          "text": [
            "Input: <start> где ты живешь ? <end>\n",
            "Predicted translation: where do you live ? <end> \n"
          ]
        }
      ],
      "metadata": {
        "id": "jdXES85KkTVS"
      }
    },
    {
      "cell_type": "code",
      "execution_count": 45,
      "source": [
        "translate(u'Давай попробуем написать длинное предложение что бы увидеть ошибки, веб мы не используем направление внимания.')"
      ],
      "outputs": [
        {
          "output_type": "stream",
          "name": "stdout",
          "text": [
            "Input: <start> давай попробуем написать длинное предложение что бы увидеть ошибки , веб мы не используем направление внимания . <end>\n",
            "Predicted translation: let's drink some water . <end> \n"
          ]
        }
      ],
      "metadata": {}
    }
  ]
}