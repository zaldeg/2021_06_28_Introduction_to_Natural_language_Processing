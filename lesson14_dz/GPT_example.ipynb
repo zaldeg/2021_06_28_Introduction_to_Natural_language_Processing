{
  "nbformat": 4,
  "nbformat_minor": 2,
  "metadata": {
    "colab": {
      "name": "GPT_example.ipynb",
      "provenance": [],
      "collapsed_sections": []
    },
    "kernelspec": {
      "name": "python3",
      "display_name": "Python 3.9.5 64-bit"
    },
    "accelerator": "GPU",
    "widgets": {
      "application/vnd.jupyter.widget-state+json": {
        "a88f12d4ccc64d3981d9bc428b70a599": {
          "model_module": "@jupyter-widgets/controls",
          "model_name": "HBoxModel",
          "state": {
            "_view_name": "HBoxView",
            "_dom_classes": [],
            "_model_name": "HBoxModel",
            "_view_module": "@jupyter-widgets/controls",
            "_model_module_version": "1.5.0",
            "_view_count": null,
            "_view_module_version": "1.5.0",
            "box_style": "",
            "layout": "IPY_MODEL_3e81e90bc0ef4808b2381f63ae21ab6d",
            "_model_module": "@jupyter-widgets/controls",
            "children": [
              "IPY_MODEL_dfd318f75fe240aa999ae6003fa5ceb0",
              "IPY_MODEL_ef56bc8efbb54001bb3be3a732b73dea"
            ]
          }
        },
        "3e81e90bc0ef4808b2381f63ae21ab6d": {
          "model_module": "@jupyter-widgets/base",
          "model_name": "LayoutModel",
          "state": {
            "_view_name": "LayoutView",
            "grid_template_rows": null,
            "right": null,
            "justify_content": null,
            "_view_module": "@jupyter-widgets/base",
            "overflow": null,
            "_model_module_version": "1.2.0",
            "_view_count": null,
            "flex_flow": null,
            "width": null,
            "min_width": null,
            "border": null,
            "align_items": null,
            "bottom": null,
            "_model_module": "@jupyter-widgets/base",
            "top": null,
            "grid_column": null,
            "overflow_y": null,
            "overflow_x": null,
            "grid_auto_flow": null,
            "grid_area": null,
            "grid_template_columns": null,
            "flex": null,
            "_model_name": "LayoutModel",
            "justify_items": null,
            "grid_row": null,
            "max_height": null,
            "align_content": null,
            "visibility": null,
            "align_self": null,
            "height": null,
            "min_height": null,
            "padding": null,
            "grid_auto_rows": null,
            "grid_gap": null,
            "max_width": null,
            "order": null,
            "_view_module_version": "1.2.0",
            "grid_template_areas": null,
            "object_position": null,
            "object_fit": null,
            "grid_auto_columns": null,
            "margin": null,
            "display": null,
            "left": null
          }
        },
        "dfd318f75fe240aa999ae6003fa5ceb0": {
          "model_module": "@jupyter-widgets/controls",
          "model_name": "FloatProgressModel",
          "state": {
            "_view_name": "ProgressView",
            "style": "IPY_MODEL_563ae5c6ed264ce4a24dd81bfd532154",
            "_dom_classes": [],
            "description": "Downloading: 100%",
            "_model_name": "FloatProgressModel",
            "bar_style": "success",
            "max": 609,
            "_view_module": "@jupyter-widgets/controls",
            "_model_module_version": "1.5.0",
            "value": 609,
            "_view_count": null,
            "_view_module_version": "1.5.0",
            "orientation": "horizontal",
            "min": 0,
            "description_tooltip": null,
            "_model_module": "@jupyter-widgets/controls",
            "layout": "IPY_MODEL_11ab555087ad469bb026995838cf14ef"
          }
        },
        "ef56bc8efbb54001bb3be3a732b73dea": {
          "model_module": "@jupyter-widgets/controls",
          "model_name": "HTMLModel",
          "state": {
            "_view_name": "HTMLView",
            "style": "IPY_MODEL_a077b3991478424f80e29bf25d38a813",
            "_dom_classes": [],
            "description": "",
            "_model_name": "HTMLModel",
            "placeholder": "​",
            "_view_module": "@jupyter-widgets/controls",
            "_model_module_version": "1.5.0",
            "value": " 609/609 [00:08&lt;00:00, 69.8B/s]",
            "_view_count": null,
            "_view_module_version": "1.5.0",
            "description_tooltip": null,
            "_model_module": "@jupyter-widgets/controls",
            "layout": "IPY_MODEL_82530721b9354a8a80b1245184c44123"
          }
        },
        "563ae5c6ed264ce4a24dd81bfd532154": {
          "model_module": "@jupyter-widgets/controls",
          "model_name": "ProgressStyleModel",
          "state": {
            "_view_name": "StyleView",
            "_model_name": "ProgressStyleModel",
            "description_width": "initial",
            "_view_module": "@jupyter-widgets/base",
            "_model_module_version": "1.5.0",
            "_view_count": null,
            "_view_module_version": "1.2.0",
            "bar_color": null,
            "_model_module": "@jupyter-widgets/controls"
          }
        },
        "11ab555087ad469bb026995838cf14ef": {
          "model_module": "@jupyter-widgets/base",
          "model_name": "LayoutModel",
          "state": {
            "_view_name": "LayoutView",
            "grid_template_rows": null,
            "right": null,
            "justify_content": null,
            "_view_module": "@jupyter-widgets/base",
            "overflow": null,
            "_model_module_version": "1.2.0",
            "_view_count": null,
            "flex_flow": null,
            "width": null,
            "min_width": null,
            "border": null,
            "align_items": null,
            "bottom": null,
            "_model_module": "@jupyter-widgets/base",
            "top": null,
            "grid_column": null,
            "overflow_y": null,
            "overflow_x": null,
            "grid_auto_flow": null,
            "grid_area": null,
            "grid_template_columns": null,
            "flex": null,
            "_model_name": "LayoutModel",
            "justify_items": null,
            "grid_row": null,
            "max_height": null,
            "align_content": null,
            "visibility": null,
            "align_self": null,
            "height": null,
            "min_height": null,
            "padding": null,
            "grid_auto_rows": null,
            "grid_gap": null,
            "max_width": null,
            "order": null,
            "_view_module_version": "1.2.0",
            "grid_template_areas": null,
            "object_position": null,
            "object_fit": null,
            "grid_auto_columns": null,
            "margin": null,
            "display": null,
            "left": null
          }
        },
        "a077b3991478424f80e29bf25d38a813": {
          "model_module": "@jupyter-widgets/controls",
          "model_name": "DescriptionStyleModel",
          "state": {
            "_view_name": "StyleView",
            "_model_name": "DescriptionStyleModel",
            "description_width": "",
            "_view_module": "@jupyter-widgets/base",
            "_model_module_version": "1.5.0",
            "_view_count": null,
            "_view_module_version": "1.2.0",
            "_model_module": "@jupyter-widgets/controls"
          }
        },
        "82530721b9354a8a80b1245184c44123": {
          "model_module": "@jupyter-widgets/base",
          "model_name": "LayoutModel",
          "state": {
            "_view_name": "LayoutView",
            "grid_template_rows": null,
            "right": null,
            "justify_content": null,
            "_view_module": "@jupyter-widgets/base",
            "overflow": null,
            "_model_module_version": "1.2.0",
            "_view_count": null,
            "flex_flow": null,
            "width": null,
            "min_width": null,
            "border": null,
            "align_items": null,
            "bottom": null,
            "_model_module": "@jupyter-widgets/base",
            "top": null,
            "grid_column": null,
            "overflow_y": null,
            "overflow_x": null,
            "grid_auto_flow": null,
            "grid_area": null,
            "grid_template_columns": null,
            "flex": null,
            "_model_name": "LayoutModel",
            "justify_items": null,
            "grid_row": null,
            "max_height": null,
            "align_content": null,
            "visibility": null,
            "align_self": null,
            "height": null,
            "min_height": null,
            "padding": null,
            "grid_auto_rows": null,
            "grid_gap": null,
            "max_width": null,
            "order": null,
            "_view_module_version": "1.2.0",
            "grid_template_areas": null,
            "object_position": null,
            "object_fit": null,
            "grid_auto_columns": null,
            "margin": null,
            "display": null,
            "left": null
          }
        },
        "328cd653d34f4045a79b173bbc6cbdf7": {
          "model_module": "@jupyter-widgets/controls",
          "model_name": "HBoxModel",
          "state": {
            "_view_name": "HBoxView",
            "_dom_classes": [],
            "_model_name": "HBoxModel",
            "_view_module": "@jupyter-widgets/controls",
            "_model_module_version": "1.5.0",
            "_view_count": null,
            "_view_module_version": "1.5.0",
            "box_style": "",
            "layout": "IPY_MODEL_c746742e27024487b404f1b2ad268a80",
            "_model_module": "@jupyter-widgets/controls",
            "children": [
              "IPY_MODEL_4d59a6433a844996b4d47b91373fe226",
              "IPY_MODEL_2f110790b6b34e00bb9bb98ea8869b28"
            ]
          }
        },
        "c746742e27024487b404f1b2ad268a80": {
          "model_module": "@jupyter-widgets/base",
          "model_name": "LayoutModel",
          "state": {
            "_view_name": "LayoutView",
            "grid_template_rows": null,
            "right": null,
            "justify_content": null,
            "_view_module": "@jupyter-widgets/base",
            "overflow": null,
            "_model_module_version": "1.2.0",
            "_view_count": null,
            "flex_flow": null,
            "width": null,
            "min_width": null,
            "border": null,
            "align_items": null,
            "bottom": null,
            "_model_module": "@jupyter-widgets/base",
            "top": null,
            "grid_column": null,
            "overflow_y": null,
            "overflow_x": null,
            "grid_auto_flow": null,
            "grid_area": null,
            "grid_template_columns": null,
            "flex": null,
            "_model_name": "LayoutModel",
            "justify_items": null,
            "grid_row": null,
            "max_height": null,
            "align_content": null,
            "visibility": null,
            "align_self": null,
            "height": null,
            "min_height": null,
            "padding": null,
            "grid_auto_rows": null,
            "grid_gap": null,
            "max_width": null,
            "order": null,
            "_view_module_version": "1.2.0",
            "grid_template_areas": null,
            "object_position": null,
            "object_fit": null,
            "grid_auto_columns": null,
            "margin": null,
            "display": null,
            "left": null
          }
        },
        "4d59a6433a844996b4d47b91373fe226": {
          "model_module": "@jupyter-widgets/controls",
          "model_name": "FloatProgressModel",
          "state": {
            "_view_name": "ProgressView",
            "style": "IPY_MODEL_4cf5ed2ef4d2443db06e20db2bc1a4fd",
            "_dom_classes": [],
            "description": "Downloading: 100%",
            "_model_name": "FloatProgressModel",
            "bar_style": "success",
            "max": 1713123,
            "_view_module": "@jupyter-widgets/controls",
            "_model_module_version": "1.5.0",
            "value": 1713123,
            "_view_count": null,
            "_view_module_version": "1.5.0",
            "orientation": "horizontal",
            "min": 0,
            "description_tooltip": null,
            "_model_module": "@jupyter-widgets/controls",
            "layout": "IPY_MODEL_70a4ccec147f4bc8a44bcab008583fa3"
          }
        },
        "2f110790b6b34e00bb9bb98ea8869b28": {
          "model_module": "@jupyter-widgets/controls",
          "model_name": "HTMLModel",
          "state": {
            "_view_name": "HTMLView",
            "style": "IPY_MODEL_29d0696089764a148eb2f4400e1e786b",
            "_dom_classes": [],
            "description": "",
            "_model_name": "HTMLModel",
            "placeholder": "​",
            "_view_module": "@jupyter-widgets/controls",
            "_model_module_version": "1.5.0",
            "value": " 1.71M/1.71M [00:02&lt;00:00, 783kB/s]",
            "_view_count": null,
            "_view_module_version": "1.5.0",
            "description_tooltip": null,
            "_model_module": "@jupyter-widgets/controls",
            "layout": "IPY_MODEL_5399ad37da6f4dc8b5039a86bcd52fa1"
          }
        },
        "4cf5ed2ef4d2443db06e20db2bc1a4fd": {
          "model_module": "@jupyter-widgets/controls",
          "model_name": "ProgressStyleModel",
          "state": {
            "_view_name": "StyleView",
            "_model_name": "ProgressStyleModel",
            "description_width": "initial",
            "_view_module": "@jupyter-widgets/base",
            "_model_module_version": "1.5.0",
            "_view_count": null,
            "_view_module_version": "1.2.0",
            "bar_color": null,
            "_model_module": "@jupyter-widgets/controls"
          }
        },
        "70a4ccec147f4bc8a44bcab008583fa3": {
          "model_module": "@jupyter-widgets/base",
          "model_name": "LayoutModel",
          "state": {
            "_view_name": "LayoutView",
            "grid_template_rows": null,
            "right": null,
            "justify_content": null,
            "_view_module": "@jupyter-widgets/base",
            "overflow": null,
            "_model_module_version": "1.2.0",
            "_view_count": null,
            "flex_flow": null,
            "width": null,
            "min_width": null,
            "border": null,
            "align_items": null,
            "bottom": null,
            "_model_module": "@jupyter-widgets/base",
            "top": null,
            "grid_column": null,
            "overflow_y": null,
            "overflow_x": null,
            "grid_auto_flow": null,
            "grid_area": null,
            "grid_template_columns": null,
            "flex": null,
            "_model_name": "LayoutModel",
            "justify_items": null,
            "grid_row": null,
            "max_height": null,
            "align_content": null,
            "visibility": null,
            "align_self": null,
            "height": null,
            "min_height": null,
            "padding": null,
            "grid_auto_rows": null,
            "grid_gap": null,
            "max_width": null,
            "order": null,
            "_view_module_version": "1.2.0",
            "grid_template_areas": null,
            "object_position": null,
            "object_fit": null,
            "grid_auto_columns": null,
            "margin": null,
            "display": null,
            "left": null
          }
        },
        "29d0696089764a148eb2f4400e1e786b": {
          "model_module": "@jupyter-widgets/controls",
          "model_name": "DescriptionStyleModel",
          "state": {
            "_view_name": "StyleView",
            "_model_name": "DescriptionStyleModel",
            "description_width": "",
            "_view_module": "@jupyter-widgets/base",
            "_model_module_version": "1.5.0",
            "_view_count": null,
            "_view_module_version": "1.2.0",
            "_model_module": "@jupyter-widgets/controls"
          }
        },
        "5399ad37da6f4dc8b5039a86bcd52fa1": {
          "model_module": "@jupyter-widgets/base",
          "model_name": "LayoutModel",
          "state": {
            "_view_name": "LayoutView",
            "grid_template_rows": null,
            "right": null,
            "justify_content": null,
            "_view_module": "@jupyter-widgets/base",
            "overflow": null,
            "_model_module_version": "1.2.0",
            "_view_count": null,
            "flex_flow": null,
            "width": null,
            "min_width": null,
            "border": null,
            "align_items": null,
            "bottom": null,
            "_model_module": "@jupyter-widgets/base",
            "top": null,
            "grid_column": null,
            "overflow_y": null,
            "overflow_x": null,
            "grid_auto_flow": null,
            "grid_area": null,
            "grid_template_columns": null,
            "flex": null,
            "_model_name": "LayoutModel",
            "justify_items": null,
            "grid_row": null,
            "max_height": null,
            "align_content": null,
            "visibility": null,
            "align_self": null,
            "height": null,
            "min_height": null,
            "padding": null,
            "grid_auto_rows": null,
            "grid_gap": null,
            "max_width": null,
            "order": null,
            "_view_module_version": "1.2.0",
            "grid_template_areas": null,
            "object_position": null,
            "object_fit": null,
            "grid_auto_columns": null,
            "margin": null,
            "display": null,
            "left": null
          }
        },
        "8c2c7d64336b4a4fa9fbca4192942c92": {
          "model_module": "@jupyter-widgets/controls",
          "model_name": "HBoxModel",
          "state": {
            "_view_name": "HBoxView",
            "_dom_classes": [],
            "_model_name": "HBoxModel",
            "_view_module": "@jupyter-widgets/controls",
            "_model_module_version": "1.5.0",
            "_view_count": null,
            "_view_module_version": "1.5.0",
            "box_style": "",
            "layout": "IPY_MODEL_42da39af0f194e718b4bac9292bbf471",
            "_model_module": "@jupyter-widgets/controls",
            "children": [
              "IPY_MODEL_fc814665b3d642fd994fcead456f047c",
              "IPY_MODEL_d060183686a14db7b83a5f770d1f1413"
            ]
          }
        },
        "42da39af0f194e718b4bac9292bbf471": {
          "model_module": "@jupyter-widgets/base",
          "model_name": "LayoutModel",
          "state": {
            "_view_name": "LayoutView",
            "grid_template_rows": null,
            "right": null,
            "justify_content": null,
            "_view_module": "@jupyter-widgets/base",
            "overflow": null,
            "_model_module_version": "1.2.0",
            "_view_count": null,
            "flex_flow": null,
            "width": null,
            "min_width": null,
            "border": null,
            "align_items": null,
            "bottom": null,
            "_model_module": "@jupyter-widgets/base",
            "top": null,
            "grid_column": null,
            "overflow_y": null,
            "overflow_x": null,
            "grid_auto_flow": null,
            "grid_area": null,
            "grid_template_columns": null,
            "flex": null,
            "_model_name": "LayoutModel",
            "justify_items": null,
            "grid_row": null,
            "max_height": null,
            "align_content": null,
            "visibility": null,
            "align_self": null,
            "height": null,
            "min_height": null,
            "padding": null,
            "grid_auto_rows": null,
            "grid_gap": null,
            "max_width": null,
            "order": null,
            "_view_module_version": "1.2.0",
            "grid_template_areas": null,
            "object_position": null,
            "object_fit": null,
            "grid_auto_columns": null,
            "margin": null,
            "display": null,
            "left": null
          }
        },
        "fc814665b3d642fd994fcead456f047c": {
          "model_module": "@jupyter-widgets/controls",
          "model_name": "FloatProgressModel",
          "state": {
            "_view_name": "ProgressView",
            "style": "IPY_MODEL_46f02266bf804233947a28d9582d477f",
            "_dom_classes": [],
            "description": "Downloading: 100%",
            "_model_name": "FloatProgressModel",
            "bar_style": "success",
            "max": 1270925,
            "_view_module": "@jupyter-widgets/controls",
            "_model_module_version": "1.5.0",
            "value": 1270925,
            "_view_count": null,
            "_view_module_version": "1.5.0",
            "orientation": "horizontal",
            "min": 0,
            "description_tooltip": null,
            "_model_module": "@jupyter-widgets/controls",
            "layout": "IPY_MODEL_90e91406426448309ee30d004892b77a"
          }
        },
        "d060183686a14db7b83a5f770d1f1413": {
          "model_module": "@jupyter-widgets/controls",
          "model_name": "HTMLModel",
          "state": {
            "_view_name": "HTMLView",
            "style": "IPY_MODEL_41d9f8a3eba94388b94f59748f4d7b28",
            "_dom_classes": [],
            "description": "",
            "_model_name": "HTMLModel",
            "placeholder": "​",
            "_view_module": "@jupyter-widgets/controls",
            "_model_module_version": "1.5.0",
            "value": " 1.27M/1.27M [00:04&lt;00:00, 293kB/s]",
            "_view_count": null,
            "_view_module_version": "1.5.0",
            "description_tooltip": null,
            "_model_module": "@jupyter-widgets/controls",
            "layout": "IPY_MODEL_04ad76017ca84d39bb326a2f4d16432f"
          }
        },
        "46f02266bf804233947a28d9582d477f": {
          "model_module": "@jupyter-widgets/controls",
          "model_name": "ProgressStyleModel",
          "state": {
            "_view_name": "StyleView",
            "_model_name": "ProgressStyleModel",
            "description_width": "initial",
            "_view_module": "@jupyter-widgets/base",
            "_model_module_version": "1.5.0",
            "_view_count": null,
            "_view_module_version": "1.2.0",
            "bar_color": null,
            "_model_module": "@jupyter-widgets/controls"
          }
        },
        "90e91406426448309ee30d004892b77a": {
          "model_module": "@jupyter-widgets/base",
          "model_name": "LayoutModel",
          "state": {
            "_view_name": "LayoutView",
            "grid_template_rows": null,
            "right": null,
            "justify_content": null,
            "_view_module": "@jupyter-widgets/base",
            "overflow": null,
            "_model_module_version": "1.2.0",
            "_view_count": null,
            "flex_flow": null,
            "width": null,
            "min_width": null,
            "border": null,
            "align_items": null,
            "bottom": null,
            "_model_module": "@jupyter-widgets/base",
            "top": null,
            "grid_column": null,
            "overflow_y": null,
            "overflow_x": null,
            "grid_auto_flow": null,
            "grid_area": null,
            "grid_template_columns": null,
            "flex": null,
            "_model_name": "LayoutModel",
            "justify_items": null,
            "grid_row": null,
            "max_height": null,
            "align_content": null,
            "visibility": null,
            "align_self": null,
            "height": null,
            "min_height": null,
            "padding": null,
            "grid_auto_rows": null,
            "grid_gap": null,
            "max_width": null,
            "order": null,
            "_view_module_version": "1.2.0",
            "grid_template_areas": null,
            "object_position": null,
            "object_fit": null,
            "grid_auto_columns": null,
            "margin": null,
            "display": null,
            "left": null
          }
        },
        "41d9f8a3eba94388b94f59748f4d7b28": {
          "model_module": "@jupyter-widgets/controls",
          "model_name": "DescriptionStyleModel",
          "state": {
            "_view_name": "StyleView",
            "_model_name": "DescriptionStyleModel",
            "description_width": "",
            "_view_module": "@jupyter-widgets/base",
            "_model_module_version": "1.5.0",
            "_view_count": null,
            "_view_module_version": "1.2.0",
            "_model_module": "@jupyter-widgets/controls"
          }
        },
        "04ad76017ca84d39bb326a2f4d16432f": {
          "model_module": "@jupyter-widgets/base",
          "model_name": "LayoutModel",
          "state": {
            "_view_name": "LayoutView",
            "grid_template_rows": null,
            "right": null,
            "justify_content": null,
            "_view_module": "@jupyter-widgets/base",
            "overflow": null,
            "_model_module_version": "1.2.0",
            "_view_count": null,
            "flex_flow": null,
            "width": null,
            "min_width": null,
            "border": null,
            "align_items": null,
            "bottom": null,
            "_model_module": "@jupyter-widgets/base",
            "top": null,
            "grid_column": null,
            "overflow_y": null,
            "overflow_x": null,
            "grid_auto_flow": null,
            "grid_area": null,
            "grid_template_columns": null,
            "flex": null,
            "_model_name": "LayoutModel",
            "justify_items": null,
            "grid_row": null,
            "max_height": null,
            "align_content": null,
            "visibility": null,
            "align_self": null,
            "height": null,
            "min_height": null,
            "padding": null,
            "grid_auto_rows": null,
            "grid_gap": null,
            "max_width": null,
            "order": null,
            "_view_module_version": "1.2.0",
            "grid_template_areas": null,
            "object_position": null,
            "object_fit": null,
            "grid_auto_columns": null,
            "margin": null,
            "display": null,
            "left": null
          }
        },
        "f45643c09a7f4968b6f34088f888552a": {
          "model_module": "@jupyter-widgets/controls",
          "model_name": "HBoxModel",
          "state": {
            "_view_name": "HBoxView",
            "_dom_classes": [],
            "_model_name": "HBoxModel",
            "_view_module": "@jupyter-widgets/controls",
            "_model_module_version": "1.5.0",
            "_view_count": null,
            "_view_module_version": "1.5.0",
            "box_style": "",
            "layout": "IPY_MODEL_15d7d5f037d24ce4b9dfb54957003dc1",
            "_model_module": "@jupyter-widgets/controls",
            "children": [
              "IPY_MODEL_89806198c3854dd2992fc4bd9b6d1c53",
              "IPY_MODEL_506d3f30dab94e5ebf8d09069436071d"
            ]
          }
        },
        "15d7d5f037d24ce4b9dfb54957003dc1": {
          "model_module": "@jupyter-widgets/base",
          "model_name": "LayoutModel",
          "state": {
            "_view_name": "LayoutView",
            "grid_template_rows": null,
            "right": null,
            "justify_content": null,
            "_view_module": "@jupyter-widgets/base",
            "overflow": null,
            "_model_module_version": "1.2.0",
            "_view_count": null,
            "flex_flow": null,
            "width": null,
            "min_width": null,
            "border": null,
            "align_items": null,
            "bottom": null,
            "_model_module": "@jupyter-widgets/base",
            "top": null,
            "grid_column": null,
            "overflow_y": null,
            "overflow_x": null,
            "grid_auto_flow": null,
            "grid_area": null,
            "grid_template_columns": null,
            "flex": null,
            "_model_name": "LayoutModel",
            "justify_items": null,
            "grid_row": null,
            "max_height": null,
            "align_content": null,
            "visibility": null,
            "align_self": null,
            "height": null,
            "min_height": null,
            "padding": null,
            "grid_auto_rows": null,
            "grid_gap": null,
            "max_width": null,
            "order": null,
            "_view_module_version": "1.2.0",
            "grid_template_areas": null,
            "object_position": null,
            "object_fit": null,
            "grid_auto_columns": null,
            "margin": null,
            "display": null,
            "left": null
          }
        },
        "89806198c3854dd2992fc4bd9b6d1c53": {
          "model_module": "@jupyter-widgets/controls",
          "model_name": "FloatProgressModel",
          "state": {
            "_view_name": "ProgressView",
            "style": "IPY_MODEL_84a2d3d936e1449791779f64802b5877",
            "_dom_classes": [],
            "description": "Downloading: 100%",
            "_model_name": "FloatProgressModel",
            "bar_style": "success",
            "max": 3141928084,
            "_view_module": "@jupyter-widgets/controls",
            "_model_module_version": "1.5.0",
            "value": 3141928084,
            "_view_count": null,
            "_view_module_version": "1.5.0",
            "orientation": "horizontal",
            "min": 0,
            "description_tooltip": null,
            "_model_module": "@jupyter-widgets/controls",
            "layout": "IPY_MODEL_91c398b26849465d9edd2461685f9644"
          }
        },
        "506d3f30dab94e5ebf8d09069436071d": {
          "model_module": "@jupyter-widgets/controls",
          "model_name": "HTMLModel",
          "state": {
            "_view_name": "HTMLView",
            "style": "IPY_MODEL_a14f41e65b134b2a87410a338fce1480",
            "_dom_classes": [],
            "description": "",
            "_model_name": "HTMLModel",
            "placeholder": "​",
            "_view_module": "@jupyter-widgets/controls",
            "_model_module_version": "1.5.0",
            "value": " 3.14G/3.14G [01:34&lt;00:00, 33.1MB/s]",
            "_view_count": null,
            "_view_module_version": "1.5.0",
            "description_tooltip": null,
            "_model_module": "@jupyter-widgets/controls",
            "layout": "IPY_MODEL_32396c71374d4ca1916bc806949d4a4f"
          }
        },
        "84a2d3d936e1449791779f64802b5877": {
          "model_module": "@jupyter-widgets/controls",
          "model_name": "ProgressStyleModel",
          "state": {
            "_view_name": "StyleView",
            "_model_name": "ProgressStyleModel",
            "description_width": "initial",
            "_view_module": "@jupyter-widgets/base",
            "_model_module_version": "1.5.0",
            "_view_count": null,
            "_view_module_version": "1.2.0",
            "bar_color": null,
            "_model_module": "@jupyter-widgets/controls"
          }
        },
        "91c398b26849465d9edd2461685f9644": {
          "model_module": "@jupyter-widgets/base",
          "model_name": "LayoutModel",
          "state": {
            "_view_name": "LayoutView",
            "grid_template_rows": null,
            "right": null,
            "justify_content": null,
            "_view_module": "@jupyter-widgets/base",
            "overflow": null,
            "_model_module_version": "1.2.0",
            "_view_count": null,
            "flex_flow": null,
            "width": null,
            "min_width": null,
            "border": null,
            "align_items": null,
            "bottom": null,
            "_model_module": "@jupyter-widgets/base",
            "top": null,
            "grid_column": null,
            "overflow_y": null,
            "overflow_x": null,
            "grid_auto_flow": null,
            "grid_area": null,
            "grid_template_columns": null,
            "flex": null,
            "_model_name": "LayoutModel",
            "justify_items": null,
            "grid_row": null,
            "max_height": null,
            "align_content": null,
            "visibility": null,
            "align_self": null,
            "height": null,
            "min_height": null,
            "padding": null,
            "grid_auto_rows": null,
            "grid_gap": null,
            "max_width": null,
            "order": null,
            "_view_module_version": "1.2.0",
            "grid_template_areas": null,
            "object_position": null,
            "object_fit": null,
            "grid_auto_columns": null,
            "margin": null,
            "display": null,
            "left": null
          }
        },
        "a14f41e65b134b2a87410a338fce1480": {
          "model_module": "@jupyter-widgets/controls",
          "model_name": "DescriptionStyleModel",
          "state": {
            "_view_name": "StyleView",
            "_model_name": "DescriptionStyleModel",
            "description_width": "",
            "_view_module": "@jupyter-widgets/base",
            "_model_module_version": "1.5.0",
            "_view_count": null,
            "_view_module_version": "1.2.0",
            "_model_module": "@jupyter-widgets/controls"
          }
        },
        "32396c71374d4ca1916bc806949d4a4f": {
          "model_module": "@jupyter-widgets/base",
          "model_name": "LayoutModel",
          "state": {
            "_view_name": "LayoutView",
            "grid_template_rows": null,
            "right": null,
            "justify_content": null,
            "_view_module": "@jupyter-widgets/base",
            "overflow": null,
            "_model_module_version": "1.2.0",
            "_view_count": null,
            "flex_flow": null,
            "width": null,
            "min_width": null,
            "border": null,
            "align_items": null,
            "bottom": null,
            "_model_module": "@jupyter-widgets/base",
            "top": null,
            "grid_column": null,
            "overflow_y": null,
            "overflow_x": null,
            "grid_auto_flow": null,
            "grid_area": null,
            "grid_template_columns": null,
            "flex": null,
            "_model_name": "LayoutModel",
            "justify_items": null,
            "grid_row": null,
            "max_height": null,
            "align_content": null,
            "visibility": null,
            "align_self": null,
            "height": null,
            "min_height": null,
            "padding": null,
            "grid_auto_rows": null,
            "grid_gap": null,
            "max_width": null,
            "order": null,
            "_view_module_version": "1.2.0",
            "grid_template_areas": null,
            "object_position": null,
            "object_fit": null,
            "grid_auto_columns": null,
            "margin": null,
            "display": null,
            "left": null
          }
        }
      }
    },
    "language_info": {
      "name": "python",
      "version": "3.9.5",
      "mimetype": "text/x-python",
      "codemirror_mode": {
        "name": "ipython",
        "version": 3
      },
      "pygments_lexer": "ipython3",
      "nbconvert_exporter": "python",
      "file_extension": ".py"
    },
    "interpreter": {
      "hash": "9dc16db89c7b7868c1bda26003793495fc53e348f30248cc96f0b4588f8ccbba"
    }
  },
  "cells": [
    {
      "cell_type": "markdown",
      "source": [
        "# Генерация из GPT"
      ],
      "metadata": {
        "id": "dZyeU8qnjAw7"
      }
    },
    {
      "cell_type": "markdown",
      "source": [
        "Будем генерировать твиты по примерам из аккаунта \"Усы Пескова\": https://twitter.com/Sandy_mustache"
      ],
      "metadata": {
        "id": "Fz2iVM2rlQg-"
      }
    },
    {
      "cell_type": "code",
      "execution_count": 1,
      "source": [
        "!pip install transformers"
      ],
      "outputs": [
        {
          "output_type": "stream",
          "name": "stdout",
          "text": [
            "Requirement already satisfied: transformers in c:\\programdata\\python\\lib\\site-packages (4.8.2)\n",
            "Requirement already satisfied: sacremoses in c:\\programdata\\python\\lib\\site-packages (from transformers) (0.0.45)\n",
            "Requirement already satisfied: tqdm>=4.27 in c:\\programdata\\python\\lib\\site-packages (from transformers) (4.61.1)\n",
            "Requirement already satisfied: pyyaml in c:\\programdata\\python\\lib\\site-packages (from transformers) (5.4.1)\n",
            "Requirement already satisfied: huggingface-hub==0.0.12 in c:\\programdata\\python\\lib\\site-packages (from transformers) (0.0.12)\n",
            "Requirement already satisfied: tokenizers<0.11,>=0.10.1 in c:\\programdata\\python\\lib\\site-packages (from transformers) (0.10.3)\n",
            "Requirement already satisfied: filelock in c:\\programdata\\python\\lib\\site-packages (from transformers) (3.0.12)\n",
            "Requirement already satisfied: requests in c:\\users\\zald\\appdata\\roaming\\python\\python39\\site-packages (from transformers) (2.25.1)\n",
            "Requirement already satisfied: regex!=2019.12.17 in c:\\programdata\\python\\lib\\site-packages (from transformers) (2021.7.1)\n",
            "Requirement already satisfied: packaging in c:\\users\\zald\\appdata\\roaming\\python\\python39\\site-packages (from transformers) (20.9)\n",
            "Requirement already satisfied: numpy>=1.17 in c:\\programdata\\python\\lib\\site-packages (from transformers) (1.19.5)\n",
            "Requirement already satisfied: typing-extensions in c:\\programdata\\python\\lib\\site-packages (from huggingface-hub==0.0.12->transformers) (3.7.4.3)\n",
            "Requirement already satisfied: pyparsing>=2.0.2 in c:\\programdata\\python\\lib\\site-packages (from packaging->transformers) (2.4.7)\n",
            "Requirement already satisfied: chardet<5,>=3.0.2 in c:\\users\\zald\\appdata\\roaming\\python\\python39\\site-packages (from requests->transformers) (4.0.0)\n",
            "Requirement already satisfied: urllib3<1.27,>=1.21.1 in c:\\users\\zald\\appdata\\roaming\\python\\python39\\site-packages (from requests->transformers) (1.26.5)\n",
            "Requirement already satisfied: certifi>=2017.4.17 in c:\\users\\zald\\appdata\\roaming\\python\\python39\\site-packages (from requests->transformers) (2021.5.30)\n",
            "Requirement already satisfied: idna<3,>=2.5 in c:\\users\\zald\\appdata\\roaming\\python\\python39\\site-packages (from requests->transformers) (2.10)\n",
            "Requirement already satisfied: six in c:\\programdata\\python\\lib\\site-packages (from sacremoses->transformers) (1.15.0)\n",
            "Requirement already satisfied: click in c:\\programdata\\python\\lib\\site-packages (from sacremoses->transformers) (8.0.1)\n",
            "Requirement already satisfied: joblib in c:\\programdata\\python\\lib\\site-packages (from sacremoses->transformers) (1.0.1)\n",
            "Requirement already satisfied: colorama in c:\\programdata\\python\\lib\\site-packages (from click->sacremoses->transformers) (0.4.4)\n"
          ]
        }
      ],
      "metadata": {
        "id": "Se6JNcYPjAZd",
        "colab": {
          "base_uri": "https://localhost:8080/"
        },
        "outputId": "276fa4d0-68ed-405b-bc50-9332b646bdf5"
      }
    },
    {
      "cell_type": "code",
      "execution_count": 2,
      "source": [
        "!wget https://gist.githubusercontent.com/avidale/d3da0ded85a4a16db6eb84d8331638ce/raw/a188084e5ef37b43b01fef0534b55c865b9a569e/tweets.txt"
      ],
      "outputs": [
        {
          "output_type": "stream",
          "name": "stderr",
          "text": [
            "\"wget\" �� ���� ����७��� ��� ���譥�\n",
            "��������, �ᯮ��塞�� �ணࠬ��� ��� ������ 䠩���.\n"
          ]
        }
      ],
      "metadata": {
        "id": "YZpCJfoBgODA",
        "colab": {
          "base_uri": "https://localhost:8080/"
        },
        "outputId": "7149e358-bc03-4f16-ad8f-09ae721cfc11"
      }
    },
    {
      "cell_type": "code",
      "execution_count": 3,
      "source": [
        "with open('tweets.txt', 'r', encoding='utf-8') as f:\r\n",
        "    tweets = f.read().strip().split('\\n\\n')\r\n",
        "print(len(tweets))\r\n",
        "for i in range(3):\r\n",
        "    print(tweets[i])"
      ],
      "outputs": [
        {
          "output_type": "stream",
          "name": "stdout",
          "text": [
            "26\n",
            "Соловьев наконец-то вышел на новый уровень - теперь его стали банить и в офлайне\n",
            "Дарим мы тебе бутылку игристого вина. Пить тебе еще рано, но встретиться с ней за некоторые преступления ты уже можешь. ПОЗ-ДРАВ-ЛЯ-ЕМ!\n",
            "Да. Еще очень многие помнят, что такое госплан, как планировалось, талоны на еду, очереди, дефицит, выездные визы. Но спасибо, что напомнил\n"
          ]
        }
      ],
      "metadata": {
        "colab": {
          "base_uri": "https://localhost:8080/"
        },
        "id": "Ia8HOsLMgaua",
        "outputId": "2e1c12d6-7da0-4bd2-fff6-f793de1c9e1e"
      }
    },
    {
      "cell_type": "code",
      "execution_count": 4,
      "source": [
        "import torch\r\n",
        "device = torch.device(\"cuda\")"
      ],
      "outputs": [],
      "metadata": {
        "id": "yxDPUmnJhAuu"
      }
    },
    {
      "cell_type": "code",
      "execution_count": 5,
      "source": [
        "from transformers import AutoTokenizer, AutoModelForCausalLM"
      ],
      "outputs": [],
      "metadata": {
        "id": "FeVUjitigoj4"
      }
    },
    {
      "cell_type": "code",
      "execution_count": 6,
      "source": [
        "model_name = 'sberbank-ai/rugpt3large_based_on_gpt2'\r\n",
        "#model_name = 'Grossmend/rudialogpt3_medium_based_on_gpt2'\r\n",
        "tokenizer = AutoTokenizer.from_pretrained(model_name)\r\n",
        "model = AutoModelForCausalLM.from_pretrained(model_name).to(device)"
      ],
      "outputs": [
        {
          "output_type": "stream",
          "name": "stderr",
          "text": [
            "Special tokens have been added in the vocabulary, make sure the associated word embeddings are fine-tuned or trained.\n"
          ]
        }
      ],
      "metadata": {
        "colab": {
          "base_uri": "https://localhost:8080/",
          "height": 230,
          "referenced_widgets": [
            "a88f12d4ccc64d3981d9bc428b70a599",
            "3e81e90bc0ef4808b2381f63ae21ab6d",
            "dfd318f75fe240aa999ae6003fa5ceb0",
            "ef56bc8efbb54001bb3be3a732b73dea",
            "563ae5c6ed264ce4a24dd81bfd532154",
            "11ab555087ad469bb026995838cf14ef",
            "a077b3991478424f80e29bf25d38a813",
            "82530721b9354a8a80b1245184c44123",
            "328cd653d34f4045a79b173bbc6cbdf7",
            "c746742e27024487b404f1b2ad268a80",
            "4d59a6433a844996b4d47b91373fe226",
            "2f110790b6b34e00bb9bb98ea8869b28",
            "4cf5ed2ef4d2443db06e20db2bc1a4fd",
            "70a4ccec147f4bc8a44bcab008583fa3",
            "29d0696089764a148eb2f4400e1e786b",
            "5399ad37da6f4dc8b5039a86bcd52fa1",
            "8c2c7d64336b4a4fa9fbca4192942c92",
            "42da39af0f194e718b4bac9292bbf471",
            "fc814665b3d642fd994fcead456f047c",
            "d060183686a14db7b83a5f770d1f1413",
            "46f02266bf804233947a28d9582d477f",
            "90e91406426448309ee30d004892b77a",
            "41d9f8a3eba94388b94f59748f4d7b28",
            "04ad76017ca84d39bb326a2f4d16432f",
            "f45643c09a7f4968b6f34088f888552a",
            "15d7d5f037d24ce4b9dfb54957003dc1",
            "89806198c3854dd2992fc4bd9b6d1c53",
            "506d3f30dab94e5ebf8d09069436071d",
            "84a2d3d936e1449791779f64802b5877",
            "91c398b26849465d9edd2461685f9644",
            "a14f41e65b134b2a87410a338fce1480",
            "32396c71374d4ca1916bc806949d4a4f"
          ]
        },
        "id": "CFc42rc8g_wp",
        "outputId": "53450a8b-745d-48b3-f1fa-4613fc9c3bde"
      }
    },
    {
      "cell_type": "code",
      "execution_count": 7,
      "source": [
        "import random"
      ],
      "outputs": [],
      "metadata": {
        "id": "I_rb4emjhL1s"
      }
    },
    {
      "cell_type": "code",
      "execution_count": 8,
      "source": [
        "sep = '\\n***\\n'\r\n",
        "# sep = '\\n27479153\tSandy_mustache\t2021-02-18 16:44:00\t'\r\n",
        "\r\n",
        "prefix = sep.join([''] + random.sample(tweets, k=5) + [''])\r\n",
        "\r\n",
        "tokens = tokenizer(prefix, return_tensors='pt')\r\n",
        "tokens = {k: v.to(model.device) for k, v in tokens.items()}\r\n",
        "end_token_id = tokenizer.encode('*')[0]\r\n",
        "print(prefix)"
      ],
      "outputs": [
        {
          "output_type": "stream",
          "name": "stdout",
          "text": [
            "\n",
            "***\n",
            "Когда работа - улёт\n",
            "***\n",
            "Видимо, чтобы проголосовать онлайн, нужно будет прийти на участок с паспортом, зарегистрироваться в журнале участковой комиссии и удобно проголосовать не в кабинке, а на компьютере\n",
            "***\n",
            "Соловьев наконец-то вышел на новый уровень - теперь его стали банить и в офлайне\n",
            "***\n",
            "А чего они так боятся? Нам же все время говорят, что законопослушным гражданам скрывать нечего\n",
            "***\n",
            "В сеть утекли кадры с репетиции следующей инаугурации Путина\n",
            "***\n",
            "\n"
          ]
        }
      ],
      "metadata": {
        "colab": {
          "base_uri": "https://localhost:8080/"
        },
        "id": "JvVleYTChNM8",
        "outputId": "2e4290d8-d4bd-4387-cf10-2489855f76e0"
      }
    },
    {
      "cell_type": "code",
      "execution_count": 9,
      "source": [
        "size = tokens['input_ids'].shape[1]\r\n",
        "output = model.generate(\r\n",
        "    **tokens, \r\n",
        "    #end_token=end_token_id,\r\n",
        "    do_sample=False, \r\n",
        "    max_length=size+128, \r\n",
        "    repetition_penalty=1.2, \r\n",
        "    temperature=0.7,\r\n",
        "    num_beams=3,\r\n",
        ")\r\n",
        "decoded = tokenizer.decode(output[0])\r\n",
        "result = decoded[len(prefix):]\r\n",
        "print(result)"
      ],
      "outputs": [
        {
          "output_type": "stream",
          "name": "stderr",
          "text": [
            "Setting `pad_token_id` to `eos_token_id`:50256 for open-end generation.\n"
          ]
        },
        {
          "output_type": "stream",
          "name": "stdout",
          "text": [
            "Пресс-секретарь президента России Дмитрий Песков заявил, что Владимир Путин не будет баллотироваться на пост главы государства в 2018 году. Об этом сообщает РИА «Новости».\n",
            "\n",
            "«Президент не будет баллотироваться на пост главы государства в 2018 году», — сказал Песков.\n",
            "\n",
            "Ранее сообщалось, что Песков заявил, что Владимир Путин не будет баллотироваться на пост главы государства в 2018 году.\n",
            "\n",
            "https://lenta.ru/news/2018/12/28/putin/\n",
            "\n",
            "***\n",
            "Надеюсь, что Путин не будет баллотироваться на пост главы государства в 2018 году\n",
            "\n",
            "***\n",
            "\n"
          ]
        }
      ],
      "metadata": {
        "colab": {
          "base_uri": "https://localhost:8080/"
        },
        "id": "LfsS4j48hXki",
        "outputId": "a7cd84a8-ee48-4945-a032-5a9dd372186b"
      }
    },
    {
      "cell_type": "markdown",
      "source": [
        "# Диалоги"
      ],
      "metadata": {
        "id": "DjWvl0KnhpHJ"
      }
    },
    {
      "cell_type": "markdown",
      "source": [
        "Логика та же самая, что и с твитами. Только выбрали разделитель в стиле bash.org"
      ],
      "metadata": {
        "id": "E3iWjkcapklq"
      }
    },
    {
      "cell_type": "code",
      "execution_count": 10,
      "source": [
        "def respond_to_dialog(texts):\r\n",
        "    prefix = '\\nx:'\r\n",
        "    for i, t in enumerate(texts):\r\n",
        "        prefix += t\r\n",
        "        prefix += '\\nx:' if i % 2 == 1 else '\\ny:'\r\n",
        "    tokens = tokenizer(prefix, return_tensors='pt')\r\n",
        "    tokens = {k: v.to(model.device) for k, v in tokens.items()}\r\n",
        "    end_token_id = tokenizer.encode('\\n')[0]\r\n",
        "    size = tokens['input_ids'].shape[1]\r\n",
        "    output = model.generate(\r\n",
        "        **tokens, \r\n",
        "        eos_token_id=end_token_id,\r\n",
        "        do_sample=True, \r\n",
        "        max_length=size+128, \r\n",
        "        repetition_penalty=3.2, \r\n",
        "        temperature=1,\r\n",
        "        num_beams=3,\r\n",
        "        length_penalty=0.01,\r\n",
        "        pad_token_id=tokenizer.eos_token_id\r\n",
        "    )\r\n",
        "    decoded = tokenizer.decode(output[0])\r\n",
        "    result = decoded[len(prefix):]\r\n",
        "    return result.strip()"
      ],
      "outputs": [],
      "metadata": {
        "id": "BMp34fnqnPTT"
      }
    },
    {
      "cell_type": "code",
      "execution_count": 11,
      "source": [
        "seed = input('Начните диалог с ботом любой фразой\\n')\r\n",
        "history = [seed]\r\n",
        "for _ in range(5):\r\n",
        "    result = respond_to_dialog(history[-10:])\r\n",
        "    next_sentence = input(result + '\\n')\r\n",
        "    history.append(result)\r\n",
        "    history.append(next_sentence)"
      ],
      "outputs": [],
      "metadata": {
        "colab": {
          "base_uri": "https://localhost:8080/",
          "height": 595
        },
        "id": "Z3ONplkBnosw",
        "outputId": "986b110c-f1eb-4618-dc03-d87c86d91a0a"
      }
    },
    {
      "cell_type": "code",
      "execution_count": 12,
      "source": [
        "for i in range(10):\r\n",
        "    print(respond_to_dialog(['Давай поговорим о домашних животных', 'Каких питомцев вы любите?\\n--------', \r\n",
        "                             'Давай поговорим о машинах', 'Какого цвета твой автомобиль?\\n--------',\r\n",
        "                             'Давай поговорим о физике']))"
      ],
      "outputs": [
        {
          "output_type": "stream",
          "name": "stdout",
          "text": [
            "Что такое физика?\n",
            "Что такое электричество?\n",
            "Ты знаешь, что такое гравитация?\n",
            "Что такое физика?\n",
            "Какой цвет нравится тебе больше всего?\n",
            "Что ты знаешь об электричестве?\n",
            "Что такое физика?\n",
            "Что это такое?\n",
            "Что такое физика?\n",
            "Что такое физика?\n"
          ]
        }
      ],
      "metadata": {
        "id": "Cw70GdX5mh8b",
        "colab": {
          "base_uri": "https://localhost:8080/"
        },
        "outputId": "8ae64064-8384-4432-f42e-6acfa715abcd"
      }
    }
  ]
}