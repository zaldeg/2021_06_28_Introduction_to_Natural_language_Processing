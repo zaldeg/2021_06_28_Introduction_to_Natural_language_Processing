{
  "nbformat": 4,
  "nbformat_minor": 2,
  "metadata": {
    "accelerator": "GPU",
    "colab": {
      "name": "nmt_with_attention.ipynb",
      "provenance": [],
      "collapsed_sections": [],
      "toc_visible": true
    },
    "kernelspec": {
      "name": "python3",
      "display_name": "Python 3.9.5 64-bit"
    },
    "language_info": {
      "name": "python",
      "version": "3.9.5",
      "mimetype": "text/x-python",
      "codemirror_mode": {
        "name": "ipython",
        "version": 3
      },
      "pygments_lexer": "ipython3",
      "nbconvert_exporter": "python",
      "file_extension": ".py"
    },
    "interpreter": {
      "hash": "9dc16db89c7b7868c1bda26003793495fc53e348f30248cc96f0b4588f8ccbba"
    }
  },
  "cells": [
    {
      "cell_type": "markdown",
      "source": [
        "# Neural machine translation with attention"
      ],
      "metadata": {
        "id": "J0Qjg6vuaHNt"
      }
    },
    {
      "cell_type": "code",
      "execution_count": 1,
      "source": [
        "import tensorflow as tf\r\n",
        "\r\n",
        "import matplotlib.pyplot as plt\r\n",
        "import matplotlib.ticker as ticker\r\n",
        "from sklearn.model_selection import train_test_split\r\n",
        "\r\n",
        "import unicodedata\r\n",
        "import re\r\n",
        "import numpy as np\r\n",
        "import os\r\n",
        "import io\r\n",
        "import time"
      ],
      "outputs": [],
      "metadata": {
        "id": "tnxXKDjq3jEL"
      }
    },
    {
      "cell_type": "code",
      "execution_count": null,
      "source": [],
      "outputs": [],
      "metadata": {
        "id": "2Mt1WI-2Vd-Z"
      }
    },
    {
      "cell_type": "markdown",
      "source": [
        "## Download and prepare the dataset\n",
        "\n",
        "We'll use a language dataset provided by http://www.manythings.org/anki/"
      ],
      "metadata": {
        "id": "wfodePkj3jEa"
      }
    },
    {
      "cell_type": "code",
      "execution_count": 2,
      "source": [
        "# !wget http://www.manythings.org/anki/rus-eng.zip"
      ],
      "outputs": [],
      "metadata": {
        "id": "CNvjhDyAKk3U",
        "colab": {
          "base_uri": "https://localhost:8080/"
        },
        "outputId": "6c4134ee-2bcc-44fb-f159-10685073fa65"
      }
    },
    {
      "cell_type": "code",
      "execution_count": 3,
      "source": [
        "# !mkdir rus-eng\r\n",
        "# !unzip rus-eng.zip -d rus-eng/"
      ],
      "outputs": [],
      "metadata": {
        "id": "83bg17Lr-7XK",
        "colab": {
          "base_uri": "https://localhost:8080/"
        },
        "outputId": "eeb9d53d-e2b2-4324-e0e7-0646e187da62"
      }
    },
    {
      "cell_type": "code",
      "execution_count": 4,
      "source": [
        "# !ls /content/rus-eng/ -lah"
      ],
      "outputs": [],
      "metadata": {
        "id": "7o5L92efMMhf",
        "colab": {
          "base_uri": "https://localhost:8080/"
        },
        "outputId": "1742dd1c-be9c-4b0c-a845-8967a3bab60e"
      }
    },
    {
      "cell_type": "code",
      "execution_count": 5,
      "source": [
        "# Download the file\r\n",
        "path_to_file = \"rus-eng/rus.txt\""
      ],
      "outputs": [],
      "metadata": {
        "id": "kRVATYOgJs1b"
      }
    },
    {
      "cell_type": "code",
      "execution_count": 6,
      "source": [
        "def preprocess_sentence(w):\r\n",
        "  w = w.lower().strip()\r\n",
        "\r\n",
        "  # creating a space between a word and the punctuation following it\r\n",
        "  # eg: \"he is a boy.\" => \"he is a boy .\"\r\n",
        "  # Reference:- https://stackoverflow.com/questions/3645931/python-padding-punctuation-with-white-spaces-keeping-punctuation\r\n",
        "  w = re.sub(r\"([?.!,])\", r\" \\1 \", w)\r\n",
        "  w = re.sub(r'[\" \"]+', \" \", w)\r\n",
        "\r\n",
        "  # replacing everything with space except (a-z, A-Z, \".\", \"?\", \"!\", \",\")\r\n",
        "  w = re.sub(r\"[^a-zA-Zа-яА-Я?.!,']+\", \" \", w)\r\n",
        "\r\n",
        "  w = w.strip()\r\n",
        "\r\n",
        "  # adding a start and an end token to the sentence\r\n",
        "  # so that the model know when to start and stop predicting.\r\n",
        "  w = '<start> ' + w + ' <end>'\r\n",
        "  return w"
      ],
      "outputs": [],
      "metadata": {
        "id": "rd0jw-eC3jEh"
      }
    },
    {
      "cell_type": "code",
      "execution_count": 7,
      "source": [
        "preprocess_sentence(\"I can't go.\")"
      ],
      "outputs": [
        {
          "output_type": "execute_result",
          "data": {
            "text/plain": [
              "\"<start> i can't go . <end>\""
            ]
          },
          "metadata": {},
          "execution_count": 7
        }
      ],
      "metadata": {
        "id": "yV9lZXQXNbnH",
        "colab": {
          "base_uri": "https://localhost:8080/",
          "height": 35
        },
        "outputId": "62abb77d-47e0-4640-9d96-2ae53f702131"
      }
    },
    {
      "cell_type": "code",
      "execution_count": 8,
      "source": [
        "# 1. Remove the accents\r\n",
        "# 2. Clean the sentences\r\n",
        "# 3. Return word pairs in the format: [ENG, RUS]\r\n",
        "def create_dataset(path, num_examples):\r\n",
        "  lines = io.open(path, encoding='UTF-8').read().strip().split('\\n')\r\n",
        "\r\n",
        "  word_pairs = [[preprocess_sentence(w) for w in l.split('\\t')[:2]]  for l in lines[:num_examples]]\r\n",
        "\r\n",
        "  return zip(*word_pairs)"
      ],
      "outputs": [],
      "metadata": {
        "id": "OHn4Dct23jEm"
      }
    },
    {
      "cell_type": "code",
      "execution_count": 9,
      "source": [
        "en, ru = create_dataset(path_to_file, None)\r\n",
        "print(en[-1])\r\n",
        "print(ru[-1])"
      ],
      "outputs": [
        {
          "output_type": "stream",
          "name": "stdout",
          "text": [
            "<start> doubtless there exists in this world precisely the right woman for any given man to marry and vice versa but when you consider that a human being has the opportunity of being acquainted with only a few hundred people , and out of the few hundred that there are but a dozen or less whom he knows intimately , and out of the dozen , one or two friends at most , it will easily be seen , when we remember the number of millions who inhabit this world , that probably , since the earth was created , the right man has never yet met the right woman . <end>\n",
            "<start> несомненно , для каждого мужчины в этом мире где то есть подходящая женщина , которая может стать ему женой , обратное верно и для женщин . но если учесть , что у человека может быть максимум несколько сотен знакомых , из которых лишь дюжина , а то и меньше , тех , кого он знает близко , а из этой дюжины у него один или от силы два друга , то можно легко увидеть , что с уч том миллионов живущих на земле людей , ни один подходящий мужчина , возможно , ещ не встретил подходящую женщину . <end>\n"
          ]
        }
      ],
      "metadata": {
        "id": "cTbSbBz55QtF",
        "colab": {
          "base_uri": "https://localhost:8080/"
        },
        "outputId": "a6d817af-c6cc-4fcf-b6fd-3ef49cda2a27"
      }
    },
    {
      "cell_type": "code",
      "execution_count": 10,
      "source": [
        "def tokenize(lang):\r\n",
        "  lang_tokenizer = tf.keras.preprocessing.text.Tokenizer(\r\n",
        "      filters='')\r\n",
        "  lang_tokenizer.fit_on_texts(lang)\r\n",
        "\r\n",
        "  tensor = lang_tokenizer.texts_to_sequences(lang)\r\n",
        "\r\n",
        "  tensor = tf.keras.preprocessing.sequence.pad_sequences(tensor,\r\n",
        "                                                         padding='post')\r\n",
        "\r\n",
        "  return tensor, lang_tokenizer"
      ],
      "outputs": [],
      "metadata": {
        "id": "bIOn8RCNDJXG"
      }
    },
    {
      "cell_type": "code",
      "execution_count": 11,
      "source": [
        "def load_dataset(path, num_examples=None):\r\n",
        "  # creating cleaned input, output pairs\r\n",
        "  targ_lang, inp_lang = create_dataset(path, num_examples)\r\n",
        "\r\n",
        "  input_tensor, inp_lang_tokenizer = tokenize(inp_lang)\r\n",
        "  target_tensor, targ_lang_tokenizer = tokenize(targ_lang)\r\n",
        "\r\n",
        "  return input_tensor, target_tensor, inp_lang_tokenizer, targ_lang_tokenizer"
      ],
      "outputs": [],
      "metadata": {
        "id": "eAY9k49G3jE_"
      }
    },
    {
      "cell_type": "markdown",
      "source": [
        "### Limit the size of the dataset to experiment faster (optional)\n"
      ],
      "metadata": {
        "id": "GOi42V79Ydlr"
      }
    },
    {
      "cell_type": "code",
      "execution_count": 12,
      "source": [
        "len(en), len(ru)"
      ],
      "outputs": [
        {
          "output_type": "execute_result",
          "data": {
            "text/plain": [
              "(431097, 431097)"
            ]
          },
          "metadata": {},
          "execution_count": 12
        }
      ],
      "metadata": {
        "id": "C8j9g9AnIeZV",
        "colab": {
          "base_uri": "https://localhost:8080/"
        },
        "outputId": "2ef267ad-0118-4a27-c6fe-700538dce395"
      }
    },
    {
      "cell_type": "code",
      "execution_count": 13,
      "source": [
        "# Try experimenting with the size of that dataset\r\n",
        "num_examples = 100000\r\n",
        "input_tensor, target_tensor, inp_lang, targ_lang = load_dataset(path_to_file, num_examples)\r\n",
        "\r\n",
        "# Calculate max_length of the target tensors\r\n",
        "max_length_targ, max_length_inp = target_tensor.shape[1], input_tensor.shape[1]"
      ],
      "outputs": [],
      "metadata": {
        "id": "cnxC7q-j3jFD"
      }
    },
    {
      "cell_type": "code",
      "execution_count": 14,
      "source": [
        "# Creating training and validation sets using an 80-20 split\r\n",
        "input_tensor_train, input_tensor_val, target_tensor_train, target_tensor_val = train_test_split(input_tensor, target_tensor, test_size=0.2)\r\n",
        "\r\n",
        "# Show length\r\n",
        "print(len(input_tensor_train), len(target_tensor_train), len(input_tensor_val), len(target_tensor_val))"
      ],
      "outputs": [
        {
          "output_type": "stream",
          "name": "stdout",
          "text": [
            "80000 80000 20000 20000\n"
          ]
        }
      ],
      "metadata": {
        "id": "4QILQkOs3jFG",
        "colab": {
          "base_uri": "https://localhost:8080/"
        },
        "outputId": "6080cf0b-ce7a-41da-fdff-cff002d0e4da"
      }
    },
    {
      "cell_type": "code",
      "execution_count": 15,
      "source": [
        "def convert(lang, tensor):\r\n",
        "  for t in tensor:\r\n",
        "    if t!=0:\r\n",
        "      print (\"%d ----> %s\" % (t, lang.index_word[t]))"
      ],
      "outputs": [],
      "metadata": {
        "id": "lJPmLZGMeD5q"
      }
    },
    {
      "cell_type": "code",
      "execution_count": 16,
      "source": [
        "print (\"Input Language; index to word mapping\")\r\n",
        "convert(inp_lang, input_tensor_train[0])\r\n",
        "print ()\r\n",
        "print (\"Target Language; index to word mapping\")\r\n",
        "convert(targ_lang, target_tensor_train[0])"
      ],
      "outputs": [
        {
          "output_type": "stream",
          "name": "stdout",
          "text": [
            "Input Language; index to word mapping\n",
            "1 ----> <start>\n",
            "6 ----> том\n",
            "10528 ----> освободил\n",
            "2051 ----> птицу\n",
            "3 ----> .\n",
            "2 ----> <end>\n",
            "\n",
            "Target Language; index to word mapping\n",
            "1 ----> <start>\n",
            "5 ----> tom\n",
            "4850 ----> freed\n",
            "12 ----> the\n",
            "873 ----> bird\n",
            "3 ----> .\n",
            "2 ----> <end>\n"
          ]
        }
      ],
      "metadata": {
        "id": "VXukARTDd7MT",
        "colab": {
          "base_uri": "https://localhost:8080/"
        },
        "outputId": "341e28ce-7ca5-4f66-e751-157f5bbaa276"
      }
    },
    {
      "cell_type": "markdown",
      "source": [
        "### Create a tf.data dataset"
      ],
      "metadata": {
        "id": "rgCLkfv5uO3d"
      }
    },
    {
      "cell_type": "code",
      "execution_count": 17,
      "source": [
        "BUFFER_SIZE = len(input_tensor_train)\r\n",
        "BATCH_SIZE = 64\r\n",
        "steps_per_epoch = len(input_tensor_train)//BATCH_SIZE\r\n",
        "embedding_dim = 256\r\n",
        "units = 1024\r\n",
        "vocab_inp_size = len(inp_lang.word_index)+1\r\n",
        "vocab_tar_size = len(targ_lang.word_index)+1\r\n",
        "\r\n",
        "dataset = tf.data.Dataset.from_tensor_slices((input_tensor_train, target_tensor_train)).shuffle(BUFFER_SIZE)\r\n",
        "dataset = dataset.batch(BATCH_SIZE, drop_remainder=True)"
      ],
      "outputs": [],
      "metadata": {
        "id": "TqHsArVZ3jFS"
      }
    },
    {
      "cell_type": "code",
      "execution_count": 18,
      "source": [
        "example_input_batch, example_target_batch = next(iter(dataset))\r\n",
        "example_input_batch.shape, example_target_batch.shape"
      ],
      "outputs": [
        {
          "output_type": "execute_result",
          "data": {
            "text/plain": [
              "(TensorShape([64, 15]), TensorShape([64, 11]))"
            ]
          },
          "metadata": {},
          "execution_count": 18
        }
      ],
      "metadata": {
        "id": "qc6-NK1GtWQt",
        "colab": {
          "base_uri": "https://localhost:8080/"
        },
        "outputId": "119b41d0-fae4-4422-cc8e-ce6a758be16d"
      }
    },
    {
      "cell_type": "code",
      "execution_count": 19,
      "source": [
        "class Encoder(tf.keras.Model):\r\n",
        "  def __init__(self, vocab_size, embedding_dim, enc_units, batch_sz):\r\n",
        "    super(Encoder, self).__init__()\r\n",
        "    self.batch_sz = batch_sz\r\n",
        "    self.enc_units = enc_units\r\n",
        "    self.embedding = tf.keras.layers.Embedding(vocab_size, embedding_dim)\r\n",
        "    self.gru = tf.keras.layers.GRU(self.enc_units,\r\n",
        "                                   return_sequences=True,\r\n",
        "                                   return_state=True,\r\n",
        "                                   recurrent_initializer='glorot_uniform')\r\n",
        "\r\n",
        "  def call(self, x, hidden):\r\n",
        "    x = self.embedding(x)\r\n",
        "    output, state = self.gru(x, initial_state = hidden)\r\n",
        "    return output, state\r\n",
        "\r\n",
        "  def initialize_hidden_state(self):\r\n",
        "    return tf.zeros((self.batch_sz, self.enc_units))"
      ],
      "outputs": [],
      "metadata": {
        "id": "nZ2rI24i3jFg"
      }
    },
    {
      "cell_type": "code",
      "execution_count": 20,
      "source": [
        "encoder = Encoder(vocab_inp_size, embedding_dim, units, BATCH_SIZE)\r\n",
        "\r\n",
        "# sample input\r\n",
        "sample_hidden = encoder.initialize_hidden_state()\r\n",
        "sample_output, sample_hidden = encoder(example_input_batch, sample_hidden)\r\n",
        "print ('Encoder output shape: (batch size, sequence length, units) {}'.format(sample_output.shape))\r\n",
        "print ('Encoder Hidden state shape: (batch size, units) {}'.format(sample_hidden.shape))"
      ],
      "outputs": [
        {
          "output_type": "stream",
          "name": "stdout",
          "text": [
            "Encoder output shape: (batch size, sequence length, units) (64, 15, 1024)\n",
            "Encoder Hidden state shape: (batch size, units) (64, 1024)\n"
          ]
        }
      ],
      "metadata": {
        "id": "60gSVh05Jl6l",
        "colab": {
          "base_uri": "https://localhost:8080/"
        },
        "outputId": "5b654acc-f67d-4357-b000-fdde32228982"
      }
    },
    {
      "cell_type": "code",
      "execution_count": 21,
      "source": [
        "class BahdanauAttention(tf.keras.layers.Layer):\r\n",
        "  def __init__(self, units):\r\n",
        "    super(BahdanauAttention, self).__init__()\r\n",
        "    self.W1 = tf.keras.layers.Dense(units)\r\n",
        "    self.W2 = tf.keras.layers.Dense(units)\r\n",
        "    self.V = tf.keras.layers.Dense(1)\r\n",
        "\r\n",
        "  def call(self, query, values):\r\n",
        "    # query hidden state shape == (batch_size, hidden size)\r\n",
        "    # query_with_time_axis shape == (batch_size, 1, hidden size)\r\n",
        "    # values shape == (batch_size, max_len, hidden size)\r\n",
        "    # we are doing this to broadcast addition along the time axis to calculate the score\r\n",
        "    query_with_time_axis = tf.expand_dims(query, 1)\r\n",
        "\r\n",
        "    # score shape == (batch_size, max_length, 1)\r\n",
        "    # we get 1 at the last axis because we are applying score to self.V\r\n",
        "    # the shape of the tensor before applying self.V is (batch_size, max_length, units)\r\n",
        "    score = self.V(tf.nn.tanh(\r\n",
        "        self.W1(query_with_time_axis) + self.W2(values)))\r\n",
        "\r\n",
        "    # attention_weights shape == (batch_size, max_length, 1)\r\n",
        "    attention_weights = tf.nn.softmax(score, axis=1)\r\n",
        "\r\n",
        "    # context_vector shape after sum == (batch_size, hidden_size)\r\n",
        "    context_vector = attention_weights * values\r\n",
        "    context_vector = tf.reduce_sum(context_vector, axis=1)\r\n",
        "\r\n",
        "    return context_vector, attention_weights"
      ],
      "outputs": [],
      "metadata": {
        "id": "YTyhL28Niqk1"
      }
    },
    {
      "cell_type": "code",
      "execution_count": 22,
      "source": [
        "attention_layer = BahdanauAttention(10)\r\n",
        "attention_result, attention_weights = attention_layer(sample_hidden, sample_output)\r\n",
        "\r\n",
        "print(\"Attention result shape: (batch size, units) {}\".format(attention_result.shape))\r\n",
        "print(\"Attention weights shape: (batch_size, sequence_length, 1) {}\".format(attention_weights.shape))"
      ],
      "outputs": [
        {
          "output_type": "stream",
          "name": "stdout",
          "text": [
            "Attention result shape: (batch size, units) (64, 1024)\n",
            "Attention weights shape: (batch_size, sequence_length, 1) (64, 15, 1)\n"
          ]
        }
      ],
      "metadata": {
        "colab": {
          "base_uri": "https://localhost:8080/"
        },
        "id": "XUqssWcci1XJ",
        "outputId": "607dc7d5-fa08-4d88-9935-ce76fc101464"
      }
    },
    {
      "cell_type": "code",
      "execution_count": 23,
      "source": [
        "class Decoder(tf.keras.Model):\r\n",
        "  def __init__(self, vocab_size, embedding_dim, dec_units, batch_sz):\r\n",
        "    super(Decoder, self).__init__()\r\n",
        "    self.batch_sz = batch_sz\r\n",
        "    self.dec_units = dec_units\r\n",
        "    self.embedding = tf.keras.layers.Embedding(vocab_size, embedding_dim)\r\n",
        "    self.gru = tf.keras.layers.GRU(self.dec_units,\r\n",
        "                                   return_sequences=True,\r\n",
        "                                   return_state=True,\r\n",
        "                                   recurrent_initializer='glorot_uniform')\r\n",
        "    self.fc = tf.keras.layers.Dense(vocab_size)\r\n",
        "\r\n",
        "    # used for attention\r\n",
        "    self.attention = BahdanauAttention(self.dec_units)\r\n",
        "\r\n",
        "  def call(self, x, hidden, enc_output):\r\n",
        "    # enc_output shape == (batch_size, max_length, hidden_size)\r\n",
        "    context_vector, attention_weights = self.attention(hidden, enc_output)\r\n",
        "\r\n",
        "    # x shape after passing through embedding == (batch_size, 1, embedding_dim)\r\n",
        "    x = self.embedding(x)\r\n",
        "\r\n",
        "    # x shape after concatenation == (batch_size, 1, embedding_dim + hidden_size)\r\n",
        "    x = tf.concat([tf.expand_dims(context_vector, 1), x], axis=-1)\r\n",
        "\r\n",
        "    # passing the concatenated vector to the GRU\r\n",
        "    output, state = self.gru(x)\r\n",
        "\r\n",
        "    # output shape == (batch_size * 1, hidden_size)\r\n",
        "    output = tf.reshape(output, (-1, output.shape[2]))\r\n",
        "\r\n",
        "    # output shape == (batch_size, vocab)\r\n",
        "    x = self.fc(output)\r\n",
        "\r\n",
        "    return x, state, attention_weights"
      ],
      "outputs": [],
      "metadata": {
        "id": "yJ_B3mhW3jFk"
      }
    },
    {
      "cell_type": "code",
      "execution_count": 24,
      "source": [
        "decoder = Decoder(vocab_tar_size, embedding_dim, units, BATCH_SIZE)\r\n",
        "\r\n",
        "sample_decoder_output, _, _ = decoder(tf.random.uniform((BATCH_SIZE, 1)),\r\n",
        "                                      sample_hidden, sample_output)\r\n",
        "\r\n",
        "print ('Decoder output shape: (batch_size, vocab size) {}'.format(sample_decoder_output.shape))"
      ],
      "outputs": [
        {
          "output_type": "stream",
          "name": "stdout",
          "text": [
            "Decoder output shape: (batch_size, vocab size) (64, 7260)\n"
          ]
        }
      ],
      "metadata": {
        "id": "P5UY8wko3jFp",
        "colab": {
          "base_uri": "https://localhost:8080/"
        },
        "outputId": "e8cb3233-c781-4016-8f6d-9ba936848a51"
      }
    },
    {
      "cell_type": "markdown",
      "source": [
        "## Define the optimizer and the loss function"
      ],
      "metadata": {
        "id": "_ch_71VbIRfK"
      }
    },
    {
      "cell_type": "code",
      "execution_count": 25,
      "source": [
        "optimizer = tf.keras.optimizers.Adam()\r\n",
        "loss_object = tf.keras.losses.SparseCategoricalCrossentropy(\r\n",
        "    from_logits=True, reduction='none')\r\n",
        "\r\n",
        "def loss_function(real, pred):\r\n",
        "  mask = tf.math.logical_not(tf.math.equal(real, 0))\r\n",
        "  loss_ = loss_object(real, pred)\r\n",
        "\r\n",
        "  mask = tf.cast(mask, dtype=loss_.dtype)\r\n",
        "  loss_ *= mask\r\n",
        "\r\n",
        "  return tf.reduce_mean(loss_)"
      ],
      "outputs": [],
      "metadata": {
        "id": "WmTHr5iV3jFr"
      }
    },
    {
      "cell_type": "markdown",
      "source": [
        "## Checkpoints (Object-based saving)"
      ],
      "metadata": {
        "id": "DMVWzzsfNl4e"
      }
    },
    {
      "cell_type": "code",
      "execution_count": 26,
      "source": [
        "checkpoint_dir = './training_attention_checkpoints'\r\n",
        "checkpoint_prefix = os.path.join(checkpoint_dir, \"ckpt\")\r\n",
        "checkpoint = tf.train.Checkpoint(optimizer=optimizer,\r\n",
        "                                 encoder=encoder,\r\n",
        "                                 decoder=decoder)"
      ],
      "outputs": [],
      "metadata": {
        "id": "Zj8bXQTgNwrF"
      }
    },
    {
      "cell_type": "code",
      "execution_count": 27,
      "source": [
        "@tf.function\r\n",
        "def train_step(inp, targ, enc_hidden):\r\n",
        "  loss = 0\r\n",
        "\r\n",
        "  with tf.GradientTape() as tape:\r\n",
        "    enc_output, enc_hidden = encoder(inp, enc_hidden)\r\n",
        "\r\n",
        "    dec_hidden = enc_hidden\r\n",
        "\r\n",
        "    dec_input = tf.expand_dims([targ_lang.word_index['<start>']] * BATCH_SIZE, 1)\r\n",
        "\r\n",
        "    # Teacher forcing - feeding the target as the next input\r\n",
        "    for t in range(1, targ.shape[1]):\r\n",
        "      # passing enc_output to the decoder\r\n",
        "      predictions, dec_hidden, _ = decoder(dec_input, dec_hidden, enc_output)\r\n",
        "\r\n",
        "      loss += loss_function(targ[:, t], predictions)\r\n",
        "\r\n",
        "      # using teacher forcing\r\n",
        "      dec_input = tf.expand_dims(targ[:, t], 1)\r\n",
        "\r\n",
        "  batch_loss = (loss / int(targ.shape[1]))\r\n",
        "\r\n",
        "  variables = encoder.trainable_variables + decoder.trainable_variables\r\n",
        "\r\n",
        "  gradients = tape.gradient(loss, variables)\r\n",
        "\r\n",
        "  optimizer.apply_gradients(zip(gradients, variables))\r\n",
        "\r\n",
        "  return batch_loss"
      ],
      "outputs": [],
      "metadata": {
        "id": "sC9ArXSsVfqn"
      }
    },
    {
      "cell_type": "code",
      "execution_count": 28,
      "source": [
        "def early_stop(losses, patience):\r\n",
        "    '''\r\n",
        "    Takes list with losses per epoch, decide if early stop needed.\r\n",
        "    criterion is loss for last epoch bigger than average for several \r\n",
        "    previos epochs.\r\n",
        "    '''\r\n",
        "    if (len(losses) > patience \r\n",
        "        and losses[-1] > np.mean(losses[-patience:-1])):\r\n",
        "        return True\r\n",
        "    else:\r\n",
        "        return False"
      ],
      "outputs": [],
      "metadata": {}
    },
    {
      "cell_type": "code",
      "execution_count": 29,
      "source": [
        "EPOCHS = 50\r\n",
        "losses_per_epoch = []\r\n",
        "patience = 4\r\n",
        "for epoch in range(EPOCHS):\r\n",
        "  temp_loss = []\r\n",
        "  start = time.time()\r\n",
        "\r\n",
        "  enc_hidden = encoder.initialize_hidden_state()\r\n",
        "  total_loss = 0\r\n",
        "\r\n",
        "  for (batch, (inp, targ)) in enumerate(dataset.take(steps_per_epoch)):\r\n",
        "    batch_loss = train_step(inp, targ, enc_hidden)\r\n",
        "    total_loss += batch_loss\r\n",
        "\r\n",
        "    if batch % 100 == 0:\r\n",
        "      print('Epoch {} Batch {} Loss {:.4f}'.format(epoch + 1,\r\n",
        "                                                   batch,\r\n",
        "                                                   batch_loss.numpy()))\r\n",
        "      temp_loss.append(batch_loss.numpy())\r\n",
        "  losses_per_epoch.append(np.mean(temp_loss))\r\n",
        "\r\n",
        "  # saving (checkpoint) the model every 2 epochs\r\n",
        "  if (epoch + 1) % 2 == 0:\r\n",
        "    checkpoint.save(file_prefix = checkpoint_prefix)\r\n",
        "\r\n",
        "  print('Epoch {} Loss {:.4f}'.format(epoch + 1,\r\n",
        "                                      total_loss / steps_per_epoch))\r\n",
        "  print(f'Temp loss mean for epoch: {losses_per_epoch[-1]}')\r\n",
        "  print('Time taken for 1 epoch {} sec\\n'.format(time.time() - start))\r\n",
        "  \r\n",
        "\r\n",
        "  if early_stop(losses_per_epoch, patience):\r\n",
        "    print(f'\\n\\n\\n Early stop appear!',\r\n",
        "          f\" Loss dosn't chage for last {patience} epochs\")\r\n",
        "    break "
      ],
      "outputs": [
        {
          "output_type": "stream",
          "name": "stdout",
          "text": [
            "Epoch 1 Batch 0 Loss 4.5207\n",
            "Epoch 1 Batch 100 Loss 2.2186\n",
            "Epoch 1 Batch 200 Loss 1.9367\n",
            "Epoch 1 Batch 300 Loss 1.6902\n",
            "Epoch 1 Batch 400 Loss 1.6695\n",
            "Epoch 1 Batch 500 Loss 1.5410\n",
            "Epoch 1 Batch 600 Loss 1.3792\n",
            "Epoch 1 Batch 700 Loss 1.2508\n",
            "Epoch 1 Batch 800 Loss 1.1764\n",
            "Epoch 1 Batch 900 Loss 1.1481\n",
            "Epoch 1 Batch 1000 Loss 1.1843\n",
            "Epoch 1 Batch 1100 Loss 0.9856\n",
            "Epoch 1 Batch 1200 Loss 0.9985\n",
            "Epoch 1 Loss 1.4749\n",
            "Temp loss mean for epoch: 1.669191837310791\n",
            "Time taken for 1 epoch 215.8763768672943 sec\n",
            "\n",
            "Epoch 2 Batch 0 Loss 0.8045\n",
            "Epoch 2 Batch 100 Loss 0.7751\n",
            "Epoch 2 Batch 200 Loss 0.8328\n",
            "Epoch 2 Batch 300 Loss 0.7773\n",
            "Epoch 2 Batch 400 Loss 0.6508\n",
            "Epoch 2 Batch 500 Loss 0.6729\n",
            "Epoch 2 Batch 600 Loss 0.6745\n",
            "Epoch 2 Batch 700 Loss 0.6494\n",
            "Epoch 2 Batch 800 Loss 0.6925\n",
            "Epoch 2 Batch 900 Loss 0.5239\n",
            "Epoch 2 Batch 1000 Loss 0.5857\n",
            "Epoch 2 Batch 1100 Loss 0.5070\n",
            "Epoch 2 Batch 1200 Loss 0.4970\n",
            "Epoch 2 Loss 0.6358\n",
            "Temp loss mean for epoch: 0.6648756265640259\n",
            "Time taken for 1 epoch 200.9295060634613 sec\n",
            "\n",
            "Epoch 3 Batch 0 Loss 0.3691\n",
            "Epoch 3 Batch 100 Loss 0.3399\n",
            "Epoch 3 Batch 200 Loss 0.3981\n",
            "Epoch 3 Batch 300 Loss 0.2869\n",
            "Epoch 3 Batch 400 Loss 0.4351\n",
            "Epoch 3 Batch 500 Loss 0.3503\n",
            "Epoch 3 Batch 600 Loss 0.3684\n",
            "Epoch 3 Batch 700 Loss 0.2803\n",
            "Epoch 3 Batch 800 Loss 0.2906\n",
            "Epoch 3 Batch 900 Loss 0.4037\n",
            "Epoch 3 Batch 1000 Loss 0.2901\n",
            "Epoch 3 Batch 1100 Loss 0.3108\n",
            "Epoch 3 Batch 1200 Loss 0.2987\n",
            "Epoch 3 Loss 0.3390\n",
            "Temp loss mean for epoch: 0.34014463424682617\n",
            "Time taken for 1 epoch 199.0687484741211 sec\n",
            "\n",
            "Epoch 4 Batch 0 Loss 0.2471\n",
            "Epoch 4 Batch 100 Loss 0.2096\n",
            "Epoch 4 Batch 200 Loss 0.1721\n",
            "Epoch 4 Batch 300 Loss 0.2416\n",
            "Epoch 4 Batch 400 Loss 0.2223\n",
            "Epoch 4 Batch 500 Loss 0.2422\n",
            "Epoch 4 Batch 600 Loss 0.1908\n",
            "Epoch 4 Batch 700 Loss 0.2207\n",
            "Epoch 4 Batch 800 Loss 0.2802\n",
            "Epoch 4 Batch 900 Loss 0.2227\n",
            "Epoch 4 Batch 1000 Loss 0.2153\n",
            "Epoch 4 Batch 1100 Loss 0.2033\n",
            "Epoch 4 Batch 1200 Loss 0.2332\n",
            "Epoch 4 Loss 0.2107\n",
            "Temp loss mean for epoch: 0.2231656163930893\n",
            "Time taken for 1 epoch 199.22326111793518 sec\n",
            "\n",
            "Epoch 5 Batch 0 Loss 0.1298\n",
            "Epoch 5 Batch 100 Loss 0.1603\n",
            "Epoch 5 Batch 200 Loss 0.1550\n",
            "Epoch 5 Batch 300 Loss 0.1249\n",
            "Epoch 5 Batch 400 Loss 0.1612\n",
            "Epoch 5 Batch 500 Loss 0.1393\n",
            "Epoch 5 Batch 600 Loss 0.1556\n",
            "Epoch 5 Batch 700 Loss 0.1471\n",
            "Epoch 5 Batch 800 Loss 0.2262\n",
            "Epoch 5 Batch 900 Loss 0.1349\n",
            "Epoch 5 Batch 1000 Loss 0.1904\n",
            "Epoch 5 Batch 1100 Loss 0.1836\n",
            "Epoch 5 Batch 1200 Loss 0.1392\n",
            "Epoch 5 Loss 0.1516\n",
            "Temp loss mean for epoch: 0.15748469531536102\n",
            "Time taken for 1 epoch 196.46492433547974 sec\n",
            "\n",
            "Epoch 6 Batch 0 Loss 0.1176\n",
            "Epoch 6 Batch 100 Loss 0.1012\n",
            "Epoch 6 Batch 200 Loss 0.1527\n",
            "Epoch 6 Batch 300 Loss 0.0814\n",
            "Epoch 6 Batch 400 Loss 0.1330\n",
            "Epoch 6 Batch 500 Loss 0.0876\n",
            "Epoch 6 Batch 600 Loss 0.1204\n",
            "Epoch 6 Batch 700 Loss 0.1106\n",
            "Epoch 6 Batch 800 Loss 0.1473\n",
            "Epoch 6 Batch 900 Loss 0.1287\n",
            "Epoch 6 Batch 1000 Loss 0.0985\n",
            "Epoch 6 Batch 1100 Loss 0.1615\n",
            "Epoch 6 Batch 1200 Loss 0.1250\n",
            "Epoch 6 Loss 0.1201\n",
            "Temp loss mean for epoch: 0.1204075813293457\n",
            "Time taken for 1 epoch 198.6673562526703 sec\n",
            "\n",
            "Epoch 7 Batch 0 Loss 0.0907\n",
            "Epoch 7 Batch 100 Loss 0.0711\n",
            "Epoch 7 Batch 200 Loss 0.0857\n",
            "Epoch 7 Batch 300 Loss 0.0836\n",
            "Epoch 7 Batch 400 Loss 0.0771\n",
            "Epoch 7 Batch 500 Loss 0.1115\n",
            "Epoch 7 Batch 600 Loss 0.1339\n",
            "Epoch 7 Batch 700 Loss 0.0987\n",
            "Epoch 7 Batch 800 Loss 0.1054\n",
            "Epoch 7 Batch 900 Loss 0.1370\n",
            "Epoch 7 Batch 1000 Loss 0.1084\n",
            "Epoch 7 Batch 1100 Loss 0.0861\n",
            "Epoch 7 Batch 1200 Loss 0.1414\n",
            "Epoch 7 Loss 0.1014\n",
            "Temp loss mean for epoch: 0.10235130041837692\n",
            "Time taken for 1 epoch 196.57195258140564 sec\n",
            "\n",
            "Epoch 8 Batch 0 Loss 0.0901\n",
            "Epoch 8 Batch 100 Loss 0.0967\n",
            "Epoch 8 Batch 200 Loss 0.0554\n",
            "Epoch 8 Batch 300 Loss 0.0528\n",
            "Epoch 8 Batch 400 Loss 0.0766\n",
            "Epoch 8 Batch 500 Loss 0.0863\n",
            "Epoch 8 Batch 600 Loss 0.0975\n",
            "Epoch 8 Batch 700 Loss 0.0760\n",
            "Epoch 8 Batch 800 Loss 0.0701\n",
            "Epoch 8 Batch 900 Loss 0.1031\n",
            "Epoch 8 Batch 1000 Loss 0.0834\n",
            "Epoch 8 Batch 1100 Loss 0.0924\n",
            "Epoch 8 Batch 1200 Loss 0.1107\n",
            "Epoch 8 Loss 0.0901\n",
            "Temp loss mean for epoch: 0.08393975347280502\n",
            "Time taken for 1 epoch 191.8224139213562 sec\n",
            "\n",
            "Epoch 9 Batch 0 Loss 0.0656\n",
            "Epoch 9 Batch 100 Loss 0.0765\n",
            "Epoch 9 Batch 200 Loss 0.0998\n",
            "Epoch 9 Batch 300 Loss 0.0602\n",
            "Epoch 9 Batch 400 Loss 0.0539\n",
            "Epoch 9 Batch 500 Loss 0.1167\n",
            "Epoch 9 Batch 600 Loss 0.1059\n",
            "Epoch 9 Batch 700 Loss 0.0855\n",
            "Epoch 9 Batch 800 Loss 0.1030\n",
            "Epoch 9 Batch 900 Loss 0.0905\n",
            "Epoch 9 Batch 1000 Loss 0.1047\n",
            "Epoch 9 Batch 1100 Loss 0.1037\n",
            "Epoch 9 Batch 1200 Loss 0.0517\n",
            "Epoch 9 Loss 0.0834\n",
            "Temp loss mean for epoch: 0.08596722036600113\n",
            "Time taken for 1 epoch 188.4800226688385 sec\n",
            "\n",
            "Epoch 10 Batch 0 Loss 0.0389\n",
            "Epoch 10 Batch 100 Loss 0.0425\n",
            "Epoch 10 Batch 200 Loss 0.0965\n",
            "Epoch 10 Batch 300 Loss 0.0518\n",
            "Epoch 10 Batch 400 Loss 0.0961\n",
            "Epoch 10 Batch 500 Loss 0.0644\n",
            "Epoch 10 Batch 600 Loss 0.0713\n",
            "Epoch 10 Batch 700 Loss 0.0626\n",
            "Epoch 10 Batch 800 Loss 0.0890\n",
            "Epoch 10 Batch 900 Loss 0.0685\n",
            "Epoch 10 Batch 1000 Loss 0.0584\n",
            "Epoch 10 Batch 1100 Loss 0.0696\n",
            "Epoch 10 Batch 1200 Loss 0.0899\n",
            "Epoch 10 Loss 0.0771\n",
            "Temp loss mean for epoch: 0.06920184195041656\n",
            "Time taken for 1 epoch 189.35717296600342 sec\n",
            "\n",
            "Epoch 11 Batch 0 Loss 0.0601\n",
            "Epoch 11 Batch 100 Loss 0.0514\n",
            "Epoch 11 Batch 200 Loss 0.0580\n",
            "Epoch 11 Batch 300 Loss 0.0671\n",
            "Epoch 11 Batch 400 Loss 0.0746\n",
            "Epoch 11 Batch 500 Loss 0.0801\n",
            "Epoch 11 Batch 600 Loss 0.1086\n",
            "Epoch 11 Batch 700 Loss 0.0639\n",
            "Epoch 11 Batch 800 Loss 0.0920\n",
            "Epoch 11 Batch 900 Loss 0.1169\n",
            "Epoch 11 Batch 1000 Loss 0.0622\n",
            "Epoch 11 Batch 1100 Loss 0.0869\n",
            "Epoch 11 Batch 1200 Loss 0.0895\n",
            "Epoch 11 Loss 0.0738\n",
            "Temp loss mean for epoch: 0.07778047025203705\n",
            "Time taken for 1 epoch 196.50169825553894 sec\n",
            "\n",
            "Epoch 12 Batch 0 Loss 0.0676\n",
            "Epoch 12 Batch 100 Loss 0.0628\n",
            "Epoch 12 Batch 200 Loss 0.0480\n",
            "Epoch 12 Batch 300 Loss 0.0988\n",
            "Epoch 12 Batch 400 Loss 0.0424\n",
            "Epoch 12 Batch 500 Loss 0.0854\n",
            "Epoch 12 Batch 600 Loss 0.0685\n",
            "Epoch 12 Batch 700 Loss 0.0909\n",
            "Epoch 12 Batch 800 Loss 0.1016\n",
            "Epoch 12 Batch 900 Loss 0.1088\n",
            "Epoch 12 Batch 1000 Loss 0.0581\n",
            "Epoch 12 Batch 1100 Loss 0.0689\n",
            "Epoch 12 Batch 1200 Loss 0.0699\n",
            "Epoch 12 Loss 0.0695\n",
            "Temp loss mean for epoch: 0.07474377006292343\n",
            "Time taken for 1 epoch 197.63127899169922 sec\n",
            "\n",
            "Epoch 13 Batch 0 Loss 0.0581\n",
            "Epoch 13 Batch 100 Loss 0.0492\n",
            "Epoch 13 Batch 200 Loss 0.0403\n",
            "Epoch 13 Batch 300 Loss 0.0400\n",
            "Epoch 13 Batch 400 Loss 0.0587\n",
            "Epoch 13 Batch 500 Loss 0.0723\n",
            "Epoch 13 Batch 600 Loss 0.0642\n",
            "Epoch 13 Batch 700 Loss 0.0765\n",
            "Epoch 13 Batch 800 Loss 0.0610\n",
            "Epoch 13 Batch 900 Loss 0.0759\n",
            "Epoch 13 Batch 1000 Loss 0.0675\n",
            "Epoch 13 Batch 1100 Loss 0.0658\n",
            "Epoch 13 Batch 1200 Loss 0.0667\n",
            "Epoch 13 Loss 0.0666\n",
            "Temp loss mean for epoch: 0.06123487278819084\n",
            "Time taken for 1 epoch 187.89464330673218 sec\n",
            "\n",
            "Epoch 14 Batch 0 Loss 0.0408\n",
            "Epoch 14 Batch 100 Loss 0.0531\n",
            "Epoch 14 Batch 200 Loss 0.0601\n",
            "Epoch 14 Batch 300 Loss 0.0780\n",
            "Epoch 14 Batch 400 Loss 0.0419\n",
            "Epoch 14 Batch 500 Loss 0.0539\n",
            "Epoch 14 Batch 600 Loss 0.0606\n",
            "Epoch 14 Batch 700 Loss 0.0885\n",
            "Epoch 14 Batch 800 Loss 0.0561\n",
            "Epoch 14 Batch 900 Loss 0.0694\n",
            "Epoch 14 Batch 1000 Loss 0.0455\n",
            "Epoch 14 Batch 1100 Loss 0.0781\n",
            "Epoch 14 Batch 1200 Loss 0.1024\n",
            "Epoch 14 Loss 0.0641\n",
            "Temp loss mean for epoch: 0.06373392045497894\n",
            "Time taken for 1 epoch 187.3077528476715 sec\n",
            "\n",
            "Epoch 15 Batch 0 Loss 0.0379\n",
            "Epoch 15 Batch 100 Loss 0.0329\n",
            "Epoch 15 Batch 200 Loss 0.0434\n",
            "Epoch 15 Batch 300 Loss 0.0582\n",
            "Epoch 15 Batch 400 Loss 0.0772\n",
            "Epoch 15 Batch 500 Loss 0.0565\n",
            "Epoch 15 Batch 600 Loss 0.0577\n",
            "Epoch 15 Batch 700 Loss 0.0569\n",
            "Epoch 15 Batch 800 Loss 0.0758\n",
            "Epoch 15 Batch 900 Loss 0.0500\n",
            "Epoch 15 Batch 1000 Loss 0.0420\n",
            "Epoch 15 Batch 1100 Loss 0.0602\n",
            "Epoch 15 Batch 1200 Loss 0.0960\n",
            "Epoch 15 Loss 0.0627\n",
            "Temp loss mean for epoch: 0.057280030101537704\n",
            "Time taken for 1 epoch 186.47642970085144 sec\n",
            "\n",
            "Epoch 16 Batch 0 Loss 0.0296\n",
            "Epoch 16 Batch 100 Loss 0.0457\n",
            "Epoch 16 Batch 200 Loss 0.0495\n",
            "Epoch 16 Batch 300 Loss 0.0585\n",
            "Epoch 16 Batch 400 Loss 0.0680\n",
            "Epoch 16 Batch 500 Loss 0.0647\n",
            "Epoch 16 Batch 600 Loss 0.0733\n",
            "Epoch 16 Batch 700 Loss 0.0382\n",
            "Epoch 16 Batch 800 Loss 0.0485\n",
            "Epoch 16 Batch 900 Loss 0.0429\n",
            "Epoch 16 Batch 1000 Loss 0.0787\n",
            "Epoch 16 Batch 1100 Loss 0.0700\n",
            "Epoch 16 Batch 1200 Loss 0.0503\n",
            "Epoch 16 Loss 0.0619\n",
            "Temp loss mean for epoch: 0.05522393435239792\n",
            "Time taken for 1 epoch 187.15875554084778 sec\n",
            "\n",
            "Epoch 17 Batch 0 Loss 0.0351\n",
            "Epoch 17 Batch 100 Loss 0.0352\n",
            "Epoch 17 Batch 200 Loss 0.0749\n",
            "Epoch 17 Batch 300 Loss 0.0641\n",
            "Epoch 17 Batch 400 Loss 0.0440\n",
            "Epoch 17 Batch 500 Loss 0.0432\n",
            "Epoch 17 Batch 600 Loss 0.0837\n",
            "Epoch 17 Batch 700 Loss 0.0707\n",
            "Epoch 17 Batch 800 Loss 0.0824\n",
            "Epoch 17 Batch 900 Loss 0.0439\n",
            "Epoch 17 Batch 1000 Loss 0.0385\n",
            "Epoch 17 Batch 1100 Loss 0.0701\n",
            "Epoch 17 Batch 1200 Loss 0.0774\n",
            "Epoch 17 Loss 0.0591\n",
            "Temp loss mean for epoch: 0.058705929666757584\n",
            "Time taken for 1 epoch 184.6861650943756 sec\n",
            "\n",
            "Epoch 18 Batch 0 Loss 0.0812\n",
            "Epoch 18 Batch 100 Loss 0.0436\n",
            "Epoch 18 Batch 200 Loss 0.0681\n",
            "Epoch 18 Batch 300 Loss 0.0876\n",
            "Epoch 18 Batch 400 Loss 0.0567\n",
            "Epoch 18 Batch 500 Loss 0.0405\n",
            "Epoch 18 Batch 600 Loss 0.0518\n",
            "Epoch 18 Batch 700 Loss 0.0489\n",
            "Epoch 18 Batch 800 Loss 0.0623\n",
            "Epoch 18 Batch 900 Loss 0.0541\n",
            "Epoch 18 Batch 1000 Loss 0.0560\n",
            "Epoch 18 Batch 1100 Loss 0.0517\n",
            "Epoch 18 Batch 1200 Loss 0.0669\n",
            "Epoch 18 Loss 0.0574\n",
            "Temp loss mean for epoch: 0.05918193608522415\n",
            "Time taken for 1 epoch 186.14177083969116 sec\n",
            "\n",
            "\n",
            "\n",
            "\n",
            " Early stop appear!  Loss dosn't chage for last 4 epochs\n"
          ]
        }
      ],
      "metadata": {
        "id": "ddefjBMa3jF0",
        "colab": {
          "base_uri": "https://localhost:8080/",
          "height": 1000
        },
        "outputId": "18129808-55c4-4935-869b-ad5fa8f4de43"
      }
    },
    {
      "cell_type": "markdown",
      "source": [
        "## Translate\n",
        "\n",
        "* The evaluate function is similar to the training loop, except we don't use *teacher forcing* here. The input to the decoder at each time step is its previous predictions along with the hidden state and the encoder output.\n",
        "* Stop predicting when the model predicts the *end token*.\n",
        "* And store the *attention weights for every time step*.\n",
        "\n",
        "Note: The encoder output is calculated only once for one input."
      ],
      "metadata": {
        "id": "mU3Ce8M6I3rz"
      }
    },
    {
      "cell_type": "code",
      "execution_count": 41,
      "source": [
        "def evaluate(sentence):\r\n",
        "  attention_plot = np.zeros((max_length_targ, max_length_inp))\r\n",
        "\r\n",
        "  sentence = preprocess_sentence(sentence)\r\n",
        "\r\n",
        "  inputs = [inp_lang.word_index[i] for i in sentence.split(' ')]\r\n",
        "  inputs = tf.keras.preprocessing.sequence.pad_sequences([inputs],\r\n",
        "                                                         maxlen=max_length_inp,\r\n",
        "                                                         padding='post')\r\n",
        "  inputs = tf.convert_to_tensor(inputs)\r\n",
        "\r\n",
        "  result = ''\r\n",
        "\r\n",
        "  hidden = [tf.zeros((1, units))]\r\n",
        "  enc_out, enc_hidden = encoder(inputs, hidden)\r\n",
        "\r\n",
        "  dec_hidden = enc_hidden\r\n",
        "  dec_input = tf.expand_dims([targ_lang.word_index['<start>']], 0)\r\n",
        "\r\n",
        "  for t in range(max_length_targ):\r\n",
        "    predictions, dec_hidden, attention_weights = decoder(dec_input,\r\n",
        "                                                         dec_hidden,\r\n",
        "                                                         enc_out)\r\n",
        "\r\n",
        "    # storing the attention weights to plot later on\r\n",
        "    attention_weights = tf.reshape(attention_weights, (-1, ))\r\n",
        "    attention_plot[t] = attention_weights.numpy()\r\n",
        "\r\n",
        "    predicted_id = tf.argmax(predictions[0]).numpy()\r\n",
        "\r\n",
        "    result += targ_lang.index_word[predicted_id] + ' '\r\n",
        "\r\n",
        "    if targ_lang.index_word[predicted_id] == '<end>':\r\n",
        "      return result, sentence, attention_plot\r\n",
        "\r\n",
        "    # the predicted ID is fed back into the model\r\n",
        "    dec_input = tf.expand_dims([predicted_id], 0)\r\n",
        "\r\n",
        "  return result, sentence, attention_plot"
      ],
      "outputs": [],
      "metadata": {
        "id": "EbQpyYs13jF_"
      }
    },
    {
      "cell_type": "code",
      "execution_count": 42,
      "source": [
        "# function for plotting the attention weights\r\n",
        "def plot_attention(attention, sentence, predicted_sentence):\r\n",
        "  fig = plt.figure(figsize=(10,10))\r\n",
        "  ax = fig.add_subplot(1, 1, 1)\r\n",
        "  ax.matshow(attention, cmap='viridis')\r\n",
        "\r\n",
        "  fontdict = {'fontsize': 14}\r\n",
        "\r\n",
        "  ax.set_xticklabels([''] + sentence, fontdict=fontdict, rotation=90)\r\n",
        "  ax.set_yticklabels([''] + predicted_sentence, fontdict=fontdict)\r\n",
        "\r\n",
        "  ax.xaxis.set_major_locator(ticker.MultipleLocator(1))\r\n",
        "  ax.yaxis.set_major_locator(ticker.MultipleLocator(1))\r\n",
        "\r\n",
        "  plt.show()"
      ],
      "outputs": [],
      "metadata": {
        "id": "Qjy26Fe8Bv5d"
      }
    },
    {
      "cell_type": "code",
      "execution_count": 43,
      "source": [
        "def translate(sentence):\r\n",
        "  result, sentence, attention_plot = evaluate(sentence)\r\n",
        "\r\n",
        "  print('Input: %s' % (sentence))\r\n",
        "  print('Predicted translation: {}'.format(result))\r\n",
        "\r\n",
        "  attention_plot = attention_plot[:len(result.split(' ')), :len(sentence.split(' '))]\r\n",
        "  plot_attention(attention_plot, sentence.split(' '), result.split(' '))"
      ],
      "outputs": [],
      "metadata": {
        "id": "sl9zUHzg3jGI"
      }
    },
    {
      "cell_type": "markdown",
      "source": [
        "## Restore the latest checkpoint and test"
      ],
      "metadata": {
        "id": "n250XbnjOaqP"
      }
    },
    {
      "cell_type": "code",
      "execution_count": 44,
      "source": [
        "# restoring the latest checkpoint in checkpoint_dir\r\n",
        "checkpoint.restore(tf.train.latest_checkpoint(checkpoint_dir))"
      ],
      "outputs": [
        {
          "output_type": "execute_result",
          "data": {
            "text/plain": [
              "<tensorflow.python.training.tracking.util.CheckpointLoadStatus at 0x27f26e83220>"
            ]
          },
          "metadata": {},
          "execution_count": 44
        }
      ],
      "metadata": {
        "id": "UJpT9D5_OgP6",
        "colab": {
          "base_uri": "https://localhost:8080/"
        },
        "outputId": "28722f54-a505-40a1-f884-ca7815272d0c"
      }
    },
    {
      "cell_type": "code",
      "execution_count": 45,
      "source": [
        "translate('Здесь хорошо.')"
      ],
      "outputs": [
        {
          "output_type": "stream",
          "name": "stdout",
          "text": [
            "Input: <start> здесь хорошо . <end>\n",
            "Predicted translation: it's fine here . <end> \n"
          ]
        },
        {
          "output_type": "stream",
          "name": "stderr",
          "text": [
            "<ipython-input-42-ef64c003f9d5>:9: UserWarning: FixedFormatter should only be used together with FixedLocator\n",
            "  ax.set_xticklabels([''] + sentence, fontdict=fontdict, rotation=90)\n",
            "<ipython-input-42-ef64c003f9d5>:10: UserWarning: FixedFormatter should only be used together with FixedLocator\n",
            "  ax.set_yticklabels([''] + predicted_sentence, fontdict=fontdict)\n"
          ]
        },
        {
          "output_type": "display_data",
          "data": {
            "text/plain": [
              "<Figure size 720x720 with 1 Axes>"
            ],
            "image/png": "[encoded data removed]"
          },
          "metadata": {
            "needs_background": "light"
          }
        }
      ],
      "metadata": {
        "id": "WrAM0FDomq3E",
        "colab": {
          "base_uri": "https://localhost:8080/",
          "height": 677
        },
        "outputId": "1441a3f6-b48f-4970-f372-4c8103bbb4b6"
      }
    },
    {
      "cell_type": "code",
      "execution_count": 46,
      "source": [
        "translate('Я не смогу поехать.')"
      ],
      "outputs": [
        {
          "output_type": "stream",
          "name": "stdout",
          "text": [
            "Input: <start> я не смогу поехать . <end>\n",
            "Predicted translation: i can't go . <end> \n"
          ]
        },
        {
          "output_type": "stream",
          "name": "stderr",
          "text": [
            "<ipython-input-42-ef64c003f9d5>:9: UserWarning: FixedFormatter should only be used together with FixedLocator\n",
            "  ax.set_xticklabels([''] + sentence, fontdict=fontdict, rotation=90)\n",
            "<ipython-input-42-ef64c003f9d5>:10: UserWarning: FixedFormatter should only be used together with FixedLocator\n",
            "  ax.set_yticklabels([''] + predicted_sentence, fontdict=fontdict)\n"
          ]
        },
        {
          "output_type": "display_data",
          "data": {
            "text/plain": [
              "<Figure size 720x720 with 1 Axes>"
            ],
            "image/png": "[encoded data removed]"
          },
          "metadata": {
            "needs_background": "light"
          }
        }
      ],
      "metadata": {
        "id": "5bhFfwcIMX5i",
        "colab": {
          "base_uri": "https://localhost:8080/",
          "height": 615
        },
        "outputId": "7fe0e655-0b2d-4ade-db04-d4c146a80713"
      }
    },
    {
      "cell_type": "code",
      "execution_count": 47,
      "source": [
        "translate(u'Вы еще дома?')"
      ],
      "outputs": [
        {
          "output_type": "stream",
          "name": "stdout",
          "text": [
            "Input: <start> вы еще дома ? <end>\n",
            "Predicted translation: are you still home ? <end> \n"
          ]
        },
        {
          "output_type": "stream",
          "name": "stderr",
          "text": [
            "<ipython-input-42-ef64c003f9d5>:9: UserWarning: FixedFormatter should only be used together with FixedLocator\n",
            "  ax.set_xticklabels([''] + sentence, fontdict=fontdict, rotation=90)\n",
            "<ipython-input-42-ef64c003f9d5>:10: UserWarning: FixedFormatter should only be used together with FixedLocator\n",
            "  ax.set_yticklabels([''] + predicted_sentence, fontdict=fontdict)\n"
          ]
        },
        {
          "output_type": "display_data",
          "data": {
            "text/plain": [
              "<Figure size 720x720 with 1 Axes>"
            ],
            "image/png": "[encoded data removed]"
          },
          "metadata": {
            "needs_background": "light"
          }
        }
      ],
      "metadata": {
        "id": "zSx2iM36EZQZ",
        "colab": {
          "base_uri": "https://localhost:8080/",
          "height": 677
        },
        "outputId": "dbe4427c-3b27-40a5-f3ca-9d29e04b18a2"
      }
    },
    {
      "cell_type": "code",
      "execution_count": 48,
      "source": [
        "translate(u'Вы все еще дома?')"
      ],
      "outputs": [
        {
          "output_type": "stream",
          "name": "stdout",
          "text": [
            "Input: <start> вы все еще дома ? <end>\n",
            "Predicted translation: are you all home ? <end> \n"
          ]
        },
        {
          "output_type": "stream",
          "name": "stderr",
          "text": [
            "<ipython-input-42-ef64c003f9d5>:9: UserWarning: FixedFormatter should only be used together with FixedLocator\n",
            "  ax.set_xticklabels([''] + sentence, fontdict=fontdict, rotation=90)\n",
            "<ipython-input-42-ef64c003f9d5>:10: UserWarning: FixedFormatter should only be used together with FixedLocator\n",
            "  ax.set_yticklabels([''] + predicted_sentence, fontdict=fontdict)\n"
          ]
        },
        {
          "output_type": "display_data",
          "data": {
            "text/plain": [
              "<Figure size 720x720 with 1 Axes>"
            ],
            "image/png": "[encoded data removed]"
          },
          "metadata": {
            "needs_background": "light"
          }
        }
      ],
      "metadata": {
        "id": "A3LLCx3ZE0Ls",
        "colab": {
          "base_uri": "https://localhost:8080/",
          "height": 677
        },
        "outputId": "1549f08a-fef9-4621-aec3-26a38d9a8f54"
      }
    },
    {
      "cell_type": "code",
      "execution_count": 49,
      "source": [
        "translate(u'Попробуй сделать это.')"
      ],
      "outputs": [
        {
          "output_type": "stream",
          "name": "stdout",
          "text": [
            "Input: <start> попробуй сделать это . <end>\n",
            "Predicted translation: try to do it . <end> \n"
          ]
        },
        {
          "output_type": "stream",
          "name": "stderr",
          "text": [
            "<ipython-input-42-ef64c003f9d5>:9: UserWarning: FixedFormatter should only be used together with FixedLocator\n",
            "  ax.set_xticklabels([''] + sentence, fontdict=fontdict, rotation=90)\n",
            "<ipython-input-42-ef64c003f9d5>:10: UserWarning: FixedFormatter should only be used together with FixedLocator\n",
            "  ax.set_yticklabels([''] + predicted_sentence, fontdict=fontdict)\n"
          ]
        },
        {
          "output_type": "display_data",
          "data": {
            "text/plain": [
              "<Figure size 720x720 with 1 Axes>"
            ],
            "image/png": "[encoded data removed]"
          },
          "metadata": {
            "needs_background": "light"
          }
        }
      ],
      "metadata": {
        "id": "DUQVLVqUE1YW",
        "colab": {
          "base_uri": "https://localhost:8080/",
          "height": 691
        },
        "outputId": "386cbb83-4e83-423a-cdee-f4b53d61a457"
      }
    },
    {
      "cell_type": "code",
      "execution_count": 39,
      "source": [
        "translate(u'Я не люблю, когда идет снег.')"
      ],
      "outputs": [
        {
          "output_type": "stream",
          "name": "stdout",
          "text": [
            "Input: <start> я не люблю , когда идет снег . <end>\n",
            "Predicted translation: i don't like snow . <end> \n"
          ]
        },
        {
          "output_type": "stream",
          "name": "stderr",
          "text": [
            "<ipython-input-31-ef64c003f9d5>:9: UserWarning: FixedFormatter should only be used together with FixedLocator\n",
            "  ax.set_xticklabels([''] + sentence, fontdict=fontdict, rotation=90)\n",
            "<ipython-input-31-ef64c003f9d5>:10: UserWarning: FixedFormatter should only be used together with FixedLocator\n",
            "  ax.set_yticklabels([''] + predicted_sentence, fontdict=fontdict)\n"
          ]
        },
        {
          "output_type": "display_data",
          "data": {
            "text/plain": [
              "<Figure size 720x720 with 1 Axes>"
            ],
            "image/png": "[encoded data removed]"
          },
          "metadata": {
            "needs_background": "light"
          }
        }
      ],
      "metadata": {
        "id": "f09_hUFx9EJh",
        "colab": {
          "base_uri": "https://localhost:8080/",
          "height": 525
        },
        "outputId": "0a870a16-883d-45ee-84e3-123f41607bd6"
      }
    },
    {
      "cell_type": "code",
      "execution_count": 40,
      "source": [
        "translate(u'Я никогда такого не делаю.')"
      ],
      "outputs": [
        {
          "output_type": "stream",
          "name": "stdout",
          "text": [
            "Input: <start> я никогда такого не делаю . <end>\n",
            "Predicted translation: i never do that . <end> \n"
          ]
        },
        {
          "output_type": "stream",
          "name": "stderr",
          "text": [
            "<ipython-input-31-ef64c003f9d5>:9: UserWarning: FixedFormatter should only be used together with FixedLocator\n",
            "  ax.set_xticklabels([''] + sentence, fontdict=fontdict, rotation=90)\n",
            "<ipython-input-31-ef64c003f9d5>:10: UserWarning: FixedFormatter should only be used together with FixedLocator\n",
            "  ax.set_yticklabels([''] + predicted_sentence, fontdict=fontdict)\n"
          ]
        },
        {
          "output_type": "display_data",
          "data": {
            "text/plain": [
              "<Figure size 720x720 with 1 Axes>"
            ],
            "image/png": "[encoded data removed]"
          },
          "metadata": {
            "needs_background": "light"
          }
        }
      ],
      "metadata": {
        "id": "e7c5p8rmkHQG",
        "colab": {
          "base_uri": "https://localhost:8080/",
          "height": 627
        },
        "outputId": "b77034fd-d8eb-4755-87f8-5b79861190fd"
      }
    },
    {
      "cell_type": "code",
      "execution_count": 50,
      "source": [
        "translate(u'пытаемся перевести длинное предложение, так как используем внимание.')"
      ],
      "outputs": [
        {
          "output_type": "stream",
          "name": "stdout",
          "text": [
            "Input: <start> пытаемся перевести длинное предложение , так как используем внимание . <end>\n",
            "Predicted translation: i can manage a job . <end> \n"
          ]
        },
        {
          "output_type": "stream",
          "name": "stderr",
          "text": [
            "<ipython-input-42-ef64c003f9d5>:9: UserWarning: FixedFormatter should only be used together with FixedLocator\n",
            "  ax.set_xticklabels([''] + sentence, fontdict=fontdict, rotation=90)\n",
            "<ipython-input-42-ef64c003f9d5>:10: UserWarning: FixedFormatter should only be used together with FixedLocator\n",
            "  ax.set_yticklabels([''] + predicted_sentence, fontdict=fontdict)\n"
          ]
        },
        {
          "output_type": "display_data",
          "data": {
            "text/plain": [
              "<Figure size 720x720 with 1 Axes>"
            ],
            "image/png": "[encoded data removed]"
          },
          "metadata": {
            "needs_background": "light"
          }
        }
      ],
      "metadata": {
        "id": "jdXES85KkTVS"
      }
    },
    {
      "cell_type": "code",
      "execution_count": 54,
      "source": [
        "translate(u'Я могу переводить длинные предложения, это то что я делаю хорошо.')"
      ],
      "outputs": [
        {
          "output_type": "stream",
          "name": "stdout",
          "text": [
            "Input: <start> я могу переводить длинные предложения , это то что я делаю хорошо . <end>\n",
            "Predicted translation: i can be so well . <end> \n"
          ]
        },
        {
          "output_type": "stream",
          "name": "stderr",
          "text": [
            "<ipython-input-42-ef64c003f9d5>:9: UserWarning: FixedFormatter should only be used together with FixedLocator\n",
            "  ax.set_xticklabels([''] + sentence, fontdict=fontdict, rotation=90)\n",
            "<ipython-input-42-ef64c003f9d5>:10: UserWarning: FixedFormatter should only be used together with FixedLocator\n",
            "  ax.set_yticklabels([''] + predicted_sentence, fontdict=fontdict)\n"
          ]
        },
        {
          "output_type": "display_data",
          "data": {
            "text/plain": [
              "<Figure size 720x720 with 1 Axes>"
            ],
            "image/png": "[encoded data removed]"
          },
          "metadata": {
            "needs_background": "light"
          }
        }
      ],
      "metadata": {}
    },
    {
      "cell_type": "code",
      "execution_count": 55,
      "source": [
        "translate(u'длинные предложения не для меня.')"
      ],
      "outputs": [
        {
          "output_type": "stream",
          "name": "stdout",
          "text": [
            "Input: <start> длинные предложения не для меня . <end>\n",
            "Predicted translation: happy is mine . <end> \n"
          ]
        },
        {
          "output_type": "stream",
          "name": "stderr",
          "text": [
            "<ipython-input-42-ef64c003f9d5>:9: UserWarning: FixedFormatter should only be used together with FixedLocator\n",
            "  ax.set_xticklabels([''] + sentence, fontdict=fontdict, rotation=90)\n",
            "<ipython-input-42-ef64c003f9d5>:10: UserWarning: FixedFormatter should only be used together with FixedLocator\n",
            "  ax.set_yticklabels([''] + predicted_sentence, fontdict=fontdict)\n"
          ]
        },
        {
          "output_type": "display_data",
          "data": {
            "text/plain": [
              "<Figure size 720x720 with 1 Axes>"
            ],
            "image/png": "[encoded data removed]"
          },
          "metadata": {
            "needs_background": "light"
          }
        }
      ],
      "metadata": {}
    },
    {
      "cell_type": "code",
      "execution_count": 58,
      "source": [
        "translate(u'Как дела?')"
      ],
      "outputs": [
        {
          "output_type": "stream",
          "name": "stdout",
          "text": [
            "Input: <start> как дела ? <end>\n",
            "Predicted translation: how're you ? <end> \n"
          ]
        },
        {
          "output_type": "stream",
          "name": "stderr",
          "text": [
            "<ipython-input-42-ef64c003f9d5>:9: UserWarning: FixedFormatter should only be used together with FixedLocator\n",
            "  ax.set_xticklabels([''] + sentence, fontdict=fontdict, rotation=90)\n",
            "<ipython-input-42-ef64c003f9d5>:10: UserWarning: FixedFormatter should only be used together with FixedLocator\n",
            "  ax.set_yticklabels([''] + predicted_sentence, fontdict=fontdict)\n"
          ]
        },
        {
          "output_type": "display_data",
          "data": {
            "text/plain": [
              "<Figure size 720x720 with 1 Axes>"
            ],
            "image/png": "[encoded data removed]"
          },
          "metadata": {
            "needs_background": "light"
          }
        }
      ],
      "metadata": {}
    },
    {
      "cell_type": "markdown",
      "source": [
        "Не совсем понимаю в чем преимущество, как не умел переводить длинные предложения так и не умеет."
      ],
      "metadata": {}
    }
  ]
}