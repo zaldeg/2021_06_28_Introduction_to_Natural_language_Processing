{
 "cells": [
  {
   "cell_type": "markdown",
   "source": [
    "# Рекурентные сети для обработки последовательностей\n",
    "\n",
    "Вспомним все, что мы уже знаем про обработку текстов:\n",
    "- Компьютер не понимает текст, поэтому нам нужно его как-то закодировать - представить в виде вектора\n",
    "- В тексте много повторяющихся слов/лишний слов - нужно сделать препроцессинг:\n",
    "    - удалить знаки препинания\n",
    "    - удалить стоп-слова\n",
    "    - привести слова к начальной форме (**стемминг** и **лемматизация**)\n",
    "    - ???\n",
    "    \n",
    "    \n",
    "- После этого мы можем представить наш текст (набор слов) в виде вектора, например, стандартными способами:\n",
    "    - **CounterEncoding** - вектор длины размер нашего словаря\n",
    "        - есть словарь vocab, который можем включать слова, ngram-ы\n",
    "        - каждому документу $doc$ ставим в соответствие вектор $vec\\ :\\ vec[i]=1,\\ если\\ vocab[i]\\ \\in\\ doc$\n",
    "    - **HashingVectorizer** - вектор заранее заданной длины\n",
    "        - каждому документу $doc$ ставим в соответствие вектор $vec\\ :\\ vec[i]=1,\\ если\\ \\exists\\ txt\\ \\in\\ doc:\\ hash(text)\\ =\\ i$\n",
    "    - **TfIdfVectorizer** - вектор длины размер нашего словаря\n",
    "        - есть словарь vocab, который можем включать слова, ngram-ы\n",
    "        - каждому документу $doc$ ставим в соответствие вектор $vec\\ :\\ vec[i]=tf(vocab[i])*idf(vocab[i]),\\ если\\ vocab[i]\\ \\in\\ doc$\n",
    "    \n",
    "        $$ tf(t,\\ d)\\ =\\ \\frac{n_t}{\\sum_kn_k} $$\n",
    "        $$ idf(t,\\ D)\\ =\\ \\log\\frac{|D|}{|\\{d_i\\ \\in\\ D|t\\ \\in\\ D\\}|} $$\n",
    "        \n",
    ", где \n",
    "- $n_t$ - число вхождений слова $t$ в документ, а в знаменателе — общее число слов в данном документе\n",
    "- $|D|$ — число документов в коллекции;\n",
    "- $|\\{d_i\\ \\in\\ D\\mid\\ t\\in d_i\\}|$— число документов из коллекции $D$, в которых встречается $t$ (когда $n_t\\ \\neq\\ 0$).\n",
    "\n",
    "\n",
    "\n",
    "Это база и она работает. Мы изучили более продвинутые подходы: эмбединги и сверточные сети по эмбедингам. Но тут есть проблема: любой текст - это последовательность, ни эмбединги, ни сверточные сети не работают с ним как с последовательностью. Так давайте попробуем придумать архитектуру, которая будет работать с текстом как с последовательностью, двигаясь по эмбедингам и как-то меняя их значения."
   ],
   "metadata": {}
  },
  {
   "cell_type": "markdown",
   "source": [
    "## Придумаем сами архитектуру, чтобы работать с последовательностями\n",
    "\n",
    "Возьмем перцептрон с входом - эмбедингом слова (пусть пока он фиксированный) и будем пытаться классифицировать каждое слово.\n",
    "\n",
    "Почему классифицировать? потому что это частая задача в обработке языка + это дает возможность генерировать текст (просто классифицируем на кол-во классов = кол-ву слов в словаре).\n",
    "\n",
    "<img src=\"images/Single_layer_perceptron.png\">\n",
    "\n",
    "Какая тут последовательность? никакой, но давайте на вход подавать эмбединг, но в 1 скрытый слой будем добавлять последний скрытый слой предыдущего шага)\n",
    "\n",
    "<img src=\"images/Rnnbr.png\">\n",
    "\n",
    "То есть мы прокидываем информацию с предыдущего шага, а за счет того, что мы все время так стекаем вектора мы получаем то, что информация проходит через текст от начала до конца. Что делать с 1 шагом? -> Добавим вектор из нулей. И вот мы получили первую рекурентную сеть. Чаще её рисуют следующим образом:\n",
    "\n",
    "\n",
    "<img src=\"images/Rnn.png\">\n",
    "\n",
    "Итак, мы придумали простую рекуретную сеть. Последний открытый вопрос как её обучать?\n",
    "\n",
    "Все также, градиентным спуском, нам нужно двигаться во времени и обновлять параметры, поэтому обучение таких сетей занимает очень много времени (вы не можете обновить веса для 1-го токена, пока не посчитаете градиент сквозь время).\n",
    "\n",
    "\n",
    "Что делать, если мы хотим классифицировать текст целиком? оставить только последний выход!\n",
    "\n",
    "<img src=\"images/RnnTasks.png\">"
   ],
   "metadata": {}
  },
  {
   "cell_type": "code",
   "execution_count": 1,
   "source": [
    "# попробуем запрограммировать простую рекурентную сеть. Возьмем датасет с прошлого занятия\r\n",
    "\r\n",
    "import pandas as pd\r\n",
    "from string import punctuation\r\n",
    "from stop_words import get_stop_words\r\n",
    "from pymorphy2 import MorphAnalyzer\r\n",
    "import re\r\n",
    "\r\n",
    "df_train = pd.read_csv(\"data/train.csv\")\r\n",
    "df_test = pd.read_csv(\"data/test.csv\")\r\n",
    "df_val = pd.read_csv(\"data/val.csv\")\r\n",
    "\r\n"
   ],
   "outputs": [],
   "metadata": {}
  },
  {
   "cell_type": "code",
   "execution_count": 2,
   "source": [
    "df_train.head()"
   ],
   "outputs": [
    {
     "output_type": "execute_result",
     "data": {
      "text/plain": [
       "   id                                               text  class\n",
       "0   0  @alisachachka не уезжаааааааай. :(❤ я тоже не ...      0\n",
       "1   1  RT @GalyginVadim: Ребята и девчата!\\nВсе в кин...      1\n",
       "2   2  RT @ARTEM_KLYUSHIN: Кто ненавидит пробки ретви...      0\n",
       "3   3  RT @epupybobv: Хочется котлету по-киевски. Зап...      1\n",
       "4   4  @KarineKurganova @Yess__Boss босапопа есбоса н...      1"
      ],
      "text/html": [
       "<div>\n",
       "<style scoped>\n",
       "    .dataframe tbody tr th:only-of-type {\n",
       "        vertical-align: middle;\n",
       "    }\n",
       "\n",
       "    .dataframe tbody tr th {\n",
       "        vertical-align: top;\n",
       "    }\n",
       "\n",
       "    .dataframe thead th {\n",
       "        text-align: right;\n",
       "    }\n",
       "</style>\n",
       "<table border=\"1\" class=\"dataframe\">\n",
       "  <thead>\n",
       "    <tr style=\"text-align: right;\">\n",
       "      <th></th>\n",
       "      <th>id</th>\n",
       "      <th>text</th>\n",
       "      <th>class</th>\n",
       "    </tr>\n",
       "  </thead>\n",
       "  <tbody>\n",
       "    <tr>\n",
       "      <th>0</th>\n",
       "      <td>0</td>\n",
       "      <td>@alisachachka не уезжаааааааай. :(❤ я тоже не ...</td>\n",
       "      <td>0</td>\n",
       "    </tr>\n",
       "    <tr>\n",
       "      <th>1</th>\n",
       "      <td>1</td>\n",
       "      <td>RT @GalyginVadim: Ребята и девчата!\\nВсе в кин...</td>\n",
       "      <td>1</td>\n",
       "    </tr>\n",
       "    <tr>\n",
       "      <th>2</th>\n",
       "      <td>2</td>\n",
       "      <td>RT @ARTEM_KLYUSHIN: Кто ненавидит пробки ретви...</td>\n",
       "      <td>0</td>\n",
       "    </tr>\n",
       "    <tr>\n",
       "      <th>3</th>\n",
       "      <td>3</td>\n",
       "      <td>RT @epupybobv: Хочется котлету по-киевски. Зап...</td>\n",
       "      <td>1</td>\n",
       "    </tr>\n",
       "    <tr>\n",
       "      <th>4</th>\n",
       "      <td>4</td>\n",
       "      <td>@KarineKurganova @Yess__Boss босапопа есбоса н...</td>\n",
       "      <td>1</td>\n",
       "    </tr>\n",
       "  </tbody>\n",
       "</table>\n",
       "</div>"
      ]
     },
     "metadata": {},
     "execution_count": 2
    }
   ],
   "metadata": {}
  },
  {
   "cell_type": "code",
   "execution_count": 3,
   "source": [
    "sw = set(get_stop_words(\"ru\"))\r\n",
    "exclude = set(punctuation)\r\n",
    "morpher = MorphAnalyzer()\r\n",
    "\r\n",
    "def preprocess_text(txt):\r\n",
    "    txt = str(txt)\r\n",
    "    txt = \"\".join(c for c in txt if c not in exclude)\r\n",
    "    txt = txt.lower()\r\n",
    "    txt = re.sub(\"\\sне\", \"не\", txt)\r\n",
    "    txt = [morpher.parse(word)[0].normal_form for word in txt.split() if word not in sw]\r\n",
    "    return \" \".join(txt)\r\n",
    "\r\n",
    "df_train['text'] = df_train['text'].apply(preprocess_text)\r\n",
    "df_val['text'] = df_val['text'].apply(preprocess_text)\r\n",
    "df_test['text'] = df_test['text'].apply(preprocess_text)"
   ],
   "outputs": [],
   "metadata": {}
  },
  {
   "cell_type": "code",
   "execution_count": 4,
   "source": [
    "import numpy as np\r\n",
    "import keras\r\n",
    "from keras.models import Sequential, Model\r\n",
    "from keras.layers import Dense, Dropout, Activation, Input, Embedding, Conv1D, GlobalMaxPool1D, SimpleRNN, LSTM, GRU, Masking\r\n",
    "from keras.preprocessing.text import Tokenizer\r\n",
    "from keras.preprocessing.sequence import pad_sequences\r\n",
    "from keras.callbacks import TensorBoard \r\n",
    "from keras.metrics import categorical_crossentropy\r\n",
    "from keras.callbacks import EarlyStopping  "
   ],
   "outputs": [],
   "metadata": {}
  },
  {
   "cell_type": "code",
   "execution_count": 5,
   "source": [
    "text_corpus_train = df_train['text'].values\r\n",
    "text_corpus_valid = df_val['text'].values\r\n",
    "text_corpus_test = df_test['text'].values"
   ],
   "outputs": [],
   "metadata": {}
  },
  {
   "cell_type": "code",
   "execution_count": 6,
   "source": [
    "tokenizer = Tokenizer(num_words=None, \r\n",
    "                     filters='#$%&()*+-<=>@[\\\\]^_`{|}~\\t\\n',\r\n",
    "                     lower = False, split = ' ')\r\n",
    "tokenizer.fit_on_texts(text_corpus_train)\r\n",
    "\r\n",
    "sequences_train = tokenizer.texts_to_sequences(text_corpus_train)\r\n",
    "sequences_val = tokenizer.texts_to_sequences(text_corpus_valid)\r\n",
    "sequences_test = tokenizer.texts_to_sequences(text_corpus_test)\r\n",
    "\r\n",
    "word_count = len(tokenizer.index_word) + 1\r\n",
    "training_length = max([len(i.split()) for i in text_corpus_train])\r\n",
    "\r\n",
    "X_train = pad_sequences(sequences_train, maxlen=training_length)\r\n",
    "X_valid = pad_sequences(sequences_val, maxlen=training_length)\r\n",
    "\r\n"
   ],
   "outputs": [],
   "metadata": {}
  },
  {
   "cell_type": "code",
   "execution_count": 7,
   "source": [
    "y_train = df_train['class'].values\r\n",
    "y_val = df_val['class'].values"
   ],
   "outputs": [],
   "metadata": {}
  },
  {
   "cell_type": "code",
   "execution_count": 8,
   "source": [
    "model = Sequential()\r\n",
    "\r\n",
    "model.add(\r\n",
    "    Embedding(input_dim=word_count,\r\n",
    "              input_length=training_length,\r\n",
    "              output_dim=30,\r\n",
    "              trainable=True,\r\n",
    "              mask_zero=True))\r\n",
    "model.add(Masking(mask_value=0.0))\r\n",
    "\r\n",
    "model.add(SimpleRNN(64))\r\n",
    "model.add(Dense(64, activation='relu'))\r\n",
    "model.add(Dropout(0.5))\r\n",
    "model.add(Dense(1, activation='sigmoid'))\r\n",
    "\r\n",
    "model.compile(\r\n",
    "    optimizer='adam', loss='binary_crossentropy', metrics=['accuracy'])"
   ],
   "outputs": [],
   "metadata": {}
  },
  {
   "cell_type": "code",
   "execution_count": 9,
   "source": [
    "early_stopping=EarlyStopping(monitor='val_loss')  \r\n",
    "\r\n",
    "\r\n",
    "history = model.fit(X_train, y_train,\r\n",
    "                    batch_size=512,\r\n",
    "                    epochs=10,\r\n",
    "                    verbose=1,\r\n",
    "                    validation_split=0.1,\r\n",
    "                    callbacks=[early_stopping])"
   ],
   "outputs": [
    {
     "output_type": "stream",
     "name": "stdout",
     "text": [
      "Epoch 1/10\n",
      "319/319 [==============================] - 77s 179ms/step - loss: 0.6174 - accuracy: 0.6339 - val_loss: 0.4942 - val_accuracy: 0.7548\n"
     ]
    }
   ],
   "metadata": {}
  },
  {
   "cell_type": "code",
   "execution_count": 10,
   "source": [
    "score = model.evaluate(X_valid, y_val, batch_size=512, verbose=1)\r\n",
    "print('\\n')\r\n",
    "print('Test score:', score[0])\r\n",
    "print('Test accuracy:', score[1])"
   ],
   "outputs": [
    {
     "output_type": "stream",
     "name": "stdout",
     "text": [
      "45/45 [==============================] - 1s 13ms/step - loss: 0.5041 - accuracy: 0.7442\n",
      "\n",
      "\n",
      "Test score: 0.5041163563728333\n",
      "Test accuracy: 0.7441696524620056\n"
     ]
    }
   ],
   "metadata": {}
  },
  {
   "cell_type": "markdown",
   "source": [
    "# Какие проблемы у рекурентных сетей?\n",
    "\n",
    "- затухают градиенты\n",
    "- медленно, нужно всегда дойти до конца\n",
    "\n",
    "Как решить? -> LSTM\n",
    "\n",
    "\n",
    "<img src=\"images/lstm.png\">\n",
    "\n",
    "\n",
    "https://colah.github.io/posts/2015-08-Understanding-LSTMs/\n",
    "\n",
    "\n",
    "Давайте, кратко посмотрим как это работает:\n",
    "\n",
    "\n",
    "<img src=\"images/LSTMMaths.png\">"
   ],
   "metadata": {}
  },
  {
   "cell_type": "code",
   "execution_count": 11,
   "source": [
    "model = Sequential()\r\n",
    "\r\n",
    "model.add(\r\n",
    "    Embedding(input_dim=word_count,\r\n",
    "              input_length=training_length,\r\n",
    "              output_dim=30,\r\n",
    "              trainable=True,\r\n",
    "              mask_zero=True))\r\n",
    "model.add(Masking(mask_value=0.0))\r\n",
    "model.add(LSTM(64, recurrent_dropout=0.2))\r\n",
    "model.add(Dense(64, activation='relu'))\r\n",
    "model.add(Dropout(0.5))\r\n",
    "model.add(Dense(1, activation='sigmoid'))\r\n",
    "\r\n",
    "model.compile(\r\n",
    "    optimizer='adam', loss='binary_crossentropy', metrics=['accuracy'])\r\n",
    "\r\n",
    "early_stopping=EarlyStopping(monitor='val_loss')  \r\n",
    "\r\n",
    "\r\n",
    "history = model.fit(X_train, y_train,\r\n",
    "                    batch_size=512,\r\n",
    "                    epochs=10,\r\n",
    "                    verbose=1,\r\n",
    "                    validation_split=0.1,\r\n",
    "                    callbacks=[early_stopping])"
   ],
   "outputs": [
    {
     "output_type": "stream",
     "name": "stdout",
     "text": [
      "WARNING:tensorflow:Layer lstm will not use cuDNN kernels since it doesn't meet the criteria. It will use a generic GPU kernel as fallback when running on GPU.\n",
      "Epoch 1/10\n",
      "319/319 [==============================] - 136s 409ms/step - loss: 0.6145 - accuracy: 0.6447 - val_loss: 0.4936 - val_accuracy: 0.7546\n"
     ]
    }
   ],
   "metadata": {}
  },
  {
   "cell_type": "code",
   "execution_count": 12,
   "source": [
    "score = model.evaluate(X_valid, y_val, batch_size=512, verbose=1)\r\n",
    "print('\\n')\r\n",
    "print('Test score:', score[0])\r\n",
    "print('Test accuracy:', score[1])"
   ],
   "outputs": [
    {
     "output_type": "stream",
     "name": "stdout",
     "text": [
      "45/45 [==============================] - 1s 32ms/step - loss: 0.5102 - accuracy: 0.7413\n",
      "\n",
      "\n",
      "Test score: 0.5101515650749207\n",
      "Test accuracy: 0.741348147392273\n"
     ]
    }
   ],
   "metadata": {}
  },
  {
   "cell_type": "markdown",
   "source": [
    "# Какие проблемы:\n",
    "\n",
    "- вычислительно сложно -> медленнее\n",
    "- на очень длинных последовательностях все равно затухает градиент\n",
    "\n",
    "\n",
    "Зачем платить больше - уберем некоторые врата (точнее совместим) -> ускоримся, уменьшим число параметров -> GRU\n",
    "\n",
    "\n",
    "<img src=\"images/gru.png\">\n",
    "\n",
    "\n",
    "GRU Math\n",
    "\n",
    "\n",
    "<img src=\"images/GRUMath.png\">\n"
   ],
   "metadata": {}
  },
  {
   "cell_type": "code",
   "execution_count": 13,
   "source": [
    "model = Sequential()\r\n",
    "\r\n",
    "model.add(\r\n",
    "    Embedding(input_dim=word_count,\r\n",
    "              input_length=training_length,\r\n",
    "              output_dim=30,\r\n",
    "              trainable=True,\r\n",
    "              mask_zero=True))\r\n",
    "model.add(Masking(mask_value=0.0))\r\n",
    "model.add(GRU(64, recurrent_dropout=0.2))\r\n",
    "model.add(Dense(64, activation='relu'))\r\n",
    "model.add(Dropout(0.5))\r\n",
    "model.add(Dense(1, activation='sigmoid'))\r\n",
    "\r\n",
    "model.compile(\r\n",
    "    optimizer='adam', loss='binary_crossentropy', metrics=['accuracy'])\r\n",
    "\r\n",
    "early_stopping=EarlyStopping(monitor='val_loss')  \r\n",
    "\r\n",
    "\r\n",
    "history = model.fit(X_train, y_train,\r\n",
    "                    batch_size=512,\r\n",
    "                    epochs=10,\r\n",
    "                    verbose=1,\r\n",
    "                    validation_split=0.1,\r\n",
    "                    callbacks=[early_stopping])"
   ],
   "outputs": [
    {
     "output_type": "stream",
     "name": "stdout",
     "text": [
      "WARNING:tensorflow:Layer gru will not use cuDNN kernels since it doesn't meet the criteria. It will use a generic GPU kernel as fallback when running on GPU.\n",
      "Epoch 1/10\n",
      "319/319 [==============================] - 120s 361ms/step - loss: 0.6070 - accuracy: 0.6516 - val_loss: 0.4896 - val_accuracy: 0.7546\n"
     ]
    }
   ],
   "metadata": {}
  },
  {
   "cell_type": "code",
   "execution_count": 14,
   "source": [
    "score = model.evaluate(X_valid, y_val, batch_size=512, verbose=1)\r\n",
    "print('\\n')\r\n",
    "print('Test score:', score[0])\r\n",
    "print('Test accuracy:', score[1])"
   ],
   "outputs": [
    {
     "output_type": "stream",
     "name": "stdout",
     "text": [
      "45/45 [==============================] - 1s 30ms/step - loss: 0.5167 - accuracy: 0.7417\n",
      "\n",
      "\n",
      "Test score: 0.5167356133460999\n",
      "Test accuracy: 0.7416567206382751\n"
     ]
    }
   ],
   "metadata": {}
  },
  {
   "cell_type": "markdown",
   "source": [
    "3 подхода:\n",
    "\n",
    "<img src=\"images/RNNCompar.png\">\n",
    "\n",
    "\n",
    "Как регуляризовать?\n",
    "- дропаут\n",
    "- рекурентный дропаут\n",
    "\n",
    "\n",
    "<img src=\"images/Dropouts.png\">"
   ],
   "metadata": {}
  },
  {
   "cell_type": "code",
   "execution_count": 16,
   "source": [
    "import tensorflow as tf\r\n",
    "num_classes = len(np.unique(y_train))\r\n",
    "y_train_cnn = tf.keras.utils.to_categorical(df_train[\"class\"], num_classes)\r\n"
   ],
   "outputs": [
    {
     "output_type": "error",
     "ename": "NameError",
     "evalue": "name 'num_classes' is not defined",
     "traceback": [
      "\u001b[1;31m---------------------------------------------------------------------------\u001b[0m",
      "\u001b[1;31mNameError\u001b[0m                                 Traceback (most recent call last)",
      "\u001b[1;32m<ipython-input-16-d7c927c817b8>\u001b[0m in \u001b[0;36m<module>\u001b[1;34m\u001b[0m\n\u001b[0;32m      1\u001b[0m \u001b[1;32mimport\u001b[0m \u001b[0mtensorflow\u001b[0m \u001b[1;32mas\u001b[0m \u001b[0mtf\u001b[0m\u001b[1;33m\u001b[0m\u001b[1;33m\u001b[0m\u001b[0m\n\u001b[1;32m----> 2\u001b[1;33m \u001b[0my_train_cnn\u001b[0m \u001b[1;33m=\u001b[0m \u001b[0mtf\u001b[0m\u001b[1;33m.\u001b[0m\u001b[0mkeras\u001b[0m\u001b[1;33m.\u001b[0m\u001b[0mutils\u001b[0m\u001b[1;33m.\u001b[0m\u001b[0mto_categorical\u001b[0m\u001b[1;33m(\u001b[0m\u001b[0mdf_train\u001b[0m\u001b[1;33m[\u001b[0m\u001b[1;34m\"class\"\u001b[0m\u001b[1;33m]\u001b[0m\u001b[1;33m,\u001b[0m \u001b[0mnum_classes\u001b[0m\u001b[1;33m)\u001b[0m\u001b[1;33m\u001b[0m\u001b[1;33m\u001b[0m\u001b[0m\n\u001b[0m",
      "\u001b[1;31mNameError\u001b[0m: name 'num_classes' is not defined"
     ]
    }
   ],
   "metadata": {}
  },
  {
   "cell_type": "code",
   "execution_count": null,
   "source": [
    "model = Sequential()\r\n",
    "model.add(Embedding(\r\n",
    "    input_dim=word_count, \r\n",
    "    output_dim=128, \r\n",
    "    input_length=training_length\r\n",
    "    ))\r\n",
    "model.add(Conv1D(128, 5))\r\n",
    "model.add(Activation(\"relu\"))\r\n",
    "model.add(GlobalMaxPool1D())\r\n",
    "\r\n",
    "# model.add(Dense(1))\r\n",
    "# model.add(Activation(\"relu\"))\r\n",
    "model.add(Dense(num_classes))\r\n",
    "model.add(Activation('softmax'))\r\n",
    "model.summary()"
   ],
   "outputs": [
    {
     "output_type": "stream",
     "name": "stdout",
     "text": [
      "Model: \"sequential_9\"\n",
      "_________________________________________________________________\n",
      "Layer (type)                 Output Shape              Param #   \n",
      "=================================================================\n",
      "embedding_8 (Embedding)      (None, 27, 128)           33037824  \n",
      "_________________________________________________________________\n",
      "conv1d_8 (Conv1D)            (None, 23, 128)           82048     \n",
      "_________________________________________________________________\n",
      "activation_15 (Activation)   (None, 23, 128)           0         \n",
      "_________________________________________________________________\n",
      "global_max_pooling1d_8 (Glob (None, 128)               0         \n",
      "_________________________________________________________________\n",
      "dense_7 (Dense)              (None, 2)                 258       \n",
      "_________________________________________________________________\n",
      "activation_16 (Activation)   (None, 2)                 0         \n",
      "=================================================================\n",
      "Total params: 33,120,130\n",
      "Trainable params: 33,120,130\n",
      "Non-trainable params: 0\n",
      "_________________________________________________________________\n"
     ]
    }
   ],
   "metadata": {}
  },
  {
   "cell_type": "code",
   "execution_count": null,
   "source": [
    "y_train_cnn"
   ],
   "outputs": [
    {
     "output_type": "execute_result",
     "data": {
      "text/plain": [
       "array([[1., 0.],\n",
       "       [0., 1.],\n",
       "       [1., 0.],\n",
       "       ...,\n",
       "       [1., 0.],\n",
       "       [0., 1.],\n",
       "       [0., 1.]], dtype=float32)"
      ]
     },
     "metadata": {},
     "execution_count": 43
    }
   ],
   "metadata": {}
  },
  {
   "cell_type": "code",
   "execution_count": null,
   "source": [
    "model.compile(\r\n",
    "    loss='categorical_crossentropy',\r\n",
    "    optimizer='adam',\r\n",
    "    metrics=['accuracy']\r\n",
    ")"
   ],
   "outputs": [],
   "metadata": {}
  },
  {
   "cell_type": "code",
   "execution_count": null,
   "source": [
    "batch_size = 512\r\n",
    "epochs = 5"
   ],
   "outputs": [],
   "metadata": {}
  },
  {
   "cell_type": "code",
   "execution_count": null,
   "source": [
    "tensorboard=TensorBoard(log_dir='./logs', write_graph=True, write_images=True)\r\n",
    "early_stopping=EarlyStopping(monitor='val_loss')  \r\n",
    "\r\n",
    "\r\n",
    "history = model.fit(X_train, y_train_cnn,\r\n",
    "                    batch_size=batch_size,\r\n",
    "                    epochs=epochs,\r\n",
    "                    verbose=1,\r\n",
    "                    validation_split=0.1,\r\n",
    "                    callbacks=[tensorboard, early_stopping])"
   ],
   "outputs": [
    {
     "output_type": "stream",
     "name": "stdout",
     "text": [
      "Epoch 1/5\n",
      "319/319 [==============================] - 111s 347ms/step - loss: 0.5195 - accuracy: 0.7345 - val_loss: 0.4844 - val_accuracy: 0.7571\n"
     ]
    }
   ],
   "metadata": {}
  },
  {
   "cell_type": "markdown",
   "source": [
    "Cnn отрабатывает более эффективно на этом датасете, во всфком случае при этих настройках. А так скорей всего все зависит от типа данных."
   ],
   "metadata": {}
  }
 ],
 "metadata": {
  "kernelspec": {
   "name": "python3",
   "display_name": "Python 3.9.5 64-bit"
  },
  "language_info": {
   "codemirror_mode": {
    "name": "ipython",
    "version": 3
   },
   "file_extension": ".py",
   "mimetype": "text/x-python",
   "name": "python",
   "nbconvert_exporter": "python",
   "pygments_lexer": "ipython3",
   "version": "3.9.5"
  },
  "interpreter": {
   "hash": "c68a8b1bf4a04bee7e9786f78bb8ba03908cb212d85345a4f972855f793e8b9a"
  }
 },
 "nbformat": 4,
 "nbformat_minor": 2
}